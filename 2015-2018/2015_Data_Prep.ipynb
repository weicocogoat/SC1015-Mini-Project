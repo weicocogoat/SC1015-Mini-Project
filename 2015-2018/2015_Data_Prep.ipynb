{
 "cells": [
  {
   "cell_type": "code",
   "execution_count": 1,
   "metadata": {
    "collapsed": true
   },
   "outputs": [],
   "source": [
    "import pandas as pd"
   ]
  },
  {
   "cell_type": "markdown",
   "metadata": {
    "collapsed": false,
    "pycharm": {
     "name": "#%% md\n"
    }
   },
   "source": [
    "# 1. Data Preparation\n",
    "## 1.1 Import Data"
   ]
  },
  {
   "cell_type": "code",
   "execution_count": 2,
   "metadata": {
    "collapsed": false,
    "pycharm": {
     "name": "#%%\n"
    }
   },
   "outputs": [
    {
     "data": {
      "text/plain": "     Symbol       Revenue  Revenue Growth  Cost of Revenue  Gross Profit  \\\n0        PG  7.074900e+10         -0.0491     3.705600e+10  3.369300e+10   \n1      VIPS  6.193685e+09          0.6587     4.669038e+09  1.524648e+09   \n2        KR  1.084650e+11          0.1026     8.551200e+10  2.295300e+10   \n3       RAD  2.652838e+10          0.0393     1.895164e+10  7.576732e+09   \n4       GIS  1.763030e+10         -0.0156     1.168110e+10  5.949200e+09   \n...     ...           ...             ...              ...           ...   \n4115   TSRI  5.740290e+07          0.1590     4.808743e+07  9.315468e+06   \n4116   TZOO  1.239610e+08         -0.1911     1.814800e+07  1.058130e+08   \n4117  USATP  5.800000e+07             NaN     4.100000e+07  1.700000e+07   \n4118   WSTG  3.820900e+08          0.1213     3.555170e+08  2.657300e+07   \n4119    WTT  3.310911e+07         -0.1792     1.828123e+07  1.482787e+07   \n\n      R&D Expenses  SG&A Expense  Operating Expenses  Operating Income  \\\n0     0.000000e+00  2.061600e+10        2.264400e+10      1.104900e+10   \n1     1.658481e+08  5.223879e+08        1.205660e+09      3.189877e+08   \n2     0.000000e+00  1.716100e+10        1.981600e+10      3.137000e+09   \n3     0.000000e+00  6.695642e+09        6.733788e+09      8.429440e+08   \n4     0.000000e+00  3.328000e+09        3.871900e+09      2.077300e+09   \n...            ...           ...                 ...               ...   \n4115  0.000000e+00  8.883003e+06        8.883003e+06      4.324650e+05   \n4116  1.221400e+07  8.977900e+07        1.019930e+08      3.820000e+06   \n4117           NaN  1.600000e+07        1.700000e+07     -0.000000e+00   \n4118  0.000000e+00  1.806300e+07        1.806300e+07      8.510000e+06   \n4119  3.957274e+06  1.012356e+07        1.408084e+07      7.470390e+05   \n\n      Interest Expense  ...  Receivables growth  Inventory Growth  \\\n0         6.260000e+08  ...             -0.2847           -0.2634   \n1         1.321245e+07  ...             28.6759            0.2144   \n2         4.880000e+08  ...              0.1344            0.0065   \n3         3.976120e+08  ...              0.0336           -0.0371   \n4         3.154000e+08  ...             -0.0653           -0.0119   \n...                ...  ...                 ...               ...   \n4115      0.000000e+00  ...             -0.0048            0.0000   \n4116      0.000000e+00  ...              0.0170            0.0000   \n4117      0.000000e+00  ...                 NaN               NaN   \n4118     -3.680000e+05  ...             -0.0306            0.3105   \n4119      0.000000e+00  ...              0.0675           -0.0553   \n\n      Asset Growth  Book Value per Share Growth  Debt Growth  \\\n0          -0.1024                      -0.1013      -0.1432   \n1           0.1279                       0.2946       0.0281   \n2           0.0415                       0.0535       0.0254   \n3           0.2639                       1.0266      -0.0344   \n4          -0.0568                      -0.2118       0.0462   \n...            ...                          ...          ...   \n4115        0.0360                       0.0220       0.0000   \n4116       -0.2650                      -0.4011       4.6580   \n4117           NaN                          NaN          NaN   \n4118       -0.0095                      -0.0173       0.0000   \n4119       -0.0436                       0.0347       1.3011   \n\n      R&D Expense Growth  SG&A Expenses Growth              Sector  \\\n0                 0.0000               -0.0394  Consumer Defensive   \n1                 0.5309                0.5179  Consumer Defensive   \n2                 0.0000                0.1293  Consumer Defensive   \n3                 0.0000                0.0205  Consumer Defensive   \n4                 0.0000               -0.0421  Consumer Defensive   \n...                  ...                   ...                 ...   \n4115              0.0000                0.0763          Technology   \n4116              0.0784               -0.2021          Technology   \n4117                 NaN                   NaN          Technology   \n4118              0.0000                0.0939          Technology   \n4119              0.1708               -0.0784          Technology   \n\n      PRICE VAR [%]  Class  \n0         10.809451      1  \n1        -21.637010      0  \n2        -15.036503      0  \n3          4.303799      1  \n4         10.693172      1  \n...             ...    ...  \n4115      33.101842      1  \n4116      13.801445      1  \n4117      34.769228      1  \n4118       6.050663      1  \n4119      17.177912      1  \n\n[4120 rows x 225 columns]",
      "text/html": "<div>\n<style scoped>\n    .dataframe tbody tr th:only-of-type {\n        vertical-align: middle;\n    }\n\n    .dataframe tbody tr th {\n        vertical-align: top;\n    }\n\n    .dataframe thead th {\n        text-align: right;\n    }\n</style>\n<table border=\"1\" class=\"dataframe\">\n  <thead>\n    <tr style=\"text-align: right;\">\n      <th></th>\n      <th>Symbol</th>\n      <th>Revenue</th>\n      <th>Revenue Growth</th>\n      <th>Cost of Revenue</th>\n      <th>Gross Profit</th>\n      <th>R&amp;D Expenses</th>\n      <th>SG&amp;A Expense</th>\n      <th>Operating Expenses</th>\n      <th>Operating Income</th>\n      <th>Interest Expense</th>\n      <th>...</th>\n      <th>Receivables growth</th>\n      <th>Inventory Growth</th>\n      <th>Asset Growth</th>\n      <th>Book Value per Share Growth</th>\n      <th>Debt Growth</th>\n      <th>R&amp;D Expense Growth</th>\n      <th>SG&amp;A Expenses Growth</th>\n      <th>Sector</th>\n      <th>PRICE VAR [%]</th>\n      <th>Class</th>\n    </tr>\n  </thead>\n  <tbody>\n    <tr>\n      <th>0</th>\n      <td>PG</td>\n      <td>7.074900e+10</td>\n      <td>-0.0491</td>\n      <td>3.705600e+10</td>\n      <td>3.369300e+10</td>\n      <td>0.000000e+00</td>\n      <td>2.061600e+10</td>\n      <td>2.264400e+10</td>\n      <td>1.104900e+10</td>\n      <td>6.260000e+08</td>\n      <td>...</td>\n      <td>-0.2847</td>\n      <td>-0.2634</td>\n      <td>-0.1024</td>\n      <td>-0.1013</td>\n      <td>-0.1432</td>\n      <td>0.0000</td>\n      <td>-0.0394</td>\n      <td>Consumer Defensive</td>\n      <td>10.809451</td>\n      <td>1</td>\n    </tr>\n    <tr>\n      <th>1</th>\n      <td>VIPS</td>\n      <td>6.193685e+09</td>\n      <td>0.6587</td>\n      <td>4.669038e+09</td>\n      <td>1.524648e+09</td>\n      <td>1.658481e+08</td>\n      <td>5.223879e+08</td>\n      <td>1.205660e+09</td>\n      <td>3.189877e+08</td>\n      <td>1.321245e+07</td>\n      <td>...</td>\n      <td>28.6759</td>\n      <td>0.2144</td>\n      <td>0.1279</td>\n      <td>0.2946</td>\n      <td>0.0281</td>\n      <td>0.5309</td>\n      <td>0.5179</td>\n      <td>Consumer Defensive</td>\n      <td>-21.637010</td>\n      <td>0</td>\n    </tr>\n    <tr>\n      <th>2</th>\n      <td>KR</td>\n      <td>1.084650e+11</td>\n      <td>0.1026</td>\n      <td>8.551200e+10</td>\n      <td>2.295300e+10</td>\n      <td>0.000000e+00</td>\n      <td>1.716100e+10</td>\n      <td>1.981600e+10</td>\n      <td>3.137000e+09</td>\n      <td>4.880000e+08</td>\n      <td>...</td>\n      <td>0.1344</td>\n      <td>0.0065</td>\n      <td>0.0415</td>\n      <td>0.0535</td>\n      <td>0.0254</td>\n      <td>0.0000</td>\n      <td>0.1293</td>\n      <td>Consumer Defensive</td>\n      <td>-15.036503</td>\n      <td>0</td>\n    </tr>\n    <tr>\n      <th>3</th>\n      <td>RAD</td>\n      <td>2.652838e+10</td>\n      <td>0.0393</td>\n      <td>1.895164e+10</td>\n      <td>7.576732e+09</td>\n      <td>0.000000e+00</td>\n      <td>6.695642e+09</td>\n      <td>6.733788e+09</td>\n      <td>8.429440e+08</td>\n      <td>3.976120e+08</td>\n      <td>...</td>\n      <td>0.0336</td>\n      <td>-0.0371</td>\n      <td>0.2639</td>\n      <td>1.0266</td>\n      <td>-0.0344</td>\n      <td>0.0000</td>\n      <td>0.0205</td>\n      <td>Consumer Defensive</td>\n      <td>4.303799</td>\n      <td>1</td>\n    </tr>\n    <tr>\n      <th>4</th>\n      <td>GIS</td>\n      <td>1.763030e+10</td>\n      <td>-0.0156</td>\n      <td>1.168110e+10</td>\n      <td>5.949200e+09</td>\n      <td>0.000000e+00</td>\n      <td>3.328000e+09</td>\n      <td>3.871900e+09</td>\n      <td>2.077300e+09</td>\n      <td>3.154000e+08</td>\n      <td>...</td>\n      <td>-0.0653</td>\n      <td>-0.0119</td>\n      <td>-0.0568</td>\n      <td>-0.2118</td>\n      <td>0.0462</td>\n      <td>0.0000</td>\n      <td>-0.0421</td>\n      <td>Consumer Defensive</td>\n      <td>10.693172</td>\n      <td>1</td>\n    </tr>\n    <tr>\n      <th>...</th>\n      <td>...</td>\n      <td>...</td>\n      <td>...</td>\n      <td>...</td>\n      <td>...</td>\n      <td>...</td>\n      <td>...</td>\n      <td>...</td>\n      <td>...</td>\n      <td>...</td>\n      <td>...</td>\n      <td>...</td>\n      <td>...</td>\n      <td>...</td>\n      <td>...</td>\n      <td>...</td>\n      <td>...</td>\n      <td>...</td>\n      <td>...</td>\n      <td>...</td>\n      <td>...</td>\n    </tr>\n    <tr>\n      <th>4115</th>\n      <td>TSRI</td>\n      <td>5.740290e+07</td>\n      <td>0.1590</td>\n      <td>4.808743e+07</td>\n      <td>9.315468e+06</td>\n      <td>0.000000e+00</td>\n      <td>8.883003e+06</td>\n      <td>8.883003e+06</td>\n      <td>4.324650e+05</td>\n      <td>0.000000e+00</td>\n      <td>...</td>\n      <td>-0.0048</td>\n      <td>0.0000</td>\n      <td>0.0360</td>\n      <td>0.0220</td>\n      <td>0.0000</td>\n      <td>0.0000</td>\n      <td>0.0763</td>\n      <td>Technology</td>\n      <td>33.101842</td>\n      <td>1</td>\n    </tr>\n    <tr>\n      <th>4116</th>\n      <td>TZOO</td>\n      <td>1.239610e+08</td>\n      <td>-0.1911</td>\n      <td>1.814800e+07</td>\n      <td>1.058130e+08</td>\n      <td>1.221400e+07</td>\n      <td>8.977900e+07</td>\n      <td>1.019930e+08</td>\n      <td>3.820000e+06</td>\n      <td>0.000000e+00</td>\n      <td>...</td>\n      <td>0.0170</td>\n      <td>0.0000</td>\n      <td>-0.2650</td>\n      <td>-0.4011</td>\n      <td>4.6580</td>\n      <td>0.0784</td>\n      <td>-0.2021</td>\n      <td>Technology</td>\n      <td>13.801445</td>\n      <td>1</td>\n    </tr>\n    <tr>\n      <th>4117</th>\n      <td>USATP</td>\n      <td>5.800000e+07</td>\n      <td>NaN</td>\n      <td>4.100000e+07</td>\n      <td>1.700000e+07</td>\n      <td>NaN</td>\n      <td>1.600000e+07</td>\n      <td>1.700000e+07</td>\n      <td>-0.000000e+00</td>\n      <td>0.000000e+00</td>\n      <td>...</td>\n      <td>NaN</td>\n      <td>NaN</td>\n      <td>NaN</td>\n      <td>NaN</td>\n      <td>NaN</td>\n      <td>NaN</td>\n      <td>NaN</td>\n      <td>Technology</td>\n      <td>34.769228</td>\n      <td>1</td>\n    </tr>\n    <tr>\n      <th>4118</th>\n      <td>WSTG</td>\n      <td>3.820900e+08</td>\n      <td>0.1213</td>\n      <td>3.555170e+08</td>\n      <td>2.657300e+07</td>\n      <td>0.000000e+00</td>\n      <td>1.806300e+07</td>\n      <td>1.806300e+07</td>\n      <td>8.510000e+06</td>\n      <td>-3.680000e+05</td>\n      <td>...</td>\n      <td>-0.0306</td>\n      <td>0.3105</td>\n      <td>-0.0095</td>\n      <td>-0.0173</td>\n      <td>0.0000</td>\n      <td>0.0000</td>\n      <td>0.0939</td>\n      <td>Technology</td>\n      <td>6.050663</td>\n      <td>1</td>\n    </tr>\n    <tr>\n      <th>4119</th>\n      <td>WTT</td>\n      <td>3.310911e+07</td>\n      <td>-0.1792</td>\n      <td>1.828123e+07</td>\n      <td>1.482787e+07</td>\n      <td>3.957274e+06</td>\n      <td>1.012356e+07</td>\n      <td>1.408084e+07</td>\n      <td>7.470390e+05</td>\n      <td>0.000000e+00</td>\n      <td>...</td>\n      <td>0.0675</td>\n      <td>-0.0553</td>\n      <td>-0.0436</td>\n      <td>0.0347</td>\n      <td>1.3011</td>\n      <td>0.1708</td>\n      <td>-0.0784</td>\n      <td>Technology</td>\n      <td>17.177912</td>\n      <td>1</td>\n    </tr>\n  </tbody>\n</table>\n<p>4120 rows × 225 columns</p>\n</div>"
     },
     "execution_count": 2,
     "metadata": {},
     "output_type": "execute_result"
    }
   ],
   "source": [
    "df = pd.read_csv('2015_Financial_Data.csv')\n",
    "df.rename(columns={\"Unnamed: 0\": 'Symbol'}, inplace=True)\n",
    "df.rename(columns={\"2016 PRICE VAR [%]\": 'PRICE VAR [%]'}, inplace=True)\n",
    "df"
   ]
  },
  {
   "cell_type": "code",
   "execution_count": 3,
   "metadata": {
    "collapsed": false,
    "pycharm": {
     "name": "#%%\n"
    }
   },
   "outputs": [
    {
     "data": {
      "text/plain": "           Revenue        EBITDA  Profit Margin  returnOnEquity  \\\n0     7.074900e+10  1.352100e+10       0.099000          0.1116   \n1     6.193685e+09  4.181508e+08       0.006200          0.4492   \n2     1.084650e+11  5.066000e+09       0.016000          0.3193   \n3     2.652838e+10  1.241060e+09       0.080000         36.9667   \n4     1.763030e+10  2.711800e+09       0.069000          0.2444   \n...            ...           ...            ...             ...   \n4115  5.740290e+07  3.651390e+05       0.003000          0.0213   \n4116  1.239610e+08  7.707000e+06       0.088000          0.5080   \n4117  5.800000e+07  5.000000e+06      -0.017241             NaN   \n4118  3.820900e+08  8.743000e+06       0.015000          0.1508   \n4119  3.310911e+07  1.181254e+06       0.011000          0.0114   \n\n      Book Value per Share  Operating Cash Flow  Dividend Yield  R&D Expenses  \\\n0                  23.2400         1.460800e+10          0.0332  0.000000e+00   \n1                   0.9422         2.950371e+08          0.0000  1.658481e+08   \n2                   5.5170         4.215000e+09          0.0098  0.000000e+00   \n3                   1.1620         6.489590e+08          0.0000  0.000000e+00   \n4                   8.3820         2.542800e+09          0.0297  0.000000e+00   \n...                    ...                  ...             ...           ...   \n4115                4.6040         7.135220e+05          0.0000  0.000000e+00   \n4116                1.4530         4.192000e+06          0.0000  1.221400e+07   \n4117                   NaN        -2.000000e+06             NaN           NaN   \n4118                8.3420         8.185000e+06          0.0371  0.000000e+00   \n4119                1.7020         1.022621e+06          0.0000  3.957274e+06   \n\n      PRICE VAR [%]  Class              Sector  \n0         10.809451      1  Consumer Defensive  \n1        -21.637010      0  Consumer Defensive  \n2        -15.036503      0  Consumer Defensive  \n3          4.303799      1  Consumer Defensive  \n4         10.693172      1  Consumer Defensive  \n...             ...    ...                 ...  \n4115      33.101842      1          Technology  \n4116      13.801445      1          Technology  \n4117      34.769228      1          Technology  \n4118       6.050663      1          Technology  \n4119      17.177912      1          Technology  \n\n[4120 rows x 11 columns]",
      "text/html": "<div>\n<style scoped>\n    .dataframe tbody tr th:only-of-type {\n        vertical-align: middle;\n    }\n\n    .dataframe tbody tr th {\n        vertical-align: top;\n    }\n\n    .dataframe thead th {\n        text-align: right;\n    }\n</style>\n<table border=\"1\" class=\"dataframe\">\n  <thead>\n    <tr style=\"text-align: right;\">\n      <th></th>\n      <th>Revenue</th>\n      <th>EBITDA</th>\n      <th>Profit Margin</th>\n      <th>returnOnEquity</th>\n      <th>Book Value per Share</th>\n      <th>Operating Cash Flow</th>\n      <th>Dividend Yield</th>\n      <th>R&amp;D Expenses</th>\n      <th>PRICE VAR [%]</th>\n      <th>Class</th>\n      <th>Sector</th>\n    </tr>\n  </thead>\n  <tbody>\n    <tr>\n      <th>0</th>\n      <td>7.074900e+10</td>\n      <td>1.352100e+10</td>\n      <td>0.099000</td>\n      <td>0.1116</td>\n      <td>23.2400</td>\n      <td>1.460800e+10</td>\n      <td>0.0332</td>\n      <td>0.000000e+00</td>\n      <td>10.809451</td>\n      <td>1</td>\n      <td>Consumer Defensive</td>\n    </tr>\n    <tr>\n      <th>1</th>\n      <td>6.193685e+09</td>\n      <td>4.181508e+08</td>\n      <td>0.006200</td>\n      <td>0.4492</td>\n      <td>0.9422</td>\n      <td>2.950371e+08</td>\n      <td>0.0000</td>\n      <td>1.658481e+08</td>\n      <td>-21.637010</td>\n      <td>0</td>\n      <td>Consumer Defensive</td>\n    </tr>\n    <tr>\n      <th>2</th>\n      <td>1.084650e+11</td>\n      <td>5.066000e+09</td>\n      <td>0.016000</td>\n      <td>0.3193</td>\n      <td>5.5170</td>\n      <td>4.215000e+09</td>\n      <td>0.0098</td>\n      <td>0.000000e+00</td>\n      <td>-15.036503</td>\n      <td>0</td>\n      <td>Consumer Defensive</td>\n    </tr>\n    <tr>\n      <th>3</th>\n      <td>2.652838e+10</td>\n      <td>1.241060e+09</td>\n      <td>0.080000</td>\n      <td>36.9667</td>\n      <td>1.1620</td>\n      <td>6.489590e+08</td>\n      <td>0.0000</td>\n      <td>0.000000e+00</td>\n      <td>4.303799</td>\n      <td>1</td>\n      <td>Consumer Defensive</td>\n    </tr>\n    <tr>\n      <th>4</th>\n      <td>1.763030e+10</td>\n      <td>2.711800e+09</td>\n      <td>0.069000</td>\n      <td>0.2444</td>\n      <td>8.3820</td>\n      <td>2.542800e+09</td>\n      <td>0.0297</td>\n      <td>0.000000e+00</td>\n      <td>10.693172</td>\n      <td>1</td>\n      <td>Consumer Defensive</td>\n    </tr>\n    <tr>\n      <th>...</th>\n      <td>...</td>\n      <td>...</td>\n      <td>...</td>\n      <td>...</td>\n      <td>...</td>\n      <td>...</td>\n      <td>...</td>\n      <td>...</td>\n      <td>...</td>\n      <td>...</td>\n      <td>...</td>\n    </tr>\n    <tr>\n      <th>4115</th>\n      <td>5.740290e+07</td>\n      <td>3.651390e+05</td>\n      <td>0.003000</td>\n      <td>0.0213</td>\n      <td>4.6040</td>\n      <td>7.135220e+05</td>\n      <td>0.0000</td>\n      <td>0.000000e+00</td>\n      <td>33.101842</td>\n      <td>1</td>\n      <td>Technology</td>\n    </tr>\n    <tr>\n      <th>4116</th>\n      <td>1.239610e+08</td>\n      <td>7.707000e+06</td>\n      <td>0.088000</td>\n      <td>0.5080</td>\n      <td>1.4530</td>\n      <td>4.192000e+06</td>\n      <td>0.0000</td>\n      <td>1.221400e+07</td>\n      <td>13.801445</td>\n      <td>1</td>\n      <td>Technology</td>\n    </tr>\n    <tr>\n      <th>4117</th>\n      <td>5.800000e+07</td>\n      <td>5.000000e+06</td>\n      <td>-0.017241</td>\n      <td>NaN</td>\n      <td>NaN</td>\n      <td>-2.000000e+06</td>\n      <td>NaN</td>\n      <td>NaN</td>\n      <td>34.769228</td>\n      <td>1</td>\n      <td>Technology</td>\n    </tr>\n    <tr>\n      <th>4118</th>\n      <td>3.820900e+08</td>\n      <td>8.743000e+06</td>\n      <td>0.015000</td>\n      <td>0.1508</td>\n      <td>8.3420</td>\n      <td>8.185000e+06</td>\n      <td>0.0371</td>\n      <td>0.000000e+00</td>\n      <td>6.050663</td>\n      <td>1</td>\n      <td>Technology</td>\n    </tr>\n    <tr>\n      <th>4119</th>\n      <td>3.310911e+07</td>\n      <td>1.181254e+06</td>\n      <td>0.011000</td>\n      <td>0.0114</td>\n      <td>1.7020</td>\n      <td>1.022621e+06</td>\n      <td>0.0000</td>\n      <td>3.957274e+06</td>\n      <td>17.177912</td>\n      <td>1</td>\n      <td>Technology</td>\n    </tr>\n  </tbody>\n</table>\n<p>4120 rows × 11 columns</p>\n</div>"
     },
     "execution_count": 3,
     "metadata": {},
     "output_type": "execute_result"
    }
   ],
   "source": [
    "subdf = pd.DataFrame(df[[\"Revenue\", \"EBITDA\", \"Profit Margin\", \"returnOnEquity\", \"Book Value per Share\", \"Operating Cash Flow\", \"Dividend Yield\", \"R&D Expenses\", \"PRICE VAR [%]\", \"Class\", \"Sector\"]])\n",
    "subdf"
   ]
  },
  {
   "cell_type": "markdown",
   "metadata": {
    "collapsed": false
   },
   "source": [
    "## 1.2 Check Missing Values"
   ]
  },
  {
   "cell_type": "code",
   "execution_count": 4,
   "metadata": {
    "collapsed": false,
    "pycharm": {
     "name": "#%%\n"
    }
   },
   "outputs": [
    {
     "name": "stdout",
     "output_type": "stream",
     "text": [
      "Revenue 1.63%\n",
      "EBITDA 4.81%\n",
      "Profit Margin 8.28%\n",
      "returnOnEquity 7.35%\n",
      "Book Value per Share 8.13%\n",
      "Operating Cash Flow 1.55%\n",
      "Dividend Yield 6.77%\n",
      "R&D Expenses 6.43%\n",
      "PRICE VAR [%] 0.0%\n",
      "Class 0.0%\n",
      "Sector 0.0%\n"
     ]
    }
   ],
   "source": [
    "total_size = len(subdf)\n",
    "for factor in subdf.columns:\n",
    "    nan_count = len(subdf[factor].loc[subdf[factor].isna()])\n",
    "    print(f'{factor} {round(100 * nan_count / total_size, 2)}%')"
   ]
  },
  {
   "cell_type": "markdown",
   "metadata": {
    "collapsed": false,
    "pycharm": {
     "name": "#%% md\n"
    }
   },
   "source": [
    "## 1.3 Replace Missing Values with Median"
   ]
  },
  {
   "cell_type": "code",
   "execution_count": 5,
   "metadata": {
    "collapsed": false,
    "pycharm": {
     "name": "#%%\n"
    }
   },
   "outputs": [],
   "source": [
    "# Sector, Class (last 2 columns) is Categorical\n",
    "for factor in subdf.columns[0:-2]:\n",
    "    subdf[factor].fillna(df[factor].median(), inplace=True)"
   ]
  },
  {
   "cell_type": "markdown",
   "metadata": {
    "collapsed": false,
    "pycharm": {
     "name": "#%% md\n"
    }
   },
   "source": [
    "## 1.4 Remove outliers"
   ]
  },
  {
   "cell_type": "code",
   "execution_count": 6,
   "metadata": {
    "collapsed": false,
    "pycharm": {
     "name": "#%%\n"
    }
   },
   "outputs": [
    {
     "data": {
      "text/plain": "           Revenue       EBITDA  Profit Margin  returnOnEquity  \\\n22    4.395200e+09  510300000.0       0.053000          0.2397   \n30    4.083450e+08   60534500.0       0.042000          0.0713   \n31    3.394800e+09  766900000.0       0.121000          0.2028   \n33    7.146230e+08  226524000.0       0.110000          0.1247   \n34    5.177078e+09  307952000.0       0.022000          0.1447   \n...            ...          ...            ...             ...   \n4114  1.236240e+08    9858000.0       0.033000          0.1173   \n4115  5.740290e+07     365139.0       0.003000          0.0213   \n4117  5.800000e+07    5000000.0      -0.017241          0.0713   \n4118  3.820900e+08    8743000.0       0.015000          0.1508   \n4119  3.310911e+07    1181254.0       0.011000          0.0114   \n\n      Book Value per Share  Operating Cash Flow  Dividend Yield  R&D Expenses  \\\n22                   2.745         5.263000e+08          0.0063           0.0   \n30                  10.078         5.204137e+07          0.0000           0.0   \n31                   7.716         6.061000e+08          0.0158           0.0   \n33                  12.030         1.562550e+08          0.0000           0.0   \n34                  14.771         3.185620e+08          0.0111           0.0   \n...                    ...                  ...             ...           ...   \n4114                 5.048         4.439000e+06          0.0000           0.0   \n4115                 4.604         7.135220e+05          0.0000           0.0   \n4117                10.078        -2.000000e+06          0.0000           0.0   \n4118                 8.342         8.185000e+06          0.0371           0.0   \n4119                 1.702         1.022621e+06          0.0000     3957274.0   \n\n      PRICE VAR [%]  Class              Sector  \n22       -25.384677      0  Consumer Defensive  \n30       -24.047624      0  Consumer Defensive  \n31         8.676289      1  Consumer Defensive  \n33         5.125095      1  Consumer Defensive  \n34        33.185500      1  Consumer Defensive  \n...             ...    ...                 ...  \n4114      10.882961      1          Technology  \n4115      33.101842      1          Technology  \n4117      34.769228      1          Technology  \n4118       6.050663      1          Technology  \n4119      17.177912      1          Technology  \n\n[1636 rows x 11 columns]",
      "text/html": "<div>\n<style scoped>\n    .dataframe tbody tr th:only-of-type {\n        vertical-align: middle;\n    }\n\n    .dataframe tbody tr th {\n        vertical-align: top;\n    }\n\n    .dataframe thead th {\n        text-align: right;\n    }\n</style>\n<table border=\"1\" class=\"dataframe\">\n  <thead>\n    <tr style=\"text-align: right;\">\n      <th></th>\n      <th>Revenue</th>\n      <th>EBITDA</th>\n      <th>Profit Margin</th>\n      <th>returnOnEquity</th>\n      <th>Book Value per Share</th>\n      <th>Operating Cash Flow</th>\n      <th>Dividend Yield</th>\n      <th>R&amp;D Expenses</th>\n      <th>PRICE VAR [%]</th>\n      <th>Class</th>\n      <th>Sector</th>\n    </tr>\n  </thead>\n  <tbody>\n    <tr>\n      <th>22</th>\n      <td>4.395200e+09</td>\n      <td>510300000.0</td>\n      <td>0.053000</td>\n      <td>0.2397</td>\n      <td>2.745</td>\n      <td>5.263000e+08</td>\n      <td>0.0063</td>\n      <td>0.0</td>\n      <td>-25.384677</td>\n      <td>0</td>\n      <td>Consumer Defensive</td>\n    </tr>\n    <tr>\n      <th>30</th>\n      <td>4.083450e+08</td>\n      <td>60534500.0</td>\n      <td>0.042000</td>\n      <td>0.0713</td>\n      <td>10.078</td>\n      <td>5.204137e+07</td>\n      <td>0.0000</td>\n      <td>0.0</td>\n      <td>-24.047624</td>\n      <td>0</td>\n      <td>Consumer Defensive</td>\n    </tr>\n    <tr>\n      <th>31</th>\n      <td>3.394800e+09</td>\n      <td>766900000.0</td>\n      <td>0.121000</td>\n      <td>0.2028</td>\n      <td>7.716</td>\n      <td>6.061000e+08</td>\n      <td>0.0158</td>\n      <td>0.0</td>\n      <td>8.676289</td>\n      <td>1</td>\n      <td>Consumer Defensive</td>\n    </tr>\n    <tr>\n      <th>33</th>\n      <td>7.146230e+08</td>\n      <td>226524000.0</td>\n      <td>0.110000</td>\n      <td>0.1247</td>\n      <td>12.030</td>\n      <td>1.562550e+08</td>\n      <td>0.0000</td>\n      <td>0.0</td>\n      <td>5.125095</td>\n      <td>1</td>\n      <td>Consumer Defensive</td>\n    </tr>\n    <tr>\n      <th>34</th>\n      <td>5.177078e+09</td>\n      <td>307952000.0</td>\n      <td>0.022000</td>\n      <td>0.1447</td>\n      <td>14.771</td>\n      <td>3.185620e+08</td>\n      <td>0.0111</td>\n      <td>0.0</td>\n      <td>33.185500</td>\n      <td>1</td>\n      <td>Consumer Defensive</td>\n    </tr>\n    <tr>\n      <th>...</th>\n      <td>...</td>\n      <td>...</td>\n      <td>...</td>\n      <td>...</td>\n      <td>...</td>\n      <td>...</td>\n      <td>...</td>\n      <td>...</td>\n      <td>...</td>\n      <td>...</td>\n      <td>...</td>\n    </tr>\n    <tr>\n      <th>4114</th>\n      <td>1.236240e+08</td>\n      <td>9858000.0</td>\n      <td>0.033000</td>\n      <td>0.1173</td>\n      <td>5.048</td>\n      <td>4.439000e+06</td>\n      <td>0.0000</td>\n      <td>0.0</td>\n      <td>10.882961</td>\n      <td>1</td>\n      <td>Technology</td>\n    </tr>\n    <tr>\n      <th>4115</th>\n      <td>5.740290e+07</td>\n      <td>365139.0</td>\n      <td>0.003000</td>\n      <td>0.0213</td>\n      <td>4.604</td>\n      <td>7.135220e+05</td>\n      <td>0.0000</td>\n      <td>0.0</td>\n      <td>33.101842</td>\n      <td>1</td>\n      <td>Technology</td>\n    </tr>\n    <tr>\n      <th>4117</th>\n      <td>5.800000e+07</td>\n      <td>5000000.0</td>\n      <td>-0.017241</td>\n      <td>0.0713</td>\n      <td>10.078</td>\n      <td>-2.000000e+06</td>\n      <td>0.0000</td>\n      <td>0.0</td>\n      <td>34.769228</td>\n      <td>1</td>\n      <td>Technology</td>\n    </tr>\n    <tr>\n      <th>4118</th>\n      <td>3.820900e+08</td>\n      <td>8743000.0</td>\n      <td>0.015000</td>\n      <td>0.1508</td>\n      <td>8.342</td>\n      <td>8.185000e+06</td>\n      <td>0.0371</td>\n      <td>0.0</td>\n      <td>6.050663</td>\n      <td>1</td>\n      <td>Technology</td>\n    </tr>\n    <tr>\n      <th>4119</th>\n      <td>3.310911e+07</td>\n      <td>1181254.0</td>\n      <td>0.011000</td>\n      <td>0.0114</td>\n      <td>1.702</td>\n      <td>1.022621e+06</td>\n      <td>0.0000</td>\n      <td>3957274.0</td>\n      <td>17.177912</td>\n      <td>1</td>\n      <td>Technology</td>\n    </tr>\n  </tbody>\n</table>\n<p>1636 rows × 11 columns</p>\n</div>"
     },
     "execution_count": 6,
     "metadata": {},
     "output_type": "execute_result"
    }
   ],
   "source": [
    "filtered_cols = []\n",
    "\n",
    "for factor in subdf.columns[0:-2]:\n",
    "    q1 = subdf[factor].quantile(0.25)\n",
    "    q3 = subdf[factor].quantile(0.75)\n",
    "    iqr = q3-q1\n",
    "    filtered_cols.append(subdf[factor].loc[(subdf[factor] >= (q1 - 1.5 * iqr)) & (subdf[factor] <= (q3 + 1.5 * iqr))])\n",
    "\n",
    "# remove stock if it is an outlier in one or more columns\n",
    "filtered_subdf = pd.concat(filtered_cols, axis=1, join='inner')\n",
    "filtered_subdf = pd.concat([filtered_subdf, subdf[['Class', 'Sector']]], axis=1, join='inner')\n",
    "\n",
    "filtered_subdf"
   ]
  },
  {
   "cell_type": "markdown",
   "metadata": {
    "collapsed": false
   },
   "source": [
    "## 1.5 Save Filtered Dataframe"
   ]
  },
  {
   "cell_type": "code",
   "execution_count": 7,
   "metadata": {
    "collapsed": false,
    "pycharm": {
     "name": "#%%\n"
    }
   },
   "outputs": [],
   "source": [
    "# filtered_subdf.to_csv('2015_filtered.csv', index=False)"
   ]
  }
 ],
 "metadata": {
  "kernelspec": {
   "display_name": "Python 3",
   "language": "python",
   "name": "python3"
  },
  "language_info": {
   "codemirror_mode": {
    "name": "ipython",
    "version": 2
   },
   "file_extension": ".py",
   "mimetype": "text/x-python",
   "name": "python",
   "nbconvert_exporter": "python",
   "pygments_lexer": "ipython2",
   "version": "2.7.6"
  }
 },
 "nbformat": 4,
 "nbformat_minor": 0
}