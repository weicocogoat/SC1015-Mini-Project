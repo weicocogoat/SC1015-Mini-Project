{
 "cells": [
  {
   "cell_type": "code",
   "execution_count": 1,
   "metadata": {
    "collapsed": true
   },
   "outputs": [],
   "source": [
    "import pandas as pd"
   ]
  },
  {
   "cell_type": "markdown",
   "metadata": {
    "collapsed": false,
    "pycharm": {
     "name": "#%% md\n"
    }
   },
   "source": [
    "# 1. Data Preparation\n",
    "## 1.1 Import Data"
   ]
  },
  {
   "cell_type": "code",
   "execution_count": 2,
   "metadata": {
    "collapsed": false,
    "pycharm": {
     "name": "#%%\n"
    }
   },
   "outputs": [
    {
     "data": {
      "text/plain": "     Symbol       Revenue  Revenue Growth  Cost of Revenue  Gross Profit  \\\n0        PG  6.529900e+10         -0.0770     3.290900e+10  3.239000e+10   \n1      VIPS  8.148496e+09          0.3156     6.190740e+09  1.957756e+09   \n2        KR  1.098300e+11          0.0126     8.549600e+10  2.433400e+10   \n3       RAD  2.077024e+10         -0.2171     1.577826e+10  4.991979e+09   \n4       GIS  1.656310e+10         -0.0605     1.073360e+10  5.829500e+09   \n...     ...           ...             ...              ...           ...   \n4792   TSRI  6.099828e+07          0.0626     5.103888e+07  9.959402e+06   \n4793   TZOO  1.142630e+08         -0.0782     1.385500e+07  1.004080e+08   \n4794  USATP  7.700000e+07             NaN     5.500000e+07  2.200000e+07   \n4795   WSTG  1.646090e+08         -0.5692     1.372780e+08  2.733100e+07   \n4796    WTT  3.132700e+07         -0.0538     1.816500e+07  1.316200e+07   \n\n      R&D Expenses  SG&A Expense  Operating Expenses  Operating Income  \\\n0     0.000000e+00  1.894900e+10        1.894900e+10      1.344100e+10   \n1     2.251378e+08  6.880959e+08        1.567877e+09      3.898789e+08   \n2     0.000000e+00  1.794600e+10        2.075800e+10      3.576000e+09   \n3     0.000000e+00  4.581171e+09        4.621042e+09      3.709370e+08   \n4     0.000000e+00  3.118900e+09        3.270300e+09      2.559200e+09   \n...            ...           ...                 ...               ...   \n4792  0.000000e+00  9.120526e+06        9.120526e+06      8.388760e+05   \n4793  9.096000e+06  8.112600e+07        9.022200e+07      1.018600e+07   \n4794           NaN  2.200000e+07        2.300000e+07     -1.000000e+06   \n4795  0.000000e+00  1.871500e+07        1.871500e+07      8.616000e+06   \n4796  4.046000e+06  1.166400e+07        1.571000e+07     -2.548000e+06   \n\n      Interest Expense  ...  Receivables growth  Inventory Growth  \\\n0         5.790000e+08  ...             -0.0427           -0.0528   \n1         1.226710e+07  ...              0.9234            0.0128   \n2         4.820000e+08  ...              0.3697            0.0844   \n3         1.861320e+08  ...              0.6322           -0.0645   \n4         3.038000e+08  ...             -0.0187           -0.0825   \n...                ...  ...                 ...               ...   \n4792      0.000000e+00  ...             -0.1191            0.0000   \n4793      0.000000e+00  ...             -0.1209            0.0000   \n4794      1.000000e+06  ...                 NaN               NaN   \n4795     -3.180000e+05  ...              0.4233            0.1894   \n4796      0.000000e+00  ...             -0.0490            0.0476   \n\n      Asset Growth  Book Value per Share Growth  Debt Growth  \\\n0          -0.0182                      -0.0627       0.0083   \n1           0.1706                       0.5109      -0.0139   \n2           0.1115                       0.2797       0.0416   \n3           0.2848                       8.5628       0.2581   \n4          -0.0055                      -0.0105      -0.0828   \n...            ...                          ...          ...   \n4792        0.0027                       0.0441       0.0000   \n4793       -0.2194                      -0.1115      -1.0000   \n4794           NaN                          NaN          NaN   \n4795        0.2085                       0.0012       0.0000   \n4796        0.0210                       0.0088      -1.0000   \n\n      R&D Expense Growth  SG&A Expenses Growth              Sector  \\\n0                 0.0000               -0.0809  Consumer Defensive   \n1                 0.3575                0.3172  Consumer Defensive   \n2                 0.0000                0.0457  Consumer Defensive   \n3                 0.0000               -0.3158  Consumer Defensive   \n4                 0.0000               -0.0628  Consumer Defensive   \n...                  ...                   ...                 ...   \n4792              0.0000                0.0267          Technology   \n4793             -0.2553               -0.0964          Technology   \n4794                 NaN                   NaN          Technology   \n4795              0.0000                0.0361          Technology   \n4796              0.0224                0.1522          Technology   \n\n      PRICE VAR [%]  Class  \n0         12.532463      1  \n1          4.363319      1  \n2        -17.068252      0  \n3        -75.916870      0  \n4         -1.162942      0  \n...             ...    ...  \n4792       0.655807      1  \n4793     -35.500002      0  \n4794      14.840183      1  \n4795      -2.854095      0  \n4796      29.946527      1  \n\n[4797 rows x 225 columns]",
      "text/html": "<div>\n<style scoped>\n    .dataframe tbody tr th:only-of-type {\n        vertical-align: middle;\n    }\n\n    .dataframe tbody tr th {\n        vertical-align: top;\n    }\n\n    .dataframe thead th {\n        text-align: right;\n    }\n</style>\n<table border=\"1\" class=\"dataframe\">\n  <thead>\n    <tr style=\"text-align: right;\">\n      <th></th>\n      <th>Symbol</th>\n      <th>Revenue</th>\n      <th>Revenue Growth</th>\n      <th>Cost of Revenue</th>\n      <th>Gross Profit</th>\n      <th>R&amp;D Expenses</th>\n      <th>SG&amp;A Expense</th>\n      <th>Operating Expenses</th>\n      <th>Operating Income</th>\n      <th>Interest Expense</th>\n      <th>...</th>\n      <th>Receivables growth</th>\n      <th>Inventory Growth</th>\n      <th>Asset Growth</th>\n      <th>Book Value per Share Growth</th>\n      <th>Debt Growth</th>\n      <th>R&amp;D Expense Growth</th>\n      <th>SG&amp;A Expenses Growth</th>\n      <th>Sector</th>\n      <th>PRICE VAR [%]</th>\n      <th>Class</th>\n    </tr>\n  </thead>\n  <tbody>\n    <tr>\n      <th>0</th>\n      <td>PG</td>\n      <td>6.529900e+10</td>\n      <td>-0.0770</td>\n      <td>3.290900e+10</td>\n      <td>3.239000e+10</td>\n      <td>0.000000e+00</td>\n      <td>1.894900e+10</td>\n      <td>1.894900e+10</td>\n      <td>1.344100e+10</td>\n      <td>5.790000e+08</td>\n      <td>...</td>\n      <td>-0.0427</td>\n      <td>-0.0528</td>\n      <td>-0.0182</td>\n      <td>-0.0627</td>\n      <td>0.0083</td>\n      <td>0.0000</td>\n      <td>-0.0809</td>\n      <td>Consumer Defensive</td>\n      <td>12.532463</td>\n      <td>1</td>\n    </tr>\n    <tr>\n      <th>1</th>\n      <td>VIPS</td>\n      <td>8.148496e+09</td>\n      <td>0.3156</td>\n      <td>6.190740e+09</td>\n      <td>1.957756e+09</td>\n      <td>2.251378e+08</td>\n      <td>6.880959e+08</td>\n      <td>1.567877e+09</td>\n      <td>3.898789e+08</td>\n      <td>1.226710e+07</td>\n      <td>...</td>\n      <td>0.9234</td>\n      <td>0.0128</td>\n      <td>0.1706</td>\n      <td>0.5109</td>\n      <td>-0.0139</td>\n      <td>0.3575</td>\n      <td>0.3172</td>\n      <td>Consumer Defensive</td>\n      <td>4.363319</td>\n      <td>1</td>\n    </tr>\n    <tr>\n      <th>2</th>\n      <td>KR</td>\n      <td>1.098300e+11</td>\n      <td>0.0126</td>\n      <td>8.549600e+10</td>\n      <td>2.433400e+10</td>\n      <td>0.000000e+00</td>\n      <td>1.794600e+10</td>\n      <td>2.075800e+10</td>\n      <td>3.576000e+09</td>\n      <td>4.820000e+08</td>\n      <td>...</td>\n      <td>0.3697</td>\n      <td>0.0844</td>\n      <td>0.1115</td>\n      <td>0.2797</td>\n      <td>0.0416</td>\n      <td>0.0000</td>\n      <td>0.0457</td>\n      <td>Consumer Defensive</td>\n      <td>-17.068252</td>\n      <td>0</td>\n    </tr>\n    <tr>\n      <th>3</th>\n      <td>RAD</td>\n      <td>2.077024e+10</td>\n      <td>-0.2171</td>\n      <td>1.577826e+10</td>\n      <td>4.991979e+09</td>\n      <td>0.000000e+00</td>\n      <td>4.581171e+09</td>\n      <td>4.621042e+09</td>\n      <td>3.709370e+08</td>\n      <td>1.861320e+08</td>\n      <td>...</td>\n      <td>0.6322</td>\n      <td>-0.0645</td>\n      <td>0.2848</td>\n      <td>8.5628</td>\n      <td>0.2581</td>\n      <td>0.0000</td>\n      <td>-0.3158</td>\n      <td>Consumer Defensive</td>\n      <td>-75.916870</td>\n      <td>0</td>\n    </tr>\n    <tr>\n      <th>4</th>\n      <td>GIS</td>\n      <td>1.656310e+10</td>\n      <td>-0.0605</td>\n      <td>1.073360e+10</td>\n      <td>5.829500e+09</td>\n      <td>0.000000e+00</td>\n      <td>3.118900e+09</td>\n      <td>3.270300e+09</td>\n      <td>2.559200e+09</td>\n      <td>3.038000e+08</td>\n      <td>...</td>\n      <td>-0.0187</td>\n      <td>-0.0825</td>\n      <td>-0.0055</td>\n      <td>-0.0105</td>\n      <td>-0.0828</td>\n      <td>0.0000</td>\n      <td>-0.0628</td>\n      <td>Consumer Defensive</td>\n      <td>-1.162942</td>\n      <td>0</td>\n    </tr>\n    <tr>\n      <th>...</th>\n      <td>...</td>\n      <td>...</td>\n      <td>...</td>\n      <td>...</td>\n      <td>...</td>\n      <td>...</td>\n      <td>...</td>\n      <td>...</td>\n      <td>...</td>\n      <td>...</td>\n      <td>...</td>\n      <td>...</td>\n      <td>...</td>\n      <td>...</td>\n      <td>...</td>\n      <td>...</td>\n      <td>...</td>\n      <td>...</td>\n      <td>...</td>\n      <td>...</td>\n      <td>...</td>\n    </tr>\n    <tr>\n      <th>4792</th>\n      <td>TSRI</td>\n      <td>6.099828e+07</td>\n      <td>0.0626</td>\n      <td>5.103888e+07</td>\n      <td>9.959402e+06</td>\n      <td>0.000000e+00</td>\n      <td>9.120526e+06</td>\n      <td>9.120526e+06</td>\n      <td>8.388760e+05</td>\n      <td>0.000000e+00</td>\n      <td>...</td>\n      <td>-0.1191</td>\n      <td>0.0000</td>\n      <td>0.0027</td>\n      <td>0.0441</td>\n      <td>0.0000</td>\n      <td>0.0000</td>\n      <td>0.0267</td>\n      <td>Technology</td>\n      <td>0.655807</td>\n      <td>1</td>\n    </tr>\n    <tr>\n      <th>4793</th>\n      <td>TZOO</td>\n      <td>1.142630e+08</td>\n      <td>-0.0782</td>\n      <td>1.385500e+07</td>\n      <td>1.004080e+08</td>\n      <td>9.096000e+06</td>\n      <td>8.112600e+07</td>\n      <td>9.022200e+07</td>\n      <td>1.018600e+07</td>\n      <td>0.000000e+00</td>\n      <td>...</td>\n      <td>-0.1209</td>\n      <td>0.0000</td>\n      <td>-0.2194</td>\n      <td>-0.1115</td>\n      <td>-1.0000</td>\n      <td>-0.2553</td>\n      <td>-0.0964</td>\n      <td>Technology</td>\n      <td>-35.500002</td>\n      <td>0</td>\n    </tr>\n    <tr>\n      <th>4794</th>\n      <td>USATP</td>\n      <td>7.700000e+07</td>\n      <td>NaN</td>\n      <td>5.500000e+07</td>\n      <td>2.200000e+07</td>\n      <td>NaN</td>\n      <td>2.200000e+07</td>\n      <td>2.300000e+07</td>\n      <td>-1.000000e+06</td>\n      <td>1.000000e+06</td>\n      <td>...</td>\n      <td>NaN</td>\n      <td>NaN</td>\n      <td>NaN</td>\n      <td>NaN</td>\n      <td>NaN</td>\n      <td>NaN</td>\n      <td>NaN</td>\n      <td>Technology</td>\n      <td>14.840183</td>\n      <td>1</td>\n    </tr>\n    <tr>\n      <th>4795</th>\n      <td>WSTG</td>\n      <td>1.646090e+08</td>\n      <td>-0.5692</td>\n      <td>1.372780e+08</td>\n      <td>2.733100e+07</td>\n      <td>0.000000e+00</td>\n      <td>1.871500e+07</td>\n      <td>1.871500e+07</td>\n      <td>8.616000e+06</td>\n      <td>-3.180000e+05</td>\n      <td>...</td>\n      <td>0.4233</td>\n      <td>0.1894</td>\n      <td>0.2085</td>\n      <td>0.0012</td>\n      <td>0.0000</td>\n      <td>0.0000</td>\n      <td>0.0361</td>\n      <td>Technology</td>\n      <td>-2.854095</td>\n      <td>0</td>\n    </tr>\n    <tr>\n      <th>4796</th>\n      <td>WTT</td>\n      <td>3.132700e+07</td>\n      <td>-0.0538</td>\n      <td>1.816500e+07</td>\n      <td>1.316200e+07</td>\n      <td>4.046000e+06</td>\n      <td>1.166400e+07</td>\n      <td>1.571000e+07</td>\n      <td>-2.548000e+06</td>\n      <td>0.000000e+00</td>\n      <td>...</td>\n      <td>-0.0490</td>\n      <td>0.0476</td>\n      <td>0.0210</td>\n      <td>0.0088</td>\n      <td>-1.0000</td>\n      <td>0.0224</td>\n      <td>0.1522</td>\n      <td>Technology</td>\n      <td>29.946527</td>\n      <td>1</td>\n    </tr>\n  </tbody>\n</table>\n<p>4797 rows × 225 columns</p>\n</div>"
     },
     "execution_count": 2,
     "metadata": {},
     "output_type": "execute_result"
    }
   ],
   "source": [
    "df = pd.read_csv('2016_Financial_Data.csv')\n",
    "df.rename(columns={\"Unnamed: 0\": 'Symbol'}, inplace=True)\n",
    "df.rename(columns={\"2017 PRICE VAR [%]\": 'PRICE VAR [%]'}, inplace=True)\n",
    "df"
   ]
  },
  {
   "cell_type": "code",
   "execution_count": 3,
   "metadata": {
    "collapsed": false,
    "pycharm": {
     "name": "#%%\n"
    }
   },
   "outputs": [
    {
     "data": {
      "text/plain": "           Revenue        EBITDA  Profit Margin  returnOnEquity  \\\n0     6.529900e+10  1.750700e+10       0.161000          0.1812   \n1     8.148496e+09  5.325836e+08       0.005200          0.3553   \n2     1.098300e+11  5.655000e+09       0.019000          0.2990   \n3     2.077024e+10  7.622430e+08       0.008000          0.2846   \n4     1.656310e+10  3.364500e+09       0.102000          0.3443   \n...            ...           ...            ...             ...   \n4792  6.099828e+07  8.109910e+05       0.007000          0.0423   \n4793  1.142630e+08  1.315300e+07       0.058000          0.3671   \n4794  7.700000e+07 -2.000000e+06      -0.090909             NaN   \n4795  1.646090e+08  8.911000e+06       0.036000          0.1569   \n4796  3.132700e+07 -1.681000e+06      -0.058000         -0.0578   \n\n      Book Value per Share  Operating Cash Flow  Dividend Yield  R&D Expenses  \\\n0                  21.7830         1.543500e+10          0.0314  0.000000e+00   \n1                   1.4236         4.076909e+08          0.0000  2.251378e+08   \n2                   7.0600         4.917000e+09          0.0125  0.000000e+00   \n3                  11.1120         1.014908e+09          0.0000  0.000000e+00   \n4                   8.2940         2.764200e+09          0.0284  0.000000e+00   \n...                    ...                  ...             ...           ...   \n4792                4.8070         1.227840e+06          0.0000  0.000000e+00   \n4793                1.2910         8.722000e+06          0.0000  9.096000e+06   \n4794                   NaN         6.000000e+06             NaN           NaN   \n4795                8.3520        -5.160000e+05          0.0380  0.000000e+00   \n4796                1.7170         6.240000e+05          0.0000  4.046000e+06   \n\n      PRICE VAR [%]  Class              Sector  \n0         12.532463      1  Consumer Defensive  \n1          4.363319      1  Consumer Defensive  \n2        -17.068252      0  Consumer Defensive  \n3        -75.916870      0  Consumer Defensive  \n4         -1.162942      0  Consumer Defensive  \n...             ...    ...                 ...  \n4792       0.655807      1          Technology  \n4793     -35.500002      0          Technology  \n4794      14.840183      1          Technology  \n4795      -2.854095      0          Technology  \n4796      29.946527      1          Technology  \n\n[4797 rows x 11 columns]",
      "text/html": "<div>\n<style scoped>\n    .dataframe tbody tr th:only-of-type {\n        vertical-align: middle;\n    }\n\n    .dataframe tbody tr th {\n        vertical-align: top;\n    }\n\n    .dataframe thead th {\n        text-align: right;\n    }\n</style>\n<table border=\"1\" class=\"dataframe\">\n  <thead>\n    <tr style=\"text-align: right;\">\n      <th></th>\n      <th>Revenue</th>\n      <th>EBITDA</th>\n      <th>Profit Margin</th>\n      <th>returnOnEquity</th>\n      <th>Book Value per Share</th>\n      <th>Operating Cash Flow</th>\n      <th>Dividend Yield</th>\n      <th>R&amp;D Expenses</th>\n      <th>PRICE VAR [%]</th>\n      <th>Class</th>\n      <th>Sector</th>\n    </tr>\n  </thead>\n  <tbody>\n    <tr>\n      <th>0</th>\n      <td>6.529900e+10</td>\n      <td>1.750700e+10</td>\n      <td>0.161000</td>\n      <td>0.1812</td>\n      <td>21.7830</td>\n      <td>1.543500e+10</td>\n      <td>0.0314</td>\n      <td>0.000000e+00</td>\n      <td>12.532463</td>\n      <td>1</td>\n      <td>Consumer Defensive</td>\n    </tr>\n    <tr>\n      <th>1</th>\n      <td>8.148496e+09</td>\n      <td>5.325836e+08</td>\n      <td>0.005200</td>\n      <td>0.3553</td>\n      <td>1.4236</td>\n      <td>4.076909e+08</td>\n      <td>0.0000</td>\n      <td>2.251378e+08</td>\n      <td>4.363319</td>\n      <td>1</td>\n      <td>Consumer Defensive</td>\n    </tr>\n    <tr>\n      <th>2</th>\n      <td>1.098300e+11</td>\n      <td>5.655000e+09</td>\n      <td>0.019000</td>\n      <td>0.2990</td>\n      <td>7.0600</td>\n      <td>4.917000e+09</td>\n      <td>0.0125</td>\n      <td>0.000000e+00</td>\n      <td>-17.068252</td>\n      <td>0</td>\n      <td>Consumer Defensive</td>\n    </tr>\n    <tr>\n      <th>3</th>\n      <td>2.077024e+10</td>\n      <td>7.622430e+08</td>\n      <td>0.008000</td>\n      <td>0.2846</td>\n      <td>11.1120</td>\n      <td>1.014908e+09</td>\n      <td>0.0000</td>\n      <td>0.000000e+00</td>\n      <td>-75.916870</td>\n      <td>0</td>\n      <td>Consumer Defensive</td>\n    </tr>\n    <tr>\n      <th>4</th>\n      <td>1.656310e+10</td>\n      <td>3.364500e+09</td>\n      <td>0.102000</td>\n      <td>0.3443</td>\n      <td>8.2940</td>\n      <td>2.764200e+09</td>\n      <td>0.0284</td>\n      <td>0.000000e+00</td>\n      <td>-1.162942</td>\n      <td>0</td>\n      <td>Consumer Defensive</td>\n    </tr>\n    <tr>\n      <th>...</th>\n      <td>...</td>\n      <td>...</td>\n      <td>...</td>\n      <td>...</td>\n      <td>...</td>\n      <td>...</td>\n      <td>...</td>\n      <td>...</td>\n      <td>...</td>\n      <td>...</td>\n      <td>...</td>\n    </tr>\n    <tr>\n      <th>4792</th>\n      <td>6.099828e+07</td>\n      <td>8.109910e+05</td>\n      <td>0.007000</td>\n      <td>0.0423</td>\n      <td>4.8070</td>\n      <td>1.227840e+06</td>\n      <td>0.0000</td>\n      <td>0.000000e+00</td>\n      <td>0.655807</td>\n      <td>1</td>\n      <td>Technology</td>\n    </tr>\n    <tr>\n      <th>4793</th>\n      <td>1.142630e+08</td>\n      <td>1.315300e+07</td>\n      <td>0.058000</td>\n      <td>0.3671</td>\n      <td>1.2910</td>\n      <td>8.722000e+06</td>\n      <td>0.0000</td>\n      <td>9.096000e+06</td>\n      <td>-35.500002</td>\n      <td>0</td>\n      <td>Technology</td>\n    </tr>\n    <tr>\n      <th>4794</th>\n      <td>7.700000e+07</td>\n      <td>-2.000000e+06</td>\n      <td>-0.090909</td>\n      <td>NaN</td>\n      <td>NaN</td>\n      <td>6.000000e+06</td>\n      <td>NaN</td>\n      <td>NaN</td>\n      <td>14.840183</td>\n      <td>1</td>\n      <td>Technology</td>\n    </tr>\n    <tr>\n      <th>4795</th>\n      <td>1.646090e+08</td>\n      <td>8.911000e+06</td>\n      <td>0.036000</td>\n      <td>0.1569</td>\n      <td>8.3520</td>\n      <td>-5.160000e+05</td>\n      <td>0.0380</td>\n      <td>0.000000e+00</td>\n      <td>-2.854095</td>\n      <td>0</td>\n      <td>Technology</td>\n    </tr>\n    <tr>\n      <th>4796</th>\n      <td>3.132700e+07</td>\n      <td>-1.681000e+06</td>\n      <td>-0.058000</td>\n      <td>-0.0578</td>\n      <td>1.7170</td>\n      <td>6.240000e+05</td>\n      <td>0.0000</td>\n      <td>4.046000e+06</td>\n      <td>29.946527</td>\n      <td>1</td>\n      <td>Technology</td>\n    </tr>\n  </tbody>\n</table>\n<p>4797 rows × 11 columns</p>\n</div>"
     },
     "execution_count": 3,
     "metadata": {},
     "output_type": "execute_result"
    }
   ],
   "source": [
    "subdf = pd.DataFrame(df[[\"Revenue\", \"EBITDA\", \"Profit Margin\", \"returnOnEquity\", \"Book Value per Share\", \"Operating Cash Flow\", \"Dividend Yield\", \"R&D Expenses\", \"PRICE VAR [%]\", \"Class\", \"Sector\"]])\n",
    "subdf"
   ]
  },
  {
   "cell_type": "markdown",
   "metadata": {
    "collapsed": false
   },
   "source": [
    "## 1.2 Check Missing Values"
   ]
  },
  {
   "cell_type": "code",
   "execution_count": 4,
   "metadata": {
    "collapsed": false,
    "pycharm": {
     "name": "#%%\n"
    }
   },
   "outputs": [
    {
     "name": "stdout",
     "output_type": "stream",
     "text": [
      "Revenue 10.19%\n",
      "EBITDA 13.4%\n",
      "Profit Margin 16.55%\n",
      "returnOnEquity 15.55%\n",
      "Book Value per Share 16.07%\n",
      "Operating Cash Flow 10.13%\n",
      "Dividend Yield 15.22%\n",
      "R&D Expenses 14.86%\n",
      "PRICE VAR [%] 0.0%\n",
      "Class 0.0%\n",
      "Sector 0.0%\n"
     ]
    }
   ],
   "source": [
    "total_size = len(subdf)\n",
    "for factor in subdf.columns:\n",
    "    nan_count = len(subdf[factor].loc[subdf[factor].isna()])\n",
    "    print(f'{factor} {round(100 * nan_count / total_size, 2)}%')"
   ]
  },
  {
   "cell_type": "markdown",
   "metadata": {
    "collapsed": false,
    "pycharm": {
     "name": "#%% md\n"
    }
   },
   "source": [
    "## 1.3 Replace Missing Values with Median"
   ]
  },
  {
   "cell_type": "code",
   "execution_count": 5,
   "metadata": {
    "collapsed": false,
    "pycharm": {
     "name": "#%%\n"
    }
   },
   "outputs": [],
   "source": [
    "# Sector, Class (last 2 columns) is Categorical\n",
    "for factor in subdf.columns[0:-2]:\n",
    "    subdf[factor].fillna(df[factor].median(), inplace=True)"
   ]
  },
  {
   "cell_type": "markdown",
   "metadata": {
    "collapsed": false,
    "pycharm": {
     "name": "#%% md\n"
    }
   },
   "source": [
    "## 1.4 Remove outliers"
   ]
  },
  {
   "cell_type": "code",
   "execution_count": 6,
   "metadata": {
    "collapsed": false,
    "pycharm": {
     "name": "#%%\n"
    }
   },
   "outputs": [
    {
     "data": {
      "text/plain": "           Revenue        EBITDA  Profit Margin  returnOnEquity  \\\n31    2.029158e+09  1.453684e+08       0.020000          0.0191   \n34    8.062470e+08  2.661830e+08       0.124000          0.1342   \n38    3.593031e+09  2.928850e+08       0.036000          0.1567   \n44    2.994000e+09  5.316000e+08       0.095000          0.2037   \n45    3.926885e+09  4.253110e+08       0.042000          0.1353   \n...            ...           ...            ...             ...   \n4791  1.221660e+08  1.024800e+07       0.034000          0.1060   \n4792  6.099828e+07  8.109910e+05       0.007000          0.0423   \n4794  7.700000e+07 -2.000000e+06      -0.090909          0.0676   \n4795  1.646090e+08  8.911000e+06       0.036000          0.1569   \n4796  3.132700e+07 -1.681000e+06      -0.058000         -0.0578   \n\n      Book Value per Share  Operating Cash Flow  Dividend Yield  R&D Expenses  \\\n31                 11.2232         2.969474e+08          0.0000           0.0   \n34                 14.1100         1.763100e+08          0.0000           0.0   \n38                  5.3760         2.398980e+08          0.0000           0.0   \n44                  9.5890         3.823000e+08          0.0000     7000000.0   \n45                  5.8030         3.565620e+08          0.0314           0.0   \n...                    ...                  ...             ...           ...   \n4791                5.6500         1.098200e+07          0.0000           0.0   \n4792                4.8070         1.227840e+06          0.0000           0.0   \n4794                9.4995         6.000000e+06          0.0000           0.0   \n4795                8.3520        -5.160000e+05          0.0380           0.0   \n4796                1.7170         6.240000e+05          0.0000     4046000.0   \n\n      PRICE VAR [%]  Class              Sector  \n31        70.808086      1  Consumer Defensive  \n34       -15.842336      0  Consumer Defensive  \n38        24.935868      1  Consumer Defensive  \n44        53.228119      1  Consumer Defensive  \n45         0.424386      1  Consumer Defensive  \n...             ...    ...                 ...  \n4791      34.433957      1          Technology  \n4792       0.655807      1          Technology  \n4794      14.840183      1          Technology  \n4795      -2.854095      0          Technology  \n4796      29.946527      1          Technology  \n\n[1815 rows x 11 columns]",
      "text/html": "<div>\n<style scoped>\n    .dataframe tbody tr th:only-of-type {\n        vertical-align: middle;\n    }\n\n    .dataframe tbody tr th {\n        vertical-align: top;\n    }\n\n    .dataframe thead th {\n        text-align: right;\n    }\n</style>\n<table border=\"1\" class=\"dataframe\">\n  <thead>\n    <tr style=\"text-align: right;\">\n      <th></th>\n      <th>Revenue</th>\n      <th>EBITDA</th>\n      <th>Profit Margin</th>\n      <th>returnOnEquity</th>\n      <th>Book Value per Share</th>\n      <th>Operating Cash Flow</th>\n      <th>Dividend Yield</th>\n      <th>R&amp;D Expenses</th>\n      <th>PRICE VAR [%]</th>\n      <th>Class</th>\n      <th>Sector</th>\n    </tr>\n  </thead>\n  <tbody>\n    <tr>\n      <th>31</th>\n      <td>2.029158e+09</td>\n      <td>1.453684e+08</td>\n      <td>0.020000</td>\n      <td>0.0191</td>\n      <td>11.2232</td>\n      <td>2.969474e+08</td>\n      <td>0.0000</td>\n      <td>0.0</td>\n      <td>70.808086</td>\n      <td>1</td>\n      <td>Consumer Defensive</td>\n    </tr>\n    <tr>\n      <th>34</th>\n      <td>8.062470e+08</td>\n      <td>2.661830e+08</td>\n      <td>0.124000</td>\n      <td>0.1342</td>\n      <td>14.1100</td>\n      <td>1.763100e+08</td>\n      <td>0.0000</td>\n      <td>0.0</td>\n      <td>-15.842336</td>\n      <td>0</td>\n      <td>Consumer Defensive</td>\n    </tr>\n    <tr>\n      <th>38</th>\n      <td>3.593031e+09</td>\n      <td>2.928850e+08</td>\n      <td>0.036000</td>\n      <td>0.1567</td>\n      <td>5.3760</td>\n      <td>2.398980e+08</td>\n      <td>0.0000</td>\n      <td>0.0</td>\n      <td>24.935868</td>\n      <td>1</td>\n      <td>Consumer Defensive</td>\n    </tr>\n    <tr>\n      <th>44</th>\n      <td>2.994000e+09</td>\n      <td>5.316000e+08</td>\n      <td>0.095000</td>\n      <td>0.2037</td>\n      <td>9.5890</td>\n      <td>3.823000e+08</td>\n      <td>0.0000</td>\n      <td>7000000.0</td>\n      <td>53.228119</td>\n      <td>1</td>\n      <td>Consumer Defensive</td>\n    </tr>\n    <tr>\n      <th>45</th>\n      <td>3.926885e+09</td>\n      <td>4.253110e+08</td>\n      <td>0.042000</td>\n      <td>0.1353</td>\n      <td>5.8030</td>\n      <td>3.565620e+08</td>\n      <td>0.0314</td>\n      <td>0.0</td>\n      <td>0.424386</td>\n      <td>1</td>\n      <td>Consumer Defensive</td>\n    </tr>\n    <tr>\n      <th>...</th>\n      <td>...</td>\n      <td>...</td>\n      <td>...</td>\n      <td>...</td>\n      <td>...</td>\n      <td>...</td>\n      <td>...</td>\n      <td>...</td>\n      <td>...</td>\n      <td>...</td>\n      <td>...</td>\n    </tr>\n    <tr>\n      <th>4791</th>\n      <td>1.221660e+08</td>\n      <td>1.024800e+07</td>\n      <td>0.034000</td>\n      <td>0.1060</td>\n      <td>5.6500</td>\n      <td>1.098200e+07</td>\n      <td>0.0000</td>\n      <td>0.0</td>\n      <td>34.433957</td>\n      <td>1</td>\n      <td>Technology</td>\n    </tr>\n    <tr>\n      <th>4792</th>\n      <td>6.099828e+07</td>\n      <td>8.109910e+05</td>\n      <td>0.007000</td>\n      <td>0.0423</td>\n      <td>4.8070</td>\n      <td>1.227840e+06</td>\n      <td>0.0000</td>\n      <td>0.0</td>\n      <td>0.655807</td>\n      <td>1</td>\n      <td>Technology</td>\n    </tr>\n    <tr>\n      <th>4794</th>\n      <td>7.700000e+07</td>\n      <td>-2.000000e+06</td>\n      <td>-0.090909</td>\n      <td>0.0676</td>\n      <td>9.4995</td>\n      <td>6.000000e+06</td>\n      <td>0.0000</td>\n      <td>0.0</td>\n      <td>14.840183</td>\n      <td>1</td>\n      <td>Technology</td>\n    </tr>\n    <tr>\n      <th>4795</th>\n      <td>1.646090e+08</td>\n      <td>8.911000e+06</td>\n      <td>0.036000</td>\n      <td>0.1569</td>\n      <td>8.3520</td>\n      <td>-5.160000e+05</td>\n      <td>0.0380</td>\n      <td>0.0</td>\n      <td>-2.854095</td>\n      <td>0</td>\n      <td>Technology</td>\n    </tr>\n    <tr>\n      <th>4796</th>\n      <td>3.132700e+07</td>\n      <td>-1.681000e+06</td>\n      <td>-0.058000</td>\n      <td>-0.0578</td>\n      <td>1.7170</td>\n      <td>6.240000e+05</td>\n      <td>0.0000</td>\n      <td>4046000.0</td>\n      <td>29.946527</td>\n      <td>1</td>\n      <td>Technology</td>\n    </tr>\n  </tbody>\n</table>\n<p>1815 rows × 11 columns</p>\n</div>"
     },
     "execution_count": 6,
     "metadata": {},
     "output_type": "execute_result"
    }
   ],
   "source": [
    "filtered_cols = []\n",
    "\n",
    "for factor in subdf.columns[0:-2]:\n",
    "    q1 = subdf[factor].quantile(0.25)\n",
    "    q3 = subdf[factor].quantile(0.75)\n",
    "    iqr = q3-q1\n",
    "    filtered_cols.append(subdf[factor].loc[(subdf[factor] >= (q1 - 1.5 * iqr)) & (subdf[factor] <= (q3 + 1.5 * iqr))])\n",
    "\n",
    "# remove stock if it is an outlier in one or more columns\n",
    "filtered_subdf = pd.concat(filtered_cols, axis=1, join='inner')\n",
    "filtered_subdf = pd.concat([filtered_subdf, subdf[['Class', 'Sector']]], axis=1, join='inner')\n",
    "\n",
    "filtered_subdf"
   ]
  },
  {
   "cell_type": "markdown",
   "metadata": {
    "collapsed": false
   },
   "source": [
    "## 1.5 Save Filtered Dataframe"
   ]
  },
  {
   "cell_type": "code",
   "execution_count": 7,
   "metadata": {
    "collapsed": false,
    "pycharm": {
     "name": "#%%\n"
    }
   },
   "outputs": [],
   "source": [
    "# filtered_subdf.to_csv('2016_filtered.csv', index=False)"
   ]
  }
 ],
 "metadata": {
  "kernelspec": {
   "display_name": "Python 3",
   "language": "python",
   "name": "python3"
  },
  "language_info": {
   "codemirror_mode": {
    "name": "ipython",
    "version": 2
   },
   "file_extension": ".py",
   "mimetype": "text/x-python",
   "name": "python",
   "nbconvert_exporter": "python",
   "pygments_lexer": "ipython2",
   "version": "2.7.6"
  }
 },
 "nbformat": 4,
 "nbformat_minor": 0
}