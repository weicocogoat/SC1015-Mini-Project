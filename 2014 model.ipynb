{
 "cells": [
  {
   "cell_type": "markdown",
   "metadata": {},
   "source": [
    "# Building a model"
   ]
  },
  {
   "cell_type": "markdown",
   "metadata": {},
   "source": [
    "From the description of the dataset: \n",
    "\n",
    "The column, class, lists a binary classification for each stock: -\n",
    "\n",
    "- For each stock, if the Price Var[%] is positive, class would be 1. From a trading perspective, 1 identifies the stocks that a hypothetical trader should BUY at the start if the year and sell at the end of the year to make a profit.\n",
    "\n",
    "- For each stock, if the Price Var[%] is negative, class would be 0. From a trading perspective, 0 identifies the stocks that a hypothetical trader should NOT BUY, since their value will decrease, meaning a loss of capital\n",
    "\n",
    "\n",
    "As such, we will be looking into training a machine learning model (utilizing the class column) so that it learns to classify those stocks that are buy-worthy and not buy-worthy.\n",
    "\n",
    "The first of such model we will be looking at is a Multi-Variate Classification tree. \n",
    "\n",
    "Utilizing the factors that we have identified in our EDA, we will attempt create a model to reliably classify the different stocks into either class 0 or 1. \n",
    "\n",
    "This will allow us to reliably predict if a stock is worth buying at the start of the year and holding on to it until the end of the year, where one can sell it for profit.\n"
   ]
  },
  {
   "cell_type": "markdown",
   "metadata": {},
   "source": [
    "## Multi-variate Classification Tree"
   ]
  },
  {
   "cell_type": "code",
   "execution_count": 1,
   "metadata": {},
   "outputs": [],
   "source": [
    "import numpy as np\n",
    "import pandas as pd\n",
    "import seaborn as sb\n",
    "import matplotlib.pyplot as plt\n",
    "sb.set\n",
    "\n",
    "from sklearn.tree import plot_tree\n",
    "from sklearn.metrics import confusion_matrix\n",
    "from sklearn.tree import DecisionTreeClassifier\n",
    "from sklearn.model_selection import train_test_split"
   ]
  },
  {
   "cell_type": "code",
   "execution_count": 3,
   "metadata": {},
   "outputs": [
    {
     "data": {
      "text/html": [
       "<div>\n",
       "<style scoped>\n",
       "    .dataframe tbody tr th:only-of-type {\n",
       "        vertical-align: middle;\n",
       "    }\n",
       "\n",
       "    .dataframe tbody tr th {\n",
       "        vertical-align: top;\n",
       "    }\n",
       "\n",
       "    .dataframe thead th {\n",
       "        text-align: right;\n",
       "    }\n",
       "</style>\n",
       "<table border=\"1\" class=\"dataframe\">\n",
       "  <thead>\n",
       "    <tr style=\"text-align: right;\">\n",
       "      <th></th>\n",
       "      <th>Revenue</th>\n",
       "      <th>EBITDA</th>\n",
       "      <th>Profit Margin</th>\n",
       "      <th>returnOnEquity</th>\n",
       "      <th>Book Value per Share</th>\n",
       "      <th>Operating Cash Flow</th>\n",
       "      <th>Dividend Yield</th>\n",
       "      <th>R&amp;D Expenses</th>\n",
       "      <th>PRICE VAR [%]</th>\n",
       "      <th>Class</th>\n",
       "      <th>Sector</th>\n",
       "    </tr>\n",
       "  </thead>\n",
       "  <tbody>\n",
       "    <tr>\n",
       "      <th>0</th>\n",
       "      <td>5.727000e+09</td>\n",
       "      <td>683400000.0</td>\n",
       "      <td>0.066</td>\n",
       "      <td>0.2041</td>\n",
       "      <td>6.706</td>\n",
       "      <td>634100000.0</td>\n",
       "      <td>0.0173</td>\n",
       "      <td>0.0</td>\n",
       "      <td>18.603845</td>\n",
       "      <td>1</td>\n",
       "      <td>Consumer Defensive</td>\n",
       "    </tr>\n",
       "    <tr>\n",
       "      <th>1</th>\n",
       "      <td>4.551600e+09</td>\n",
       "      <td>241900000.0</td>\n",
       "      <td>-0.021</td>\n",
       "      <td>-0.1154</td>\n",
       "      <td>2.211</td>\n",
       "      <td>536500000.0</td>\n",
       "      <td>0.0117</td>\n",
       "      <td>0.0</td>\n",
       "      <td>26.681241</td>\n",
       "      <td>1</td>\n",
       "      <td>Consumer Defensive</td>\n",
       "    </tr>\n",
       "    <tr>\n",
       "      <th>2</th>\n",
       "      <td>2.464867e+09</td>\n",
       "      <td>771439000.0</td>\n",
       "      <td>0.196</td>\n",
       "      <td>0.3189</td>\n",
       "      <td>3.020</td>\n",
       "      <td>597491000.0</td>\n",
       "      <td>0.0000</td>\n",
       "      <td>0.0</td>\n",
       "      <td>37.721889</td>\n",
       "      <td>1</td>\n",
       "      <td>Consumer Defensive</td>\n",
       "    </tr>\n",
       "    <tr>\n",
       "      <th>3</th>\n",
       "      <td>3.297600e+09</td>\n",
       "      <td>743500000.0</td>\n",
       "      <td>0.126</td>\n",
       "      <td>0.1969</td>\n",
       "      <td>7.779</td>\n",
       "      <td>540300000.0</td>\n",
       "      <td>0.0157</td>\n",
       "      <td>0.0</td>\n",
       "      <td>10.792636</td>\n",
       "      <td>1</td>\n",
       "      <td>Consumer Defensive</td>\n",
       "    </tr>\n",
       "    <tr>\n",
       "      <th>4</th>\n",
       "      <td>5.973810e+08</td>\n",
       "      <td>183876000.0</td>\n",
       "      <td>0.122</td>\n",
       "      <td>0.1289</td>\n",
       "      <td>10.909</td>\n",
       "      <td>111582000.0</td>\n",
       "      <td>0.0000</td>\n",
       "      <td>0.0</td>\n",
       "      <td>49.607672</td>\n",
       "      <td>1</td>\n",
       "      <td>Consumer Defensive</td>\n",
       "    </tr>\n",
       "    <tr>\n",
       "      <th>...</th>\n",
       "      <td>...</td>\n",
       "      <td>...</td>\n",
       "      <td>...</td>\n",
       "      <td>...</td>\n",
       "      <td>...</td>\n",
       "      <td>...</td>\n",
       "      <td>...</td>\n",
       "      <td>...</td>\n",
       "      <td>...</td>\n",
       "      <td>...</td>\n",
       "      <td>...</td>\n",
       "    </tr>\n",
       "    <tr>\n",
       "      <th>1516</th>\n",
       "      <td>1.185080e+08</td>\n",
       "      <td>9650000.0</td>\n",
       "      <td>0.034</td>\n",
       "      <td>0.1324</td>\n",
       "      <td>4.249</td>\n",
       "      <td>7612000.0</td>\n",
       "      <td>0.0000</td>\n",
       "      <td>0.0</td>\n",
       "      <td>-2.453386</td>\n",
       "      <td>0</td>\n",
       "      <td>Technology</td>\n",
       "    </tr>\n",
       "    <tr>\n",
       "      <th>1517</th>\n",
       "      <td>4.952987e+07</td>\n",
       "      <td>-53213.0</td>\n",
       "      <td>-0.002</td>\n",
       "      <td>-0.0097</td>\n",
       "      <td>4.505</td>\n",
       "      <td>523987.0</td>\n",
       "      <td>0.0000</td>\n",
       "      <td>0.0</td>\n",
       "      <td>29.362884</td>\n",
       "      <td>1</td>\n",
       "      <td>Technology</td>\n",
       "    </tr>\n",
       "    <tr>\n",
       "      <th>1518</th>\n",
       "      <td>1.532400e+08</td>\n",
       "      <td>20887000.0</td>\n",
       "      <td>0.085</td>\n",
       "      <td>0.3646</td>\n",
       "      <td>2.426</td>\n",
       "      <td>-1587000.0</td>\n",
       "      <td>0.0000</td>\n",
       "      <td>11326000.0</td>\n",
       "      <td>-31.167763</td>\n",
       "      <td>0</td>\n",
       "      <td>Technology</td>\n",
       "    </tr>\n",
       "    <tr>\n",
       "      <th>1519</th>\n",
       "      <td>3.407580e+08</td>\n",
       "      <td>8512000.0</td>\n",
       "      <td>0.017</td>\n",
       "      <td>0.1456</td>\n",
       "      <td>8.489</td>\n",
       "      <td>5745000.0</td>\n",
       "      <td>0.0395</td>\n",
       "      <td>0.0</td>\n",
       "      <td>7.779579</td>\n",
       "      <td>1</td>\n",
       "      <td>Technology</td>\n",
       "    </tr>\n",
       "    <tr>\n",
       "      <th>1520</th>\n",
       "      <td>4.033737e+07</td>\n",
       "      <td>4959141.0</td>\n",
       "      <td>0.060</td>\n",
       "      <td>0.0721</td>\n",
       "      <td>1.645</td>\n",
       "      <td>4012331.0</td>\n",
       "      <td>0.0000</td>\n",
       "      <td>3379920.0</td>\n",
       "      <td>-34.099613</td>\n",
       "      <td>0</td>\n",
       "      <td>Technology</td>\n",
       "    </tr>\n",
       "  </tbody>\n",
       "</table>\n",
       "<p>1521 rows × 11 columns</p>\n",
       "</div>"
      ],
      "text/plain": [
       "           Revenue       EBITDA  Profit Margin  returnOnEquity  \\\n",
       "0     5.727000e+09  683400000.0          0.066          0.2041   \n",
       "1     4.551600e+09  241900000.0         -0.021         -0.1154   \n",
       "2     2.464867e+09  771439000.0          0.196          0.3189   \n",
       "3     3.297600e+09  743500000.0          0.126          0.1969   \n",
       "4     5.973810e+08  183876000.0          0.122          0.1289   \n",
       "...            ...          ...            ...             ...   \n",
       "1516  1.185080e+08    9650000.0          0.034          0.1324   \n",
       "1517  4.952987e+07     -53213.0         -0.002         -0.0097   \n",
       "1518  1.532400e+08   20887000.0          0.085          0.3646   \n",
       "1519  3.407580e+08    8512000.0          0.017          0.1456   \n",
       "1520  4.033737e+07    4959141.0          0.060          0.0721   \n",
       "\n",
       "      Book Value per Share  Operating Cash Flow  Dividend Yield  R&D Expenses  \\\n",
       "0                    6.706          634100000.0          0.0173           0.0   \n",
       "1                    2.211          536500000.0          0.0117           0.0   \n",
       "2                    3.020          597491000.0          0.0000           0.0   \n",
       "3                    7.779          540300000.0          0.0157           0.0   \n",
       "4                   10.909          111582000.0          0.0000           0.0   \n",
       "...                    ...                  ...             ...           ...   \n",
       "1516                 4.249            7612000.0          0.0000           0.0   \n",
       "1517                 4.505             523987.0          0.0000           0.0   \n",
       "1518                 2.426           -1587000.0          0.0000    11326000.0   \n",
       "1519                 8.489            5745000.0          0.0395           0.0   \n",
       "1520                 1.645            4012331.0          0.0000     3379920.0   \n",
       "\n",
       "      PRICE VAR [%]  Class              Sector  \n",
       "0         18.603845      1  Consumer Defensive  \n",
       "1         26.681241      1  Consumer Defensive  \n",
       "2         37.721889      1  Consumer Defensive  \n",
       "3         10.792636      1  Consumer Defensive  \n",
       "4         49.607672      1  Consumer Defensive  \n",
       "...             ...    ...                 ...  \n",
       "1516      -2.453386      0          Technology  \n",
       "1517      29.362884      1          Technology  \n",
       "1518     -31.167763      0          Technology  \n",
       "1519       7.779579      1          Technology  \n",
       "1520     -34.099613      0          Technology  \n",
       "\n",
       "[1521 rows x 11 columns]"
      ]
     },
     "execution_count": 3,
     "metadata": {},
     "output_type": "execute_result"
    }
   ],
   "source": [
    "df = pd.read_csv('2014_filtered.txt')\n",
    "df"
   ]
  },
  {
   "cell_type": "code",
   "execution_count": 4,
   "metadata": {},
   "outputs": [],
   "source": [
    "y = pd.DataFrame(df[\"Class\"])\n",
    "\n",
    "predictors = pd.DataFrame(df[[\"Revenue\", \"EBITDA\", \"Profit Margin\", \"returnOnEquity\", \"Book Value per Share\", \n",
    "                                 \"Operating Cash Flow\", \"Dividend Yield\", \"R&D Expenses\"]])\n",
    "X = predictors"
   ]
  },
  {
   "cell_type": "code",
   "execution_count": 15,
   "metadata": {},
   "outputs": [
    {
     "name": "stdout",
     "output_type": "stream",
     "text": [
      "Goodness of Fit of Model \tTrain Dataset\n",
      "Classification Accuracy \t: 0.6149122807017544\n",
      "True Postitive Rate \t\t: 0.5490566037735849\n",
      "True Negative Rate \t\t: 0.6721311475409836\n",
      "False Negative Rate \t\t: 0.4509433962264151\n",
      "False Postitive Rate \t\t: 0.32786885245901637\n",
      "\n",
      "Goodness of Fit of Model \tTest Dataset\n",
      "Classification Accuracy \t: 0.5853018372703412\n",
      "True Postitive Rate \t\t: 0.47619047619047616\n",
      "True Negative Rate \t\t: 0.6927083333333334\n",
      "False Negative Rate \t\t: 0.5238095238095238\n",
      "False Postitive Rate \t\t: 0.3072916666666667\n",
      "\n"
     ]
    },
    {
     "data": {
      "text/plain": [
       "<AxesSubplot:>"
      ]
     },
     "execution_count": 15,
     "metadata": {},
     "output_type": "execute_result"
    },
    {
     "data": {
      "image/png": "[encoded data removed]",
      "text/plain": [
       "<Figure size 864x288 with 4 Axes>"
      ]
     },
     "metadata": {
      "needs_background": "light"
     },
     "output_type": "display_data"
    }
   ],
   "source": [
    "# Split the Dataset into Train and Test\n",
    "X_train, X_test, y_train, y_test = train_test_split(X, y, test_size = 0.25)\n",
    "\n",
    "dectree = DecisionTreeClassifier(max_depth = 2)\n",
    "dectree.fit(X_train, y_train)\n",
    "\n",
    "# Predict Response corresponding to Predictors\n",
    "y_train_pred = dectree.predict(X_train)\n",
    "y_test_pred = dectree.predict(X_test)\n",
    "\n",
    "#Getting the confusion matrices\n",
    "train_confusion = confusion_matrix(y_train, y_train_pred)\n",
    "\n",
    "TP_train = train_confusion[1][1]\n",
    "FN_train = train_confusion[1][0]\n",
    "TN_train = train_confusion[0][0]\n",
    "FP_train = train_confusion[0][1]\n",
    "\n",
    "test_confusion = confusion_matrix(y_test, y_test_pred)\n",
    "\n",
    "TP_test = test_confusion[1][1]\n",
    "FN_test = test_confusion[1][0]\n",
    "TN_test = test_confusion[0][0]\n",
    "FP_test = test_confusion[0][1]\n",
    "\n",
    "\n",
    "# Check the Goodness of Fit (on Train Data)\n",
    "print(\"Goodness of Fit of Model \\tTrain Dataset\")\n",
    "print(\"Classification Accuracy \\t:\", dectree.score(X_train, y_train))\n",
    "print(\"True Postitive Rate \\t\\t:\", TP_train/(TP_train+FN_train))\n",
    "print(\"True Negative Rate \\t\\t:\", TN_train/(TN_train+FP_train))\n",
    "print(\"False Negative Rate \\t\\t:\", FN_train/(FN_train+TP_train))\n",
    "print(\"False Postitive Rate \\t\\t:\", FP_train/(FP_train+TN_train))\n",
    "print()\n",
    "\n",
    "# Check the Goodness of Fit (on Test Data)\n",
    "print(\"Goodness of Fit of Model \\tTest Dataset\")\n",
    "print(\"Classification Accuracy \\t:\", dectree.score(X_test, y_test))\n",
    "print(\"True Postitive Rate \\t\\t:\", TP_test/(TP_test+FN_test))\n",
    "print(\"True Negative Rate \\t\\t:\", TN_test/(TN_test+FP_test))\n",
    "print(\"False Negative Rate \\t\\t:\", FN_test/(FN_test+TP_test))\n",
    "print(\"False Postitive Rate \\t\\t:\", FP_test/(FP_test+TN_test))\n",
    "print()\n",
    "\n",
    "# Plot the Confusion Matrix for Train and Test\n",
    "f, axes = plt.subplots(1, 2, figsize=(12, 4))\n",
    "sb.heatmap(confusion_matrix(y_train, y_train_pred),\n",
    "           annot = True, fmt=\".0f\", annot_kws={\"size\": 18}, ax = axes[0])\n",
    "sb.heatmap(confusion_matrix(y_test, y_test_pred), \n",
    "           annot = True, fmt=\".0f\", annot_kws={\"size\": 18}, ax = axes[1])"
   ]
  },
  {
   "cell_type": "code",
   "execution_count": 16,
   "metadata": {},
   "outputs": [
    {
     "data": {
      "text/plain": [
       "[Text(334.8, 543.6, 'Profit Margin <= 0.071\\ngini = 0.498\\nsamples = 1140\\nvalue = [610, 530]\\nclass = 0'),\n",
       " Text(167.4, 326.16, 'R&D Expenses <= 67490.5\\ngini = 0.465\\nsamples = 649\\nvalue = [410, 239]\\nclass = 0'),\n",
       " Text(83.7, 108.72000000000003, 'gini = 0.475\\nsamples = 544\\nvalue = [333, 211]\\nclass = 0'),\n",
       " Text(251.10000000000002, 108.72000000000003, 'gini = 0.391\\nsamples = 105\\nvalue = [77, 28]\\nclass = 0'),\n",
       " Text(502.20000000000005, 326.16, 'Revenue <= 98559136.0\\ngini = 0.483\\nsamples = 491\\nvalue = [200, 291]\\nclass = 1'),\n",
       " Text(418.5, 108.72000000000003, 'gini = 0.359\\nsamples = 162\\nvalue = [38, 124]\\nclass = 1'),\n",
       " Text(585.9, 108.72000000000003, 'gini = 0.5\\nsamples = 329\\nvalue = [162, 167]\\nclass = 1')]"
      ]
     },
     "execution_count": 16,
     "metadata": {},
     "output_type": "execute_result"
    },
    {
     "data": {
      "image/png": "[encoded data removed]",
      "text/plain": [
       "<Figure size 864x864 with 1 Axes>"
      ]
     },
     "metadata": {
      "needs_background": "light"
     },
     "output_type": "display_data"
    }
   ],
   "source": [
    "# Plot the trained Decision Tree\n",
    "from sklearn.tree import plot_tree\n",
    "\n",
    "f = plt.figure(figsize=(12,12))\n",
    "plot_tree(dectree, filled=True, rounded=True, \n",
    "          feature_names=X_train.columns, \n",
    "          class_names=[\"0\",\"1\"])"
   ]
  },
  {
   "cell_type": "markdown",
   "metadata": {},
   "source": [
    "The model with a depth of 2 has a Classification Accuracy of 0.61 for the train set and 0.58 for the test set.\n",
    "\n",
    "Looking to improve the Classification accuracy for the test set, we looked into increasing the depth of the classification tree."
   ]
  },
  {
   "cell_type": "code",
   "execution_count": 27,
   "metadata": {},
   "outputs": [
    {
     "name": "stdout",
     "output_type": "stream",
     "text": [
      "Goodness of Fit of Model \tTrain Dataset\n",
      "Classification Accuracy \t: 0.6622807017543859\n",
      "True Postitive Rate \t\t: 0.5403377110694184\n",
      "True Negative Rate \t\t: 0.7693574958813838\n",
      "False Negative Rate \t\t: 0.4596622889305816\n",
      "False Postitive Rate \t\t: 0.23064250411861614\n",
      "\n",
      "Goodness of Fit of Model \tTest Dataset\n",
      "Classification Accuracy \t: 0.5774278215223098\n",
      "True Postitive Rate \t\t: 0.43548387096774194\n",
      "True Negative Rate \t\t: 0.7128205128205128\n",
      "False Negative Rate \t\t: 0.5645161290322581\n",
      "False Postitive Rate \t\t: 0.28717948717948716\n",
      "\n"
     ]
    },
    {
     "data": {
      "text/plain": [
       "<AxesSubplot:>"
      ]
     },
     "execution_count": 27,
     "metadata": {},
     "output_type": "execute_result"
    },
    {
     "data": {
      "image/png": "[encoded data removed]",
      "text/plain": [
       "<Figure size 864x288 with 4 Axes>"
      ]
     },
     "metadata": {
      "needs_background": "light"
     },
     "output_type": "display_data"
    }
   ],
   "source": [
    "# Split the Dataset into Train and Test\n",
    "X_train, X_test, y_train, y_test = train_test_split(X, y, test_size = 0.25)\n",
    "\n",
    "dectree = DecisionTreeClassifier(max_depth = 4)\n",
    "dectree.fit(X_train, y_train)\n",
    "\n",
    "# Predict Response corresponding to Predictors\n",
    "y_train_pred = dectree.predict(X_train)\n",
    "y_test_pred = dectree.predict(X_test)\n",
    "\n",
    "#Getting the confusion matrices\n",
    "train_confusion = confusion_matrix(y_train, y_train_pred)\n",
    "\n",
    "TP_train = train_confusion[1][1]\n",
    "FN_train = train_confusion[1][0]\n",
    "TN_train = train_confusion[0][0]\n",
    "FP_train = train_confusion[0][1]\n",
    "\n",
    "test_confusion = confusion_matrix(y_test, y_test_pred)\n",
    "\n",
    "TP_test = test_confusion[1][1]\n",
    "FN_test = test_confusion[1][0]\n",
    "TN_test = test_confusion[0][0]\n",
    "FP_test = test_confusion[0][1]\n",
    "\n",
    "# Check the Goodness of Fit (on Train Data)\n",
    "print(\"Goodness of Fit of Model \\tTrain Dataset\")\n",
    "print(\"Classification Accuracy \\t:\", dectree.score(X_train, y_train))\n",
    "print(\"True Postitive Rate \\t\\t:\", TP_train/(TP_train+FN_train))\n",
    "print(\"True Negative Rate \\t\\t:\", TN_train/(TN_train+FP_train))\n",
    "print(\"False Negative Rate \\t\\t:\", FN_train/(FN_train+TP_train))\n",
    "print(\"False Postitive Rate \\t\\t:\", FP_train/(FP_train+TN_train))\n",
    "print()\n",
    "\n",
    "# Check the Goodness of Fit (on Test Data)\n",
    "print(\"Goodness of Fit of Model \\tTest Dataset\")\n",
    "print(\"Classification Accuracy \\t:\", dectree.score(X_test, y_test))\n",
    "print(\"True Postitive Rate \\t\\t:\", TP_test/(TP_test+FN_test))\n",
    "print(\"True Negative Rate \\t\\t:\", TN_test/(TN_test+FP_test))\n",
    "print(\"False Negative Rate \\t\\t:\", FN_test/(FN_test+TP_test))\n",
    "print(\"False Postitive Rate \\t\\t:\", FP_test/(FP_test+TN_test))\n",
    "print()\n",
    "\n",
    "# Plot the Confusion Matrix for Train and Test\n",
    "f, axes = plt.subplots(1, 2, figsize=(12, 4))\n",
    "sb.heatmap(confusion_matrix(y_train, y_train_pred),\n",
    "           annot = True, fmt=\".0f\", annot_kws={\"size\": 18}, ax = axes[0])\n",
    "sb.heatmap(confusion_matrix(y_test, y_test_pred), \n",
    "           annot = True, fmt=\".0f\", annot_kws={\"size\": 18}, ax = axes[1])"
   ]
  },
  {
   "cell_type": "markdown",
   "metadata": {},
   "source": [
    "The model with a depth of 4 has a classification accuracy of 0.66 for the train dataset and 0.57 for the test dataset. \n",
    "\n",
    "Compared to the previous model with a depth of 2, it has a lower classification accuracy for the test set but higher classification accuracy for the train set. This implies that the model fo depth 4 might be overfitting the data and is thus, not reliable. As such, the model of depth 2 is more reliable. \n",
    "\n",
    "Looking to improve our model and get better classification accuracy, we looked into another machine learning model: Random Forest Classification. "
   ]
  },
  {
   "cell_type": "markdown",
   "metadata": {},
   "source": [
    "## Random Forest"
   ]
  },
  {
   "cell_type": "code",
   "execution_count": 28,
   "metadata": {},
   "outputs": [],
   "source": [
    "# Import RandomForestClassifier model from Scikit-Learn\n",
    "from sklearn.ensemble import RandomForestClassifier"
   ]
  },
  {
   "cell_type": "code",
   "execution_count": 40,
   "metadata": {},
   "outputs": [
    {
     "name": "stderr",
     "output_type": "stream",
     "text": [
      "<ipython-input-40-7bc6f316b3bf>:9: DataConversionWarning: A column-vector y was passed when a 1d array was expected. Please change the shape of y to (n_samples,), for example using ravel().\n",
      "  rforest.fit(X_train, y_train)                         # train the model\n"
     ]
    },
    {
     "name": "stdout",
     "output_type": "stream",
     "text": [
      "Goodness of Fit of Model \tTrain Dataset\n",
      "Classification Accuracy \t: 0.6877192982456141\n",
      "True Postitive Rate \t\t: 0.47309833024118736\n",
      "True Negative Rate \t\t: 0.8801996672212978\n",
      "False Negative Rate \t\t: 0.5269016697588126\n",
      "False Postitive Rate \t\t: 0.11980033277870217\n",
      "\n",
      "Goodness of Fit of Model \tTest Dataset\n",
      "Classification Accuracy \t: 0.6220472440944882\n",
      "True Postitive Rate \t\t: 0.4222222222222222\n",
      "True Negative Rate \t\t: 0.8009950248756219\n",
      "False Negative Rate \t\t: 0.5777777777777777\n",
      "False Postitive Rate \t\t: 0.19900497512437812\n",
      "\n"
     ]
    },
    {
     "data": {
      "text/plain": [
       "<AxesSubplot:>"
      ]
     },
     "execution_count": 40,
     "metadata": {},
     "output_type": "execute_result"
    },
    {
     "data": {
      "image/png": "[encoded data removed]",
      "text/plain": [
       "<Figure size 864x288 with 4 Axes>"
      ]
     },
     "metadata": {
      "needs_background": "light"
     },
     "output_type": "display_data"
    }
   ],
   "source": [
    "rforest = RandomForestClassifier(n_estimators = 100,  # n_estimators denote number of trees\n",
    "                                 max_depth = 2)       # set the maximum depth of each tree\n",
    "\n",
    "# Split the Dataset into Train and Test\n",
    "X_train, X_test, y_train, y_test = train_test_split(X, y, test_size = 0.25)\n",
    "\n",
    "# Random Forest using Train Data\n",
    "rforest = RandomForestClassifier(n_estimators = 100, max_depth = 4)  # create the object\n",
    "rforest.fit(X_train, y_train)                         # train the model\n",
    "\n",
    "# Predict Response corresponding to Predictors\n",
    "y_train_pred = rforest.predict(X_train)\n",
    "y_test_pred = rforest.predict(X_test)\n",
    "\n",
    "#Getting the confusion matrices\n",
    "train_confusion = confusion_matrix(y_train, y_train_pred)\n",
    "\n",
    "TP_train = train_confusion[1][1]\n",
    "FN_train = train_confusion[1][0]\n",
    "TN_train = train_confusion[0][0]\n",
    "FP_train = train_confusion[0][1]\n",
    "\n",
    "test_confusion = confusion_matrix(y_test, y_test_pred)\n",
    "\n",
    "TP_test = test_confusion[1][1]\n",
    "FN_test = test_confusion[1][0]\n",
    "TN_test = test_confusion[0][0]\n",
    "FP_test = test_confusion[0][1]\n",
    "\n",
    "# Check the Goodness of Fit (on Train Data)\n",
    "print(\"Goodness of Fit of Model \\tTrain Dataset\")\n",
    "print(\"Classification Accuracy \\t:\", rforest.score(X_train, y_train))\n",
    "print(\"True Postitive Rate \\t\\t:\", TP_train/(TP_train+FN_train))\n",
    "print(\"True Negative Rate \\t\\t:\", TN_train/(TN_train+FP_train))\n",
    "print(\"False Negative Rate \\t\\t:\", FN_train/(FN_train+TP_train))\n",
    "print(\"False Postitive Rate \\t\\t:\", FP_train/(FP_train+TN_train))\n",
    "print()\n",
    "\n",
    "# Check the Goodness of Fit (on Test Data)\n",
    "print(\"Goodness of Fit of Model \\tTest Dataset\")\n",
    "print(\"Classification Accuracy \\t:\", rforest.score(X_test, y_test))\n",
    "print(\"True Postitive Rate \\t\\t:\", TP_test/(TP_test+FN_test))\n",
    "print(\"True Negative Rate \\t\\t:\", TN_test/(TN_test+FP_test))\n",
    "print(\"False Negative Rate \\t\\t:\", FN_test/(FN_test+TP_test))\n",
    "print(\"False Postitive Rate \\t\\t:\", FP_test/(FP_test+TN_test))\n",
    "print()\n",
    "\n",
    "\n",
    "# Plot the Confusion Matrix for Train and Test\n",
    "f, axes = plt.subplots(1, 2, figsize=(12, 4))\n",
    "sb.heatmap(train_confusion,\n",
    "           annot = True, fmt=\".0f\", annot_kws={\"size\": 18}, ax = axes[0])\n",
    "sb.heatmap(test_confusion, \n",
    "           annot = True, fmt=\".0f\", annot_kws={\"size\": 18}, ax = axes[1])"
   ]
  },
  {
   "cell_type": "markdown",
   "metadata": {},
   "source": [
    "Utilizing the random forest model of approximately 100 trees of depth 2, we managed to obtain a classification accuracy of approximately 0.68 for the training data set and a classification accuracy of approximately 0.62 for the test data set. \n",
    "\n",
    "Looking to refine the classification accuracy, we looked into changing the n-estimators and depth of the tree."
   ]
  },
  {
   "cell_type": "code",
   "execution_count": 60,
   "metadata": {},
   "outputs": [
    {
     "name": "stderr",
     "output_type": "stream",
     "text": [
      "<ipython-input-60-be62f3f3c777>:9: DataConversionWarning: A column-vector y was passed when a 1d array was expected. Please change the shape of y to (n_samples,), for example using ravel().\n",
      "  rforest.fit(X_train, y_train)                         # train the model\n"
     ]
    },
    {
     "name": "stdout",
     "output_type": "stream",
     "text": [
      "Goodness of Fit of Model \tTrain Dataset\n",
      "Classification Accuracy \t: 0.6964912280701754\n",
      "True Postitive Rate \t\t: 0.5338208409506399\n",
      "True Negative Rate \t\t: 0.8465430016863407\n",
      "False Negative Rate \t\t: 0.46617915904936014\n",
      "False Postitive Rate \t\t: 0.15345699831365936\n",
      "\n",
      "Goodness of Fit of Model \tTest Dataset\n",
      "Classification Accuracy \t: 0.6666666666666666\n",
      "True Postitive Rate \t\t: 0.5174418604651163\n",
      "True Negative Rate \t\t: 0.7894736842105263\n",
      "False Negative Rate \t\t: 0.48255813953488375\n",
      "False Postitive Rate \t\t: 0.21052631578947367\n",
      "\n"
     ]
    },
    {
     "data": {
      "text/plain": [
       "<AxesSubplot:>"
      ]
     },
     "execution_count": 60,
     "metadata": {},
     "output_type": "execute_result"
    },
    {
     "data": {
      "image/png": "[encoded data removed]",
      "text/plain": [
       "<Figure size 864x288 with 4 Axes>"
      ]
     },
     "metadata": {
      "needs_background": "light"
     },
     "output_type": "display_data"
    }
   ],
   "source": [
    "rforest = RandomForestClassifier(n_estimators = 500,  # n_estimators denote number of trees\n",
    "                                 max_depth = 4)       # set the maximum depth of each tree\n",
    "\n",
    "# Split the Dataset into Train and Test\n",
    "X_train, X_test, y_train, y_test = train_test_split(X, y, test_size = 0.25)\n",
    "\n",
    "# Random Forest using Train Data\n",
    "rforest = RandomForestClassifier(n_estimators = 100, max_depth = 4)  # create the object\n",
    "rforest.fit(X_train, y_train)                         # train the model\n",
    "\n",
    "# Predict Response corresponding to Predictors\n",
    "y_train_pred = rforest.predict(X_train)\n",
    "y_test_pred = rforest.predict(X_test)\n",
    "\n",
    "#Getting the confusion matrices\n",
    "train_confusion = confusion_matrix(y_train, y_train_pred)\n",
    "\n",
    "TP_train = train_confusion[1][1]\n",
    "FN_train = train_confusion[1][0]\n",
    "TN_train = train_confusion[0][0]\n",
    "FP_train = train_confusion[0][1]\n",
    "\n",
    "test_confusion = confusion_matrix(y_test, y_test_pred)\n",
    "\n",
    "TP_test = test_confusion[1][1]\n",
    "FN_test = test_confusion[1][0]\n",
    "TN_test = test_confusion[0][0]\n",
    "FP_test = test_confusion[0][1]\n",
    "\n",
    "# Check the Goodness of Fit (on Train Data)\n",
    "print(\"Goodness of Fit of Model \\tTrain Dataset\")\n",
    "print(\"Classification Accuracy \\t:\", rforest.score(X_train, y_train))\n",
    "print(\"True Postitive Rate \\t\\t:\", TP_train/(TP_train+FN_train))\n",
    "print(\"True Negative Rate \\t\\t:\", TN_train/(TN_train+FP_train))\n",
    "print(\"False Negative Rate \\t\\t:\", FN_train/(FN_train+TP_train))\n",
    "print(\"False Postitive Rate \\t\\t:\", FP_train/(FP_train+TN_train))\n",
    "print()\n",
    "\n",
    "# Check the Goodness of Fit (on Test Data)\n",
    "print(\"Goodness of Fit of Model \\tTest Dataset\")\n",
    "print(\"Classification Accuracy \\t:\", rforest.score(X_test, y_test))\n",
    "print(\"True Postitive Rate \\t\\t:\", TP_test/(TP_test+FN_test))\n",
    "print(\"True Negative Rate \\t\\t:\", TN_test/(TN_test+FP_test))\n",
    "print(\"False Negative Rate \\t\\t:\", FN_test/(FN_test+TP_test))\n",
    "print(\"False Postitive Rate \\t\\t:\", FP_test/(FP_test+TN_test))\n",
    "print()\n",
    "\n",
    "\n",
    "# Plot the Confusion Matrix for Train and Test\n",
    "f, axes = plt.subplots(1, 2, figsize=(12, 4))\n",
    "sb.heatmap(train_confusion,\n",
    "           annot = True, fmt=\".0f\", annot_kws={\"size\": 18}, ax = axes[0])\n",
    "sb.heatmap(test_confusion, \n",
    "           annot = True, fmt=\".0f\", annot_kws={\"size\": 18}, ax = axes[1])"
   ]
  },
  {
   "cell_type": "markdown",
   "metadata": {},
   "source": [
    "Utilizing the random forest model of approximately 500 trees of depth 4, we managed to obtain a classification accuracy of approximately 0.69 for the training data set and a classification accuracy of approximately 0.66 for the test data set.\n",
    "\n",
    "While the classification accuracy for the training and test set have improved using this model. \n",
    "\n",
    "Comparing this random forest model and the multivariate classification tree model, we can see that there is an increase in the classification accuracy for both the train(0.69-r.forest vs 0.66-c.tree) and test data sets(0.66-r.forest vs 0.57-c.tree). \n",
    "\n",
    "Seeking to refine our random forest model, we decided to look into GridSearch to help us hypertune our parameters such that our model would be more accurate."
   ]
  },
  {
   "cell_type": "markdown",
   "metadata": {},
   "source": [
    "## Hypertuning with GridSearchCV"
   ]
  },
  {
   "cell_type": "code",
   "execution_count": 61,
   "metadata": {},
   "outputs": [],
   "source": [
    "# Import GridSearchCV from Scikit-Learn\n",
    "from sklearn.model_selection import GridSearchCV"
   ]
  },
  {
   "cell_type": "code",
   "execution_count": 62,
   "metadata": {},
   "outputs": [],
   "source": [
    "# Create the param grid\n",
    "param_grid = {'n_estimators': [int(x) for x in np.linspace(start = 100, stop = 500, num = 100)],\n",
    "               'max_features': ['auto', 'sqrt'],\n",
    "               'max_depth': [2,6],\n",
    "               'min_samples_split': [2, 5],\n",
    "               'min_samples_leaf': [1, 2],\n",
    "               'bootstrap': [True, False]}\n",
    "\n",
    "rf_Model = RandomForestClassifier()\n",
    "\n",
    "rf_Grid = GridSearchCV(estimator = rf_Model, param_grid = param_grid, cv = 3, verbose=2, n_jobs = 4)"
   ]
  },
  {
   "cell_type": "code",
   "execution_count": 63,
   "metadata": {},
   "outputs": [
    {
     "name": "stdout",
     "output_type": "stream",
     "text": [
      "Fitting 3 folds for each of 3200 candidates, totalling 9600 fits\n"
     ]
    },
    {
     "name": "stderr",
     "output_type": "stream",
     "text": [
      "[Parallel(n_jobs=4)]: Using backend LokyBackend with 4 concurrent workers.\n",
      "[Parallel(n_jobs=4)]: Done  33 tasks      | elapsed:    3.3s\n",
      "[Parallel(n_jobs=4)]: Done 154 tasks      | elapsed:   11.2s\n",
      "[Parallel(n_jobs=4)]: Done 357 tasks      | elapsed:   30.0s\n",
      "[Parallel(n_jobs=4)]: Done 640 tasks      | elapsed:   54.9s\n",
      "[Parallel(n_jobs=4)]: Done 1005 tasks      | elapsed:  1.4min\n",
      "[Parallel(n_jobs=4)]: Done 1450 tasks      | elapsed:  2.1min\n",
      "[Parallel(n_jobs=4)]: Done 1977 tasks      | elapsed:  2.8min\n",
      "[Parallel(n_jobs=4)]: Done 2584 tasks      | elapsed:  3.8min\n",
      "[Parallel(n_jobs=4)]: Done 3273 tasks      | elapsed:  5.0min\n",
      "[Parallel(n_jobs=4)]: Done 4042 tasks      | elapsed:  6.3min\n",
      "[Parallel(n_jobs=4)]: Done 4893 tasks      | elapsed:  7.8min\n",
      "[Parallel(n_jobs=4)]: Done 5824 tasks      | elapsed:  9.0min\n",
      "[Parallel(n_jobs=4)]: Done 6837 tasks      | elapsed: 10.3min\n",
      "[Parallel(n_jobs=4)]: Done 7930 tasks      | elapsed: 11.9min\n",
      "[Parallel(n_jobs=4)]: Done 9105 tasks      | elapsed: 13.9min\n",
      "[Parallel(n_jobs=4)]: Done 9600 out of 9600 | elapsed: 14.9min finished\n",
      "C:\\Users\\yeohw\\anaconda3\\lib\\site-packages\\sklearn\\model_selection\\_search.py:765: DataConversionWarning: A column-vector y was passed when a 1d array was expected. Please change the shape of y to (n_samples,), for example using ravel().\n",
      "  self.best_estimator_.fit(X, y, **fit_params)\n"
     ]
    },
    {
     "data": {
      "text/plain": [
       "GridSearchCV(cv=3, estimator=RandomForestClassifier(), n_jobs=4,\n",
       "             param_grid={'bootstrap': [True, False], 'max_depth': [2, 6],\n",
       "                         'max_features': ['auto', 'sqrt'],\n",
       "                         'min_samples_leaf': [1, 2],\n",
       "                         'min_samples_split': [2, 5],\n",
       "                         'n_estimators': [100, 104, 108, 112, 116, 120, 124,\n",
       "                                          128, 132, 136, 140, 144, 148, 152,\n",
       "                                          156, 160, 164, 168, 172, 176, 180,\n",
       "                                          184, 188, 192, 196, 201, 205, 209,\n",
       "                                          213, 217, ...]},\n",
       "             verbose=2)"
      ]
     },
     "execution_count": 63,
     "metadata": {},
     "output_type": "execute_result"
    }
   ],
   "source": [
    "rf_Grid.fit(X_train, y_train)"
   ]
  },
  {
   "cell_type": "code",
   "execution_count": 64,
   "metadata": {},
   "outputs": [
    {
     "data": {
      "text/plain": [
       "{'bootstrap': True,\n",
       " 'max_depth': 6,\n",
       " 'max_features': 'auto',\n",
       " 'min_samples_leaf': 1,\n",
       " 'min_samples_split': 2,\n",
       " 'n_estimators': 350}"
      ]
     },
     "execution_count": 64,
     "metadata": {},
     "output_type": "execute_result"
    }
   ],
   "source": [
    "rf_Grid.best_params_"
   ]
  },
  {
   "cell_type": "code",
   "execution_count": 66,
   "metadata": {},
   "outputs": [
    {
     "name": "stdout",
     "output_type": "stream",
     "text": [
      "Goodness of Fit of Model \tTrain Dataset\n",
      "Classification Accuracy \t: 0.7798245614035088\n",
      "True Postitive Rate \t\t: 0.6672760511882998\n",
      "True Negative Rate \t\t: 0.8836424957841484\n",
      "False Negative Rate \t\t: 0.3327239488117002\n",
      "False Postitive Rate \t\t: 0.1163575042158516\n",
      "\n",
      "Goodness of Fit of Model \tTest Dataset\n",
      "Classification Accuracy \t: 0.6745406824146981\n",
      "True Postitive Rate \t\t: 0.5406976744186046\n",
      "True Negative Rate \t\t: 0.784688995215311\n",
      "False Negative Rate \t\t: 0.45930232558139533\n",
      "False Postitive Rate \t\t: 0.215311004784689\n",
      "\n"
     ]
    },
    {
     "data": {
      "text/plain": [
       "<AxesSubplot:>"
      ]
     },
     "execution_count": 66,
     "metadata": {},
     "output_type": "execute_result"
    },
    {
     "data": {
      "image/png": "[encoded data removed]",
      "text/plain": [
       "<Figure size 864x288 with 4 Axes>"
      ]
     },
     "metadata": {
      "needs_background": "light"
     },
     "output_type": "display_data"
    }
   ],
   "source": [
    "# Predict Response corresponding to Predictors\n",
    "y_train_pred = rf_Grid.predict(X_train)\n",
    "y_test_pred = rf_Grid.predict(X_test)\n",
    "\n",
    "train_confusion = confusion_matrix(y_train, y_train_pred)\n",
    "\n",
    "TP_train = train_confusion[1][1]\n",
    "FN_train = train_confusion[1][0]\n",
    "TN_train = train_confusion[0][0]\n",
    "FP_train = train_confusion[0][1]\n",
    "\n",
    "test_confusion = confusion_matrix(y_test, y_test_pred)\n",
    "\n",
    "TP_test = test_confusion[1][1]\n",
    "FN_test = test_confusion[1][0]\n",
    "TN_test = test_confusion[0][0]\n",
    "FP_test = test_confusion[0][1]\n",
    "\n",
    "# Check the Goodness of Fit (on Train Data)\n",
    "print(\"Goodness of Fit of Model \\tTrain Dataset\")\n",
    "print(\"Classification Accuracy \\t:\", rf_Grid.score(X_train, y_train))\n",
    "print(\"True Postitive Rate \\t\\t:\", TP_train/(TP_train+FN_train))\n",
    "print(\"True Negative Rate \\t\\t:\", TN_train/(TN_train+FP_train))\n",
    "print(\"False Negative Rate \\t\\t:\", FN_train/(FN_train+TP_train))\n",
    "print(\"False Postitive Rate \\t\\t:\", FP_train/(FP_train+TN_train))\n",
    "print()\n",
    "\n",
    "# Check the Goodness of Fit (on Test Data)\n",
    "print(\"Goodness of Fit of Model \\tTest Dataset\")\n",
    "print(\"Classification Accuracy \\t:\", rf_Grid.score(X_test, y_test))\n",
    "print(\"True Postitive Rate \\t\\t:\", TP_test/(TP_test+FN_test))\n",
    "print(\"True Negative Rate \\t\\t:\", TN_test/(TN_test+FP_test))\n",
    "print(\"False Negative Rate \\t\\t:\", FN_test/(FN_test+TP_test))\n",
    "print(\"False Postitive Rate \\t\\t:\", FP_test/(FP_test+TN_test))\n",
    "print()\n",
    "\n",
    "\n",
    "# Plot the Confusion Matrix for Train and Test\n",
    "f, axes = plt.subplots(1, 2, figsize=(12, 4))\n",
    "sb.heatmap(train_confusion,\n",
    "           annot = True, fmt=\".0f\", annot_kws={\"size\": 18}, ax = axes[0])\n",
    "sb.heatmap(test_confusion, \n",
    "           annot = True, fmt=\".0f\", annot_kws={\"size\": 18}, ax = axes[1])"
   ]
  },
  {
   "cell_type": "code",
   "execution_count": null,
   "metadata": {},
   "outputs": [],
   "source": []
  }
 ],
 "metadata": {
  "kernelspec": {
   "display_name": "Python 3",
   "language": "python",
   "name": "python3"
  },
  "language_info": {
   "codemirror_mode": {
    "name": "ipython",
    "version": 3
   },
   "file_extension": ".py",
   "mimetype": "text/x-python",
   "name": "python",
   "nbconvert_exporter": "python",
   "pygments_lexer": "ipython3",
   "version": "3.8.5"
  }
 },
 "nbformat": 4,
 "nbformat_minor": 4
}
