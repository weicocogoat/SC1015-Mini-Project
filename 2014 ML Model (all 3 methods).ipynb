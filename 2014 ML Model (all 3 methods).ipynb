{
 "cells": [
  {
   "cell_type": "markdown",
   "metadata": {},
   "source": [
    "# Building a model"
   ]
  },
  {
   "cell_type": "markdown",
   "metadata": {},
   "source": [
    "From the description of the dataset: \n",
    "\n",
    "The column, class, lists a binary classification for each stock: -\n",
    "\n",
    "- For each stock, if the Price Var[%] is positive, class would be 1. From a trading perspective, 1 identifies the stocks that a hypothetical trader should BUY at the start if the year and sell at the end of the year to make a profit.\n",
    "\n",
    "- For each stock, if the Price Var[%] is negative, class would be 0. From a trading perspective, 0 identifies the stocks that a hypothetical trader should NOT BUY, since their value will decrease, meaning a loss of capital\n",
    "\n",
    "\n",
    "As such, we will be looking into training a machine learning model (utilizing the class column) so that it learns to classify those stocks that are buy-worthy and not buy-worthy.\n",
    "\n",
    "The first of such model we will be looking at is a Multi-Variate Classification tree. \n",
    "\n",
    "Utilizing the factors that we have identified in our EDA, we will attempt create a model to reliably classify the different stocks into either class 0 or 1. \n",
    "\n",
    "This will allow us to reliably predict if a stock is worth buying at the start of the year and holding on to it until the end of the year, where one can sell it for profit."
   ]
  },
  {
   "cell_type": "markdown",
   "metadata": {},
   "source": [
    "## Multi-variate Classification Tree"
   ]
  },
  {
   "cell_type": "code",
   "execution_count": 90,
   "metadata": {},
   "outputs": [],
   "source": [
    "import numpy as np\n",
    "import pandas as pd\n",
    "import seaborn as sb\n",
    "import matplotlib.pyplot as plt\n",
    "sb.set\n",
    "\n",
    "from sklearn.tree import plot_tree\n",
    "from sklearn.metrics import confusion_matrix\n",
    "from sklearn.tree import DecisionTreeClassifier\n",
    "from sklearn.model_selection import train_test_split"
   ]
  },
  {
   "cell_type": "code",
   "execution_count": 91,
   "metadata": {},
   "outputs": [
    {
     "data": {
      "text/html": [
       "<div>\n",
       "<style scoped>\n",
       "    .dataframe tbody tr th:only-of-type {\n",
       "        vertical-align: middle;\n",
       "    }\n",
       "\n",
       "    .dataframe tbody tr th {\n",
       "        vertical-align: top;\n",
       "    }\n",
       "\n",
       "    .dataframe thead th {\n",
       "        text-align: right;\n",
       "    }\n",
       "</style>\n",
       "<table border=\"1\" class=\"dataframe\">\n",
       "  <thead>\n",
       "    <tr style=\"text-align: right;\">\n",
       "      <th></th>\n",
       "      <th>Revenue</th>\n",
       "      <th>Profit Margin</th>\n",
       "      <th>returnOnEquity</th>\n",
       "      <th>Book Value per Share</th>\n",
       "      <th>Operating Cash Flow</th>\n",
       "      <th>Class</th>\n",
       "    </tr>\n",
       "  </thead>\n",
       "  <tbody>\n",
       "    <tr>\n",
       "      <th>0</th>\n",
       "      <td>5.727000e+09</td>\n",
       "      <td>0.066</td>\n",
       "      <td>0.2041</td>\n",
       "      <td>6.706</td>\n",
       "      <td>634100000.0</td>\n",
       "      <td>1</td>\n",
       "    </tr>\n",
       "    <tr>\n",
       "      <th>1</th>\n",
       "      <td>4.551600e+09</td>\n",
       "      <td>-0.021</td>\n",
       "      <td>-0.1154</td>\n",
       "      <td>2.211</td>\n",
       "      <td>536500000.0</td>\n",
       "      <td>1</td>\n",
       "    </tr>\n",
       "    <tr>\n",
       "      <th>2</th>\n",
       "      <td>2.464867e+09</td>\n",
       "      <td>0.196</td>\n",
       "      <td>0.3189</td>\n",
       "      <td>3.020</td>\n",
       "      <td>597491000.0</td>\n",
       "      <td>1</td>\n",
       "    </tr>\n",
       "    <tr>\n",
       "      <th>3</th>\n",
       "      <td>3.297600e+09</td>\n",
       "      <td>0.126</td>\n",
       "      <td>0.1969</td>\n",
       "      <td>7.779</td>\n",
       "      <td>540300000.0</td>\n",
       "      <td>1</td>\n",
       "    </tr>\n",
       "    <tr>\n",
       "      <th>4</th>\n",
       "      <td>5.973810e+08</td>\n",
       "      <td>0.122</td>\n",
       "      <td>0.1289</td>\n",
       "      <td>10.909</td>\n",
       "      <td>111582000.0</td>\n",
       "      <td>1</td>\n",
       "    </tr>\n",
       "    <tr>\n",
       "      <th>...</th>\n",
       "      <td>...</td>\n",
       "      <td>...</td>\n",
       "      <td>...</td>\n",
       "      <td>...</td>\n",
       "      <td>...</td>\n",
       "      <td>...</td>\n",
       "    </tr>\n",
       "    <tr>\n",
       "      <th>1516</th>\n",
       "      <td>1.185080e+08</td>\n",
       "      <td>0.034</td>\n",
       "      <td>0.1324</td>\n",
       "      <td>4.249</td>\n",
       "      <td>7612000.0</td>\n",
       "      <td>0</td>\n",
       "    </tr>\n",
       "    <tr>\n",
       "      <th>1517</th>\n",
       "      <td>4.952987e+07</td>\n",
       "      <td>-0.002</td>\n",
       "      <td>-0.0097</td>\n",
       "      <td>4.505</td>\n",
       "      <td>523987.0</td>\n",
       "      <td>1</td>\n",
       "    </tr>\n",
       "    <tr>\n",
       "      <th>1518</th>\n",
       "      <td>1.532400e+08</td>\n",
       "      <td>0.085</td>\n",
       "      <td>0.3646</td>\n",
       "      <td>2.426</td>\n",
       "      <td>-1587000.0</td>\n",
       "      <td>0</td>\n",
       "    </tr>\n",
       "    <tr>\n",
       "      <th>1519</th>\n",
       "      <td>3.407580e+08</td>\n",
       "      <td>0.017</td>\n",
       "      <td>0.1456</td>\n",
       "      <td>8.489</td>\n",
       "      <td>5745000.0</td>\n",
       "      <td>1</td>\n",
       "    </tr>\n",
       "    <tr>\n",
       "      <th>1520</th>\n",
       "      <td>4.033737e+07</td>\n",
       "      <td>0.060</td>\n",
       "      <td>0.0721</td>\n",
       "      <td>1.645</td>\n",
       "      <td>4012331.0</td>\n",
       "      <td>0</td>\n",
       "    </tr>\n",
       "  </tbody>\n",
       "</table>\n",
       "<p>1521 rows × 6 columns</p>\n",
       "</div>"
      ],
      "text/plain": [
       "           Revenue  Profit Margin  returnOnEquity  Book Value per Share  \\\n",
       "0     5.727000e+09          0.066          0.2041                 6.706   \n",
       "1     4.551600e+09         -0.021         -0.1154                 2.211   \n",
       "2     2.464867e+09          0.196          0.3189                 3.020   \n",
       "3     3.297600e+09          0.126          0.1969                 7.779   \n",
       "4     5.973810e+08          0.122          0.1289                10.909   \n",
       "...            ...            ...             ...                   ...   \n",
       "1516  1.185080e+08          0.034          0.1324                 4.249   \n",
       "1517  4.952987e+07         -0.002         -0.0097                 4.505   \n",
       "1518  1.532400e+08          0.085          0.3646                 2.426   \n",
       "1519  3.407580e+08          0.017          0.1456                 8.489   \n",
       "1520  4.033737e+07          0.060          0.0721                 1.645   \n",
       "\n",
       "      Operating Cash Flow  Class  \n",
       "0             634100000.0      1  \n",
       "1             536500000.0      1  \n",
       "2             597491000.0      1  \n",
       "3             540300000.0      1  \n",
       "4             111582000.0      1  \n",
       "...                   ...    ...  \n",
       "1516            7612000.0      0  \n",
       "1517             523987.0      1  \n",
       "1518           -1587000.0      0  \n",
       "1519            5745000.0      1  \n",
       "1520            4012331.0      0  \n",
       "\n",
       "[1521 rows x 6 columns]"
      ]
     },
     "execution_count": 91,
     "metadata": {},
     "output_type": "execute_result"
    }
   ],
   "source": [
    "df = pd.read_csv('2014_After_EDA.txt')\n",
    "df"
   ]
  },
  {
   "cell_type": "code",
   "execution_count": 92,
   "metadata": {},
   "outputs": [],
   "source": [
    "y = pd.DataFrame(df[\"Class\"])\n",
    "\n",
    "predictors = pd.DataFrame(df[[\"Revenue\", \"Profit Margin\", \"returnOnEquity\", \"Book Value per Share\", \n",
    "                                 \"Operating Cash Flow\"]])\n",
    "X = predictors"
   ]
  },
  {
   "cell_type": "code",
   "execution_count": 106,
   "metadata": {},
   "outputs": [
    {
     "name": "stdout",
     "output_type": "stream",
     "text": [
      "Goodness of Fit of Model \tTrain Dataset\n",
      "Classification Accuracy \t: 0.634046052631579\n",
      "True Postitive Rate \t\t: 0.4755244755244755\n",
      "True Negative Rate \t\t: 0.7748447204968945\n",
      "False Negative Rate \t\t: 0.5244755244755245\n",
      "False Postitive Rate \t\t: 0.2251552795031056\n",
      "\n",
      "Goodness of Fit of Model \tTest Dataset\n",
      "Classification Accuracy \t: 0.5540983606557377\n",
      "True Postitive Rate \t\t: 0.42857142857142855\n",
      "True Negative Rate \t\t: 0.6708860759493671\n",
      "False Negative Rate \t\t: 0.5714285714285714\n",
      "False Postitive Rate \t\t: 0.3291139240506329\n",
      "\n"
     ]
    },
    {
     "data": {
      "text/plain": [
       "<AxesSubplot:>"
      ]
     },
     "execution_count": 106,
     "metadata": {},
     "output_type": "execute_result"
    },
    {
     "data": {
      "image/png": "[encoded data removed]",
      "text/plain": [
       "<Figure size 864x288 with 4 Axes>"
      ]
     },
     "metadata": {
      "needs_background": "light"
     },
     "output_type": "display_data"
    }
   ],
   "source": [
    "# Split the Dataset into Train and Test\n",
    "X_train, X_test, y_train, y_test = train_test_split(X, y, test_size = 0.2)\n",
    "\n",
    "dectree = DecisionTreeClassifier(max_depth = 2)\n",
    "dectree.fit(X_train, y_train)\n",
    "\n",
    "# Predict Response corresponding to Predictors\n",
    "y_train_pred = dectree.predict(X_train)\n",
    "y_test_pred = dectree.predict(X_test)\n",
    "\n",
    "#Getting the confusion matrices\n",
    "train_confusion = confusion_matrix(y_train, y_train_pred)\n",
    "\n",
    "TP_train = train_confusion[1][1]\n",
    "FN_train = train_confusion[1][0]\n",
    "TN_train = train_confusion[0][0]\n",
    "FP_train = train_confusion[0][1]\n",
    "\n",
    "test_confusion = confusion_matrix(y_test, y_test_pred)\n",
    "\n",
    "TP_test = test_confusion[1][1]\n",
    "FN_test = test_confusion[1][0]\n",
    "TN_test = test_confusion[0][0]\n",
    "FP_test = test_confusion[0][1]\n",
    "\n",
    "\n",
    "# Check the Goodness of Fit (on Train Data)\n",
    "print(\"Goodness of Fit of Model \\tTrain Dataset\")\n",
    "print(\"Classification Accuracy \\t:\", dectree.score(X_train, y_train))\n",
    "print(\"True Postitive Rate \\t\\t:\", TP_train/(TP_train+FN_train))\n",
    "print(\"True Negative Rate \\t\\t:\", TN_train/(TN_train+FP_train))\n",
    "print(\"False Negative Rate \\t\\t:\", FN_train/(FN_train+TP_train))\n",
    "print(\"False Postitive Rate \\t\\t:\", FP_train/(FP_train+TN_train))\n",
    "print()\n",
    "\n",
    "# Check the Goodness of Fit (on Test Data)\n",
    "print(\"Goodness of Fit of Model \\tTest Dataset\")\n",
    "print(\"Classification Accuracy \\t:\", dectree.score(X_test, y_test))\n",
    "print(\"True Postitive Rate \\t\\t:\", TP_test/(TP_test+FN_test))\n",
    "print(\"True Negative Rate \\t\\t:\", TN_test/(TN_test+FP_test))\n",
    "print(\"False Negative Rate \\t\\t:\", FN_test/(FN_test+TP_test))\n",
    "print(\"False Postitive Rate \\t\\t:\", FP_test/(FP_test+TN_test))\n",
    "print()\n",
    "\n",
    "# Plot the Confusion Matrix for Train and Test\n",
    "f, axes = plt.subplots(1, 2, figsize=(12, 4))\n",
    "sb.heatmap(confusion_matrix(y_train, y_train_pred),\n",
    "           annot = True, fmt=\".0f\", annot_kws={\"size\": 18}, ax = axes[0])\n",
    "sb.heatmap(confusion_matrix(y_test, y_test_pred), \n",
    "           annot = True, fmt=\".0f\", annot_kws={\"size\": 18}, ax = axes[1])"
   ]
  },
  {
   "cell_type": "code",
   "execution_count": 107,
   "metadata": {},
   "outputs": [
    {
     "data": {
      "text/plain": [
       "[Text(334.8, 543.6, 'Profit Margin <= 0.051\\ngini = 0.498\\nsamples = 1216\\nvalue = [644, 572]\\nclass = 0'),\n",
       " Text(167.4, 326.16, 'Revenue <= 4609000.0\\ngini = 0.449\\nsamples = 535\\nvalue = [353, 182]\\nclass = 0'),\n",
       " Text(83.7, 108.72000000000003, 'gini = 0.0\\nsamples = 3\\nvalue = [0, 3]\\nclass = 1'),\n",
       " Text(251.10000000000002, 108.72000000000003, 'gini = 0.447\\nsamples = 532\\nvalue = [353, 179]\\nclass = 0'),\n",
       " Text(502.20000000000005, 326.16, 'Revenue <= 442238496.0\\ngini = 0.489\\nsamples = 681\\nvalue = [291, 390]\\nclass = 1'),\n",
       " Text(418.5, 108.72000000000003, 'gini = 0.455\\nsamples = 414\\nvalue = [145, 269]\\nclass = 1'),\n",
       " Text(585.9, 108.72000000000003, 'gini = 0.496\\nsamples = 267\\nvalue = [146, 121]\\nclass = 0')]"
      ]
     },
     "execution_count": 107,
     "metadata": {},
     "output_type": "execute_result"
    },
    {
     "data": {
      "image/png": "[encoded data removed]",
      "text/plain": [
       "<Figure size 864x864 with 1 Axes>"
      ]
     },
     "metadata": {
      "needs_background": "light"
     },
     "output_type": "display_data"
    }
   ],
   "source": [
    "# Plot the trained Decision Tree\n",
    "from sklearn.tree import plot_tree\n",
    "\n",
    "f = plt.figure(figsize=(12,12))\n",
    "plot_tree(dectree, filled=True, rounded=True, \n",
    "          feature_names=X_train.columns, \n",
    "          class_names=[\"0\",\"1\"])"
   ]
  },
  {
   "cell_type": "markdown",
   "metadata": {},
   "source": [
    "The model with a depth of 2 has a Classification Accuracy of 0.63 for the train set and 0.55 for the test set.\n",
    "\n",
    "Looking to improve the Classification accuracy for the test set, we looked into increasing the depth of the classification tree."
   ]
  },
  {
   "cell_type": "code",
   "execution_count": 109,
   "metadata": {},
   "outputs": [
    {
     "name": "stdout",
     "output_type": "stream",
     "text": [
      "Goodness of Fit of Model \tTrain Dataset\n",
      "Classification Accuracy \t: 0.6644736842105263\n",
      "True Postitive Rate \t\t: 0.6085470085470085\n",
      "True Negative Rate \t\t: 0.716323296354992\n",
      "False Negative Rate \t\t: 0.39145299145299145\n",
      "False Postitive Rate \t\t: 0.2836767036450079\n",
      "\n",
      "Goodness of Fit of Model \tTest Dataset\n",
      "Classification Accuracy \t: 0.5639344262295082\n",
      "True Postitive Rate \t\t: 0.5597014925373134\n",
      "True Negative Rate \t\t: 0.5672514619883041\n",
      "False Negative Rate \t\t: 0.44029850746268656\n",
      "False Postitive Rate \t\t: 0.4327485380116959\n",
      "\n"
     ]
    },
    {
     "data": {
      "text/plain": [
       "<AxesSubplot:>"
      ]
     },
     "execution_count": 109,
     "metadata": {},
     "output_type": "execute_result"
    },
    {
     "data": {
      "image/png": "[encoded data removed]",
      "text/plain": [
       "<Figure size 864x288 with 4 Axes>"
      ]
     },
     "metadata": {
      "needs_background": "light"
     },
     "output_type": "display_data"
    }
   ],
   "source": [
    "# Split the Dataset into Train and Test\n",
    "X_train, X_test, y_train, y_test = train_test_split(X, y, test_size = 0.2)\n",
    "\n",
    "dectree = DecisionTreeClassifier(max_depth = 4)\n",
    "dectree.fit(X_train, y_train)\n",
    "\n",
    "# Predict Response corresponding to Predictors\n",
    "y_train_pred = dectree.predict(X_train)\n",
    "y_test_pred = dectree.predict(X_test)\n",
    "\n",
    "#Getting the confusion matrices\n",
    "train_confusion = confusion_matrix(y_train, y_train_pred)\n",
    "\n",
    "TP_train = train_confusion[1][1]\n",
    "FN_train = train_confusion[1][0]\n",
    "TN_train = train_confusion[0][0]\n",
    "FP_train = train_confusion[0][1]\n",
    "\n",
    "test_confusion = confusion_matrix(y_test, y_test_pred)\n",
    "\n",
    "TP_test = test_confusion[1][1]\n",
    "FN_test = test_confusion[1][0]\n",
    "TN_test = test_confusion[0][0]\n",
    "FP_test = test_confusion[0][1]\n",
    "\n",
    "# Check the Goodness of Fit (on Train Data)\n",
    "print(\"Goodness of Fit of Model \\tTrain Dataset\")\n",
    "print(\"Classification Accuracy \\t:\", dectree.score(X_train, y_train))\n",
    "print(\"True Postitive Rate \\t\\t:\", TP_train/(TP_train+FN_train))\n",
    "print(\"True Negative Rate \\t\\t:\", TN_train/(TN_train+FP_train))\n",
    "print(\"False Negative Rate \\t\\t:\", FN_train/(FN_train+TP_train))\n",
    "print(\"False Postitive Rate \\t\\t:\", FP_train/(FP_train+TN_train))\n",
    "print()\n",
    "\n",
    "# Check the Goodness of Fit (on Test Data)\n",
    "print(\"Goodness of Fit of Model \\tTest Dataset\")\n",
    "print(\"Classification Accuracy \\t:\", dectree.score(X_test, y_test))\n",
    "print(\"True Postitive Rate \\t\\t:\", TP_test/(TP_test+FN_test))\n",
    "print(\"True Negative Rate \\t\\t:\", TN_test/(TN_test+FP_test))\n",
    "print(\"False Negative Rate \\t\\t:\", FN_test/(FN_test+TP_test))\n",
    "print(\"False Postitive Rate \\t\\t:\", FP_test/(FP_test+TN_test))\n",
    "print()\n",
    "\n",
    "# Plot the Confusion Matrix for Train and Test\n",
    "f, axes = plt.subplots(1, 2, figsize=(12, 4))\n",
    "sb.heatmap(confusion_matrix(y_train, y_train_pred),\n",
    "           annot = True, fmt=\".0f\", annot_kws={\"size\": 18}, ax = axes[0])\n",
    "sb.heatmap(confusion_matrix(y_test, y_test_pred), \n",
    "           annot = True, fmt=\".0f\", annot_kws={\"size\": 18}, ax = axes[1])"
   ]
  },
  {
   "cell_type": "markdown",
   "metadata": {},
   "source": [
    "The model with a depth of 4 has a classification accuracy of 0.66 for the train dataset and 0.56 for the test dataset. \n",
    "\n",
    "Compared to the previous model with a depth of 2, it has approximately the classification accuracy for the test set but higher classification accuracy for the train set. \n",
    "\n",
    "Looking to improve our model and get better classification accuracy, we looked into another machine learning model: Random Forest Classification. "
   ]
  },
  {
   "cell_type": "markdown",
   "metadata": {},
   "source": [
    "## Random Forest"
   ]
  },
  {
   "cell_type": "code",
   "execution_count": 110,
   "metadata": {},
   "outputs": [],
   "source": [
    "# Import RandomForestClassifier model from Scikit-Learn\n",
    "from sklearn.ensemble import RandomForestClassifier"
   ]
  },
  {
   "cell_type": "code",
   "execution_count": 117,
   "metadata": {},
   "outputs": [
    {
     "name": "stderr",
     "output_type": "stream",
     "text": [
      "<ipython-input-117-7bc6f316b3bf>:9: DataConversionWarning: A column-vector y was passed when a 1d array was expected. Please change the shape of y to (n_samples,), for example using ravel().\n",
      "  rforest.fit(X_train, y_train)                         # train the model\n"
     ]
    },
    {
     "name": "stdout",
     "output_type": "stream",
     "text": [
      "Goodness of Fit of Model \tTrain Dataset\n",
      "Classification Accuracy \t: 0.6815789473684211\n",
      "True Postitive Rate \t\t: 0.5753176043557169\n",
      "True Negative Rate \t\t: 0.7809847198641766\n",
      "False Negative Rate \t\t: 0.4246823956442831\n",
      "False Postitive Rate \t\t: 0.21901528013582344\n",
      "\n",
      "Goodness of Fit of Model \tTest Dataset\n",
      "Classification Accuracy \t: 0.6062992125984252\n",
      "True Postitive Rate \t\t: 0.5059523809523809\n",
      "True Negative Rate \t\t: 0.6854460093896714\n",
      "False Negative Rate \t\t: 0.49404761904761907\n",
      "False Postitive Rate \t\t: 0.3145539906103286\n",
      "\n"
     ]
    },
    {
     "data": {
      "text/plain": [
       "<AxesSubplot:>"
      ]
     },
     "execution_count": 117,
     "metadata": {},
     "output_type": "execute_result"
    },
    {
     "data": {
      "image/png": "[encoded data removed]",
      "text/plain": [
       "<Figure size 864x288 with 4 Axes>"
      ]
     },
     "metadata": {
      "needs_background": "light"
     },
     "output_type": "display_data"
    }
   ],
   "source": [
    "rforest = RandomForestClassifier(n_estimators = 100,  # n_estimators denote number of trees\n",
    "                                 max_depth = 2)       # set the maximum depth of each tree\n",
    "\n",
    "# Split the Dataset into Train and Test\n",
    "X_train, X_test, y_train, y_test = train_test_split(X, y, test_size = 0.25)\n",
    "\n",
    "# Random Forest using Train Data\n",
    "rforest = RandomForestClassifier(n_estimators = 100, max_depth = 4)  # create the object\n",
    "rforest.fit(X_train, y_train)                         # train the model\n",
    "\n",
    "# Predict Response corresponding to Predictors\n",
    "y_train_pred = rforest.predict(X_train)\n",
    "y_test_pred = rforest.predict(X_test)\n",
    "\n",
    "#Getting the confusion matrices\n",
    "train_confusion = confusion_matrix(y_train, y_train_pred)\n",
    "\n",
    "TP_train = train_confusion[1][1]\n",
    "FN_train = train_confusion[1][0]\n",
    "TN_train = train_confusion[0][0]\n",
    "FP_train = train_confusion[0][1]\n",
    "\n",
    "test_confusion = confusion_matrix(y_test, y_test_pred)\n",
    "\n",
    "TP_test = test_confusion[1][1]\n",
    "FN_test = test_confusion[1][0]\n",
    "TN_test = test_confusion[0][0]\n",
    "FP_test = test_confusion[0][1]\n",
    "\n",
    "# Check the Goodness of Fit (on Train Data)\n",
    "print(\"Goodness of Fit of Model \\tTrain Dataset\")\n",
    "print(\"Classification Accuracy \\t:\", rforest.score(X_train, y_train))\n",
    "print(\"True Postitive Rate \\t\\t:\", TP_train/(TP_train+FN_train))\n",
    "print(\"True Negative Rate \\t\\t:\", TN_train/(TN_train+FP_train))\n",
    "print(\"False Negative Rate \\t\\t:\", FN_train/(FN_train+TP_train))\n",
    "print(\"False Postitive Rate \\t\\t:\", FP_train/(FP_train+TN_train))\n",
    "print()\n",
    "\n",
    "# Check the Goodness of Fit (on Test Data)\n",
    "print(\"Goodness of Fit of Model \\tTest Dataset\")\n",
    "print(\"Classification Accuracy \\t:\", rforest.score(X_test, y_test))\n",
    "print(\"True Postitive Rate \\t\\t:\", TP_test/(TP_test+FN_test))\n",
    "print(\"True Negative Rate \\t\\t:\", TN_test/(TN_test+FP_test))\n",
    "print(\"False Negative Rate \\t\\t:\", FN_test/(FN_test+TP_test))\n",
    "print(\"False Postitive Rate \\t\\t:\", FP_test/(FP_test+TN_test))\n",
    "print()\n",
    "\n",
    "\n",
    "# Plot the Confusion Matrix for Train and Test\n",
    "f, axes = plt.subplots(1, 2, figsize=(12, 4))\n",
    "sb.heatmap(train_confusion,\n",
    "           annot = True, fmt=\".0f\", annot_kws={\"size\": 18}, ax = axes[0])\n",
    "sb.heatmap(test_confusion, \n",
    "           annot = True, fmt=\".0f\", annot_kws={\"size\": 18}, ax = axes[1])"
   ]
  },
  {
   "cell_type": "markdown",
   "metadata": {},
   "source": [
    "Utilizing the random forest model of approximately 100 trees of depth 2, we managed to obtain a classification accuracy of approximately 0.68 for the training data set and a classification accuracy of approximately 0.60 for the test data set with a true positive rate of 0.50 and true negative rate of 0.68. \n",
    "\n",
    "Looking to refine the classification accuracy, we looked into changing the n-estimators and depth of the tree."
   ]
  },
  {
   "cell_type": "code",
   "execution_count": 122,
   "metadata": {},
   "outputs": [
    {
     "name": "stderr",
     "output_type": "stream",
     "text": [
      "<ipython-input-122-be62f3f3c777>:9: DataConversionWarning: A column-vector y was passed when a 1d array was expected. Please change the shape of y to (n_samples,), for example using ravel().\n",
      "  rforest.fit(X_train, y_train)                         # train the model\n"
     ]
    },
    {
     "name": "stdout",
     "output_type": "stream",
     "text": [
      "Goodness of Fit of Model \tTrain Dataset\n",
      "Classification Accuracy \t: 0.6912280701754386\n",
      "True Postitive Rate \t\t: 0.5619223659889094\n",
      "True Negative Rate \t\t: 0.8080133555926544\n",
      "False Negative Rate \t\t: 0.43807763401109057\n",
      "False Postitive Rate \t\t: 0.19198664440734559\n",
      "\n",
      "Goodness of Fit of Model \tTest Dataset\n",
      "Classification Accuracy \t: 0.6141732283464567\n",
      "True Postitive Rate \t\t: 0.47191011235955055\n",
      "True Negative Rate \t\t: 0.7389162561576355\n",
      "False Negative Rate \t\t: 0.5280898876404494\n",
      "False Postitive Rate \t\t: 0.26108374384236455\n",
      "\n"
     ]
    },
    {
     "data": {
      "text/plain": [
       "<AxesSubplot:>"
      ]
     },
     "execution_count": 122,
     "metadata": {},
     "output_type": "execute_result"
    },
    {
     "data": {
      "image/png": "[encoded data removed]",
      "text/plain": [
       "<Figure size 864x288 with 4 Axes>"
      ]
     },
     "metadata": {
      "needs_background": "light"
     },
     "output_type": "display_data"
    }
   ],
   "source": [
    "rforest = RandomForestClassifier(n_estimators = 500,  # n_estimators denote number of trees\n",
    "                                 max_depth = 4)       # set the maximum depth of each tree\n",
    "\n",
    "# Split the Dataset into Train and Test\n",
    "X_train, X_test, y_train, y_test = train_test_split(X, y, test_size = 0.25)\n",
    "\n",
    "# Random Forest using Train Data\n",
    "rforest = RandomForestClassifier(n_estimators = 100, max_depth = 4)  # create the object\n",
    "rforest.fit(X_train, y_train)                         # train the model\n",
    "\n",
    "# Predict Response corresponding to Predictors\n",
    "y_train_pred = rforest.predict(X_train)\n",
    "y_test_pred = rforest.predict(X_test)\n",
    "\n",
    "#Getting the confusion matrices\n",
    "train_confusion = confusion_matrix(y_train, y_train_pred)\n",
    "\n",
    "TP_train = train_confusion[1][1]\n",
    "FN_train = train_confusion[1][0]\n",
    "TN_train = train_confusion[0][0]\n",
    "FP_train = train_confusion[0][1]\n",
    "\n",
    "test_confusion = confusion_matrix(y_test, y_test_pred)\n",
    "\n",
    "TP_test = test_confusion[1][1]\n",
    "FN_test = test_confusion[1][0]\n",
    "TN_test = test_confusion[0][0]\n",
    "FP_test = test_confusion[0][1]\n",
    "\n",
    "# Check the Goodness of Fit (on Train Data)\n",
    "print(\"Goodness of Fit of Model \\tTrain Dataset\")\n",
    "print(\"Classification Accuracy \\t:\", rforest.score(X_train, y_train))\n",
    "print(\"True Postitive Rate \\t\\t:\", TP_train/(TP_train+FN_train))\n",
    "print(\"True Negative Rate \\t\\t:\", TN_train/(TN_train+FP_train))\n",
    "print(\"False Negative Rate \\t\\t:\", FN_train/(FN_train+TP_train))\n",
    "print(\"False Postitive Rate \\t\\t:\", FP_train/(FP_train+TN_train))\n",
    "print()\n",
    "\n",
    "# Check the Goodness of Fit (on Test Data)\n",
    "print(\"Goodness of Fit of Model \\tTest Dataset\")\n",
    "print(\"Classification Accuracy \\t:\", rforest.score(X_test, y_test))\n",
    "print(\"True Postitive Rate \\t\\t:\", TP_test/(TP_test+FN_test))\n",
    "print(\"True Negative Rate \\t\\t:\", TN_test/(TN_test+FP_test))\n",
    "print(\"False Negative Rate \\t\\t:\", FN_test/(FN_test+TP_test))\n",
    "print(\"False Postitive Rate \\t\\t:\", FP_test/(FP_test+TN_test))\n",
    "print()\n",
    "\n",
    "\n",
    "# Plot the Confusion Matrix for Train and Test\n",
    "f, axes = plt.subplots(1, 2, figsize=(12, 4))\n",
    "sb.heatmap(train_confusion,\n",
    "           annot = True, fmt=\".0f\", annot_kws={\"size\": 18}, ax = axes[0])\n",
    "sb.heatmap(test_confusion, \n",
    "           annot = True, fmt=\".0f\", annot_kws={\"size\": 18}, ax = axes[1])"
   ]
  },
  {
   "cell_type": "markdown",
   "metadata": {},
   "source": [
    "Utilizing the random forest model of approximately 500 trees of depth 4, we managed to obtain a classification accuracy of approximately 0.69 for the training data set and a classification accuracy of approximately 0.61 for the test data set.\n",
    "\n",
    "There is a slight improvement in the model of depth 4 due to its higher classification accuracy for both the train and test data sets.\n",
    "\n",
    "When comparing the random forest model and the multivariate classification tree model, we can see that there is an increase in the classification accuracy for both the train(0.69-r.forest vs 0.63-c.tree) and test data sets(0.61-r.forest vs 0.59-c.tree).\n",
    "\n",
    "Seeking to refine our random forest model, we decided to look into GridSearch to help us hypertune our parameters such that our model would be more accurate."
   ]
  },
  {
   "cell_type": "markdown",
   "metadata": {},
   "source": [
    "## Hypertuning with GridSearchCV"
   ]
  },
  {
   "cell_type": "code",
   "execution_count": 123,
   "metadata": {},
   "outputs": [],
   "source": [
    "# Import GridSearchCV from Scikit-Learn\n",
    "from sklearn.model_selection import GridSearchCV"
   ]
  },
  {
   "cell_type": "code",
   "execution_count": 128,
   "metadata": {},
   "outputs": [],
   "source": [
    "# Create the param grid\n",
    "param_grid = {#tests random forest models of 100-500 trees\n",
    "              'n_estimators': [int(x) for x in np.linspace(start = 100, stop = 500, num = 100)], \n",
    "              \n",
    "              #Uses Gini index as classifier\n",
    "              'criterion' : ['gini'],\n",
    "    \n",
    "              #Decides how to split the tree\n",
    "              'max_features': ['auto', 'sqrt'],\n",
    "    \n",
    "              #range of depth of each tree\n",
    "              'max_depth': [2,4],\n",
    "    \n",
    "              #The minimum number of samples required to split an internal node\n",
    "              'min_samples_split': [2, 5],\n",
    "    \n",
    "              #The minimum number of samples required to be at a leaf node.\n",
    "              'min_samples_leaf': [1, 2],\n",
    "    \n",
    "              'bootstrap': [True, False]}\n",
    "\n",
    "rf_Model = RandomForestClassifier()\n",
    "\n",
    "rf_Grid = GridSearchCV(estimator = rf_Model, param_grid = param_grid, cv = 5, verbose=2, n_jobs = 4)"
   ]
  },
  {
   "cell_type": "code",
   "execution_count": 129,
   "metadata": {},
   "outputs": [
    {
     "name": "stdout",
     "output_type": "stream",
     "text": [
      "Fitting 5 folds for each of 3200 candidates, totalling 16000 fits\n"
     ]
    },
    {
     "name": "stderr",
     "output_type": "stream",
     "text": [
      "[Parallel(n_jobs=4)]: Using backend LokyBackend with 4 concurrent workers.\n",
      "[Parallel(n_jobs=4)]: Done  33 tasks      | elapsed:    2.9s\n",
      "[Parallel(n_jobs=4)]: Done 154 tasks      | elapsed:    9.3s\n",
      "[Parallel(n_jobs=4)]: Done 357 tasks      | elapsed:   27.7s\n",
      "[Parallel(n_jobs=4)]: Done 640 tasks      | elapsed:   53.2s\n",
      "[Parallel(n_jobs=4)]: Done 1005 tasks      | elapsed:  1.5min\n",
      "[Parallel(n_jobs=4)]: Done 1450 tasks      | elapsed:  2.1min\n",
      "[Parallel(n_jobs=4)]: Done 1977 tasks      | elapsed:  3.0min\n",
      "[Parallel(n_jobs=4)]: Done 2584 tasks      | elapsed:  3.8min\n",
      "[Parallel(n_jobs=4)]: Done 3273 tasks      | elapsed:  4.8min\n",
      "[Parallel(n_jobs=4)]: Done 4042 tasks      | elapsed:  6.1min\n",
      "[Parallel(n_jobs=4)]: Done 4893 tasks      | elapsed:  7.5min\n",
      "[Parallel(n_jobs=4)]: Done 5824 tasks      | elapsed:  9.1min\n",
      "[Parallel(n_jobs=4)]: Done 6837 tasks      | elapsed: 10.8min\n",
      "[Parallel(n_jobs=4)]: Done 7930 tasks      | elapsed: 12.8min\n",
      "[Parallel(n_jobs=4)]: Done 9105 tasks      | elapsed: 14.3min\n",
      "[Parallel(n_jobs=4)]: Done 10360 tasks      | elapsed: 15.8min\n",
      "[Parallel(n_jobs=4)]: Done 11697 tasks      | elapsed: 17.5min\n",
      "[Parallel(n_jobs=4)]: Done 13114 tasks      | elapsed: 19.7min\n",
      "[Parallel(n_jobs=4)]: Done 14613 tasks      | elapsed: 22.1min\n",
      "[Parallel(n_jobs=4)]: Done 16000 out of 16000 | elapsed: 24.4min finished\n",
      "C:\\Users\\yeohw\\anaconda3\\lib\\site-packages\\sklearn\\model_selection\\_search.py:765: DataConversionWarning: A column-vector y was passed when a 1d array was expected. Please change the shape of y to (n_samples,), for example using ravel().\n",
      "  self.best_estimator_.fit(X, y, **fit_params)\n"
     ]
    },
    {
     "data": {
      "text/plain": [
       "GridSearchCV(cv=5, estimator=RandomForestClassifier(), n_jobs=4,\n",
       "             param_grid={'bootstrap': [True, False], 'criterion': ['gini'],\n",
       "                         'max_depth': [2, 4], 'max_features': ['auto', 'sqrt'],\n",
       "                         'min_samples_leaf': [1, 2],\n",
       "                         'min_samples_split': [2, 5],\n",
       "                         'n_estimators': [100, 104, 108, 112, 116, 120, 124,\n",
       "                                          128, 132, 136, 140, 144, 148, 152,\n",
       "                                          156, 160, 164, 168, 172, 176, 180,\n",
       "                                          184, 188, 192, 196, 201, 205, 209,\n",
       "                                          213, 217, ...]},\n",
       "             verbose=2)"
      ]
     },
     "execution_count": 129,
     "metadata": {},
     "output_type": "execute_result"
    }
   ],
   "source": [
    "rf_Grid.fit(X_train, y_train)"
   ]
  },
  {
   "cell_type": "code",
   "execution_count": 130,
   "metadata": {},
   "outputs": [
    {
     "data": {
      "text/plain": [
       "{'bootstrap': True,\n",
       " 'criterion': 'gini',\n",
       " 'max_depth': 4,\n",
       " 'max_features': 'sqrt',\n",
       " 'min_samples_leaf': 2,\n",
       " 'min_samples_split': 5,\n",
       " 'n_estimators': 128}"
      ]
     },
     "execution_count": 130,
     "metadata": {},
     "output_type": "execute_result"
    }
   ],
   "source": [
    "#displays the parameters that give the best result\n",
    "rf_Grid.best_params_"
   ]
  },
  {
   "cell_type": "code",
   "execution_count": 131,
   "metadata": {},
   "outputs": [
    {
     "name": "stdout",
     "output_type": "stream",
     "text": [
      "Goodness of Fit of Model \tTrain Dataset\n",
      "Classification Accuracy \t: 0.6956140350877194\n",
      "True Postitive Rate \t\t: 0.5693160813308688\n",
      "True Negative Rate \t\t: 0.8096828046744574\n",
      "False Negative Rate \t\t: 0.43068391866913125\n",
      "False Postitive Rate \t\t: 0.19031719532554256\n",
      "\n",
      "Goodness of Fit of Model \tTest Dataset\n",
      "Classification Accuracy \t: 0.6351706036745407\n",
      "True Postitive Rate \t\t: 0.4887640449438202\n",
      "True Negative Rate \t\t: 0.7635467980295566\n",
      "False Negative Rate \t\t: 0.5112359550561798\n",
      "False Postitive Rate \t\t: 0.23645320197044334\n",
      "\n"
     ]
    },
    {
     "data": {
      "text/plain": [
       "<AxesSubplot:>"
      ]
     },
     "execution_count": 131,
     "metadata": {},
     "output_type": "execute_result"
    },
    {
     "data": {
      "image/png": "[encoded data removed]",
      "text/plain": [
       "<Figure size 864x288 with 4 Axes>"
      ]
     },
     "metadata": {
      "needs_background": "light"
     },
     "output_type": "display_data"
    }
   ],
   "source": [
    "# Predict Response corresponding to Predictors\n",
    "y_train_pred = rf_Grid.predict(X_train)\n",
    "y_test_pred = rf_Grid.predict(X_test)\n",
    "\n",
    "train_confusion = confusion_matrix(y_train, y_train_pred)\n",
    "\n",
    "TP_train = train_confusion[1][1]\n",
    "FN_train = train_confusion[1][0]\n",
    "TN_train = train_confusion[0][0]\n",
    "FP_train = train_confusion[0][1]\n",
    "\n",
    "test_confusion = confusion_matrix(y_test, y_test_pred)\n",
    "\n",
    "TP_test = test_confusion[1][1]\n",
    "FN_test = test_confusion[1][0]\n",
    "TN_test = test_confusion[0][0]\n",
    "FP_test = test_confusion[0][1]\n",
    "\n",
    "# Check the Goodness of Fit (on Train Data)\n",
    "print(\"Goodness of Fit of Model \\tTrain Dataset\")\n",
    "print(\"Classification Accuracy \\t:\", rf_Grid.score(X_train, y_train))\n",
    "print(\"True Postitive Rate \\t\\t:\", TP_train/(TP_train+FN_train))\n",
    "print(\"True Negative Rate \\t\\t:\", TN_train/(TN_train+FP_train))\n",
    "print(\"False Negative Rate \\t\\t:\", FN_train/(FN_train+TP_train))\n",
    "print(\"False Postitive Rate \\t\\t:\", FP_train/(FP_train+TN_train))\n",
    "print()\n",
    "\n",
    "# Check the Goodness of Fit (on Test Data)\n",
    "print(\"Goodness of Fit of Model \\tTest Dataset\")\n",
    "print(\"Classification Accuracy \\t:\", rf_Grid.score(X_test, y_test))\n",
    "print(\"True Postitive Rate \\t\\t:\", TP_test/(TP_test+FN_test))\n",
    "print(\"True Negative Rate \\t\\t:\", TN_test/(TN_test+FP_test))\n",
    "print(\"False Negative Rate \\t\\t:\", FN_test/(FN_test+TP_test))\n",
    "print(\"False Postitive Rate \\t\\t:\", FP_test/(FP_test+TN_test))\n",
    "print()\n",
    "\n",
    "\n",
    "# Plot the Confusion Matrix for Train and Test\n",
    "f, axes = plt.subplots(1, 2, figsize=(12, 4))\n",
    "sb.heatmap(train_confusion,\n",
    "           annot = True, fmt=\".0f\", annot_kws={\"size\": 18}, ax = axes[0])\n",
    "sb.heatmap(test_confusion, \n",
    "           annot = True, fmt=\".0f\", annot_kws={\"size\": 18}, ax = axes[1])"
   ]
  },
  {
   "cell_type": "markdown",
   "metadata": {},
   "source": [
    "After utilizing GridSearch Cross Validation to hyptertune the parameters, there is an improvement in the classification accuracy on the test set as compared to using a random forest. The final model gives a classification accuracy of 0.69 on the training set and 0.63 on the test set. "
   ]
  },
  {
   "cell_type": "code",
   "execution_count": 133,
   "metadata": {},
   "outputs": [
    {
     "data": {
      "text/plain": [
       "['2014_model.sav']"
      ]
     },
     "execution_count": 133,
     "metadata": {},
     "output_type": "execute_result"
    }
   ],
   "source": [
    "#for saving the model\n",
    "import joblib\n",
    "filename = '2014_model.sav'\n",
    "joblib.dump(rf_Grid, filename)"
   ]
  }
 ],
 "metadata": {
  "kernelspec": {
   "display_name": "Python 3",
   "language": "python",
   "name": "python3"
  },
  "language_info": {
   "codemirror_mode": {
    "name": "ipython",
    "version": 3
   },
   "file_extension": ".py",
   "mimetype": "text/x-python",
   "name": "python",
   "nbconvert_exporter": "python",
   "pygments_lexer": "ipython3",
   "version": "3.8.5"
  }
 },
 "nbformat": 4,
 "nbformat_minor": 4
}
