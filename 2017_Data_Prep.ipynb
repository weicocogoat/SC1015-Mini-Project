{
 "cells": [
  {
   "cell_type": "code",
   "execution_count": 1,
   "metadata": {
    "collapsed": true
   },
   "outputs": [],
   "source": [
    "import pandas as pd"
   ]
  },
  {
   "cell_type": "markdown",
   "metadata": {
    "collapsed": false,
    "pycharm": {
     "name": "#%% md\n"
    }
   },
   "source": [
    "# 1. Data Preparation\n",
    "## 1.1 Import Data"
   ]
  },
  {
   "cell_type": "code",
   "execution_count": 2,
   "metadata": {
    "collapsed": false,
    "pycharm": {
     "name": "#%%\n"
    }
   },
   "outputs": [
    {
     "data": {
      "text/plain": "     Symbol       Revenue  Revenue Growth  Cost of Revenue  Gross Profit  \\\n0        PG  6.505800e+10         -0.0037     3.263800e+10  3.242000e+10   \n1      VIPS  1.102060e+10          0.3525     8.557810e+09  2.462794e+09   \n2        KR  1.153370e+11          0.0501     8.950200e+10  2.583500e+10   \n3       RAD  2.292754e+10          0.1039     1.786283e+10  5.064707e+09   \n4       GIS  1.561980e+10         -0.0570     1.005200e+10  5.567800e+09   \n...     ...           ...             ...              ...           ...   \n4955   TSRI  6.257258e+07          0.0258     5.232652e+07  1.024606e+07   \n4956   TZOO  1.065240e+08         -0.0677     1.290900e+07  9.361500e+07   \n4957  USATP  1.040000e+08             NaN     7.700000e+07  2.700000e+07   \n4958   WSTG  1.605670e+08         -0.0246     1.334910e+08  2.707600e+07   \n4959    WTT  4.607800e+07          0.4709     2.681700e+07  1.926100e+07   \n\n      R&D Expenses  SG&A Expense  Operating Expenses  Operating Income  \\\n0     0.000000e+00  1.865400e+10        1.865400e+10      1.376600e+10   \n1     2.733452e+08  8.201852e+08        2.056136e+09      4.066575e+08   \n2     0.000000e+00  1.916200e+10        2.238300e+10      3.452000e+09   \n3     0.000000e+00  4.776995e+09        4.816124e+09      2.485830e+08   \n4     0.000000e+00  2.888800e+09        3.069200e+09      2.498600e+09   \n...            ...           ...                 ...               ...   \n4955  0.000000e+00  9.683601e+06        9.683601e+06      5.624630e+05   \n4956  9.224000e+06  7.984600e+07        8.907000e+07      4.545000e+06   \n4957           NaN  2.500000e+07        2.700000e+07      0.000000e+00   \n4958  0.000000e+00  1.926300e+07        1.926300e+07      7.813000e+06   \n4959  4.395000e+06  1.798700e+07        2.238200e+07     -3.121000e+06   \n\n      Interest Expense  ...  Receivables growth  Inventory Growth  \\\n0         4.650000e+08  ...              0.0505           -0.0195   \n1         1.245995e+07  ...              0.9219            0.4764   \n2         5.220000e+08  ...             -0.0490            0.0637   \n3         2.000650e+08  ...              0.1063           -0.3365   \n4         2.951000e+08  ...              0.0509            0.0494   \n...                ...  ...                 ...               ...   \n4955      0.000000e+00  ...             -0.0482            0.0000   \n4956      0.000000e+00  ...             -0.1836            0.0000   \n4957      1.000000e+06  ...                 NaN               NaN   \n4958     -6.990000e+05  ...             -0.0934            0.2022   \n4959      2.960000e+05  ...              0.7440           -0.2280   \n\n      Asset Growth  Book Value per Share Growth  Debt Growth  \\\n0          -0.0529                       0.0012       0.0325   \n1           0.5889                       1.5821       0.3805   \n2           0.0769                       0.0071       0.1654   \n3           0.0281                       0.0502      -0.5295   \n4           0.0046                      -0.0943       0.1246   \n...            ...                          ...          ...   \n4955        0.0316                      -0.1795       0.0000   \n4956       -0.1468                      -0.2138       0.0000   \n4957           NaN                          NaN          NaN   \n4958       -0.0792                       0.0782       0.0000   \n4959        0.3241                       0.0233       0.0000   \n\n      R&D Expense Growth  SG&A Expenses Growth              Sector  \\\n0                 0.0000               -0.0156  Consumer Defensive   \n1                 0.2141                0.1920  Consumer Defensive   \n2                 0.0000                0.0678  Consumer Defensive   \n3                 0.0000                0.0427  Consumer Defensive   \n4                 0.0000               -0.0738  Consumer Defensive   \n...                  ...                   ...                 ...   \n4955              0.0000                0.0617          Technology   \n4956              0.0141               -0.0158          Technology   \n4957                 NaN                   NaN          Technology   \n4958              0.0000                0.0293          Technology   \n4959              0.0863                0.5421          Technology   \n\n      PRICE VAR [%]  Class  \n0          4.975151      1  \n1        -56.320000      0  \n2         -0.990449      0  \n3        -66.666666      0  \n4        -31.280412      0  \n...             ...    ...  \n4955     -12.264152      0  \n4956      46.716421      1  \n4957     -32.220041      0  \n4958     -36.405277      0  \n4959     -27.755104      0  \n\n[4960 rows x 225 columns]",
      "text/html": "<div>\n<style scoped>\n    .dataframe tbody tr th:only-of-type {\n        vertical-align: middle;\n    }\n\n    .dataframe tbody tr th {\n        vertical-align: top;\n    }\n\n    .dataframe thead th {\n        text-align: right;\n    }\n</style>\n<table border=\"1\" class=\"dataframe\">\n  <thead>\n    <tr style=\"text-align: right;\">\n      <th></th>\n      <th>Symbol</th>\n      <th>Revenue</th>\n      <th>Revenue Growth</th>\n      <th>Cost of Revenue</th>\n      <th>Gross Profit</th>\n      <th>R&amp;D Expenses</th>\n      <th>SG&amp;A Expense</th>\n      <th>Operating Expenses</th>\n      <th>Operating Income</th>\n      <th>Interest Expense</th>\n      <th>...</th>\n      <th>Receivables growth</th>\n      <th>Inventory Growth</th>\n      <th>Asset Growth</th>\n      <th>Book Value per Share Growth</th>\n      <th>Debt Growth</th>\n      <th>R&amp;D Expense Growth</th>\n      <th>SG&amp;A Expenses Growth</th>\n      <th>Sector</th>\n      <th>PRICE VAR [%]</th>\n      <th>Class</th>\n    </tr>\n  </thead>\n  <tbody>\n    <tr>\n      <th>0</th>\n      <td>PG</td>\n      <td>6.505800e+10</td>\n      <td>-0.0037</td>\n      <td>3.263800e+10</td>\n      <td>3.242000e+10</td>\n      <td>0.000000e+00</td>\n      <td>1.865400e+10</td>\n      <td>1.865400e+10</td>\n      <td>1.376600e+10</td>\n      <td>4.650000e+08</td>\n      <td>...</td>\n      <td>0.0505</td>\n      <td>-0.0195</td>\n      <td>-0.0529</td>\n      <td>0.0012</td>\n      <td>0.0325</td>\n      <td>0.0000</td>\n      <td>-0.0156</td>\n      <td>Consumer Defensive</td>\n      <td>4.975151</td>\n      <td>1</td>\n    </tr>\n    <tr>\n      <th>1</th>\n      <td>VIPS</td>\n      <td>1.102060e+10</td>\n      <td>0.3525</td>\n      <td>8.557810e+09</td>\n      <td>2.462794e+09</td>\n      <td>2.733452e+08</td>\n      <td>8.201852e+08</td>\n      <td>2.056136e+09</td>\n      <td>4.066575e+08</td>\n      <td>1.245995e+07</td>\n      <td>...</td>\n      <td>0.9219</td>\n      <td>0.4764</td>\n      <td>0.5889</td>\n      <td>1.5821</td>\n      <td>0.3805</td>\n      <td>0.2141</td>\n      <td>0.1920</td>\n      <td>Consumer Defensive</td>\n      <td>-56.320000</td>\n      <td>0</td>\n    </tr>\n    <tr>\n      <th>2</th>\n      <td>KR</td>\n      <td>1.153370e+11</td>\n      <td>0.0501</td>\n      <td>8.950200e+10</td>\n      <td>2.583500e+10</td>\n      <td>0.000000e+00</td>\n      <td>1.916200e+10</td>\n      <td>2.238300e+10</td>\n      <td>3.452000e+09</td>\n      <td>5.220000e+08</td>\n      <td>...</td>\n      <td>-0.0490</td>\n      <td>0.0637</td>\n      <td>0.0769</td>\n      <td>0.0071</td>\n      <td>0.1654</td>\n      <td>0.0000</td>\n      <td>0.0678</td>\n      <td>Consumer Defensive</td>\n      <td>-0.990449</td>\n      <td>0</td>\n    </tr>\n    <tr>\n      <th>3</th>\n      <td>RAD</td>\n      <td>2.292754e+10</td>\n      <td>0.1039</td>\n      <td>1.786283e+10</td>\n      <td>5.064707e+09</td>\n      <td>0.000000e+00</td>\n      <td>4.776995e+09</td>\n      <td>4.816124e+09</td>\n      <td>2.485830e+08</td>\n      <td>2.000650e+08</td>\n      <td>...</td>\n      <td>0.1063</td>\n      <td>-0.3365</td>\n      <td>0.0281</td>\n      <td>0.0502</td>\n      <td>-0.5295</td>\n      <td>0.0000</td>\n      <td>0.0427</td>\n      <td>Consumer Defensive</td>\n      <td>-66.666666</td>\n      <td>0</td>\n    </tr>\n    <tr>\n      <th>4</th>\n      <td>GIS</td>\n      <td>1.561980e+10</td>\n      <td>-0.0570</td>\n      <td>1.005200e+10</td>\n      <td>5.567800e+09</td>\n      <td>0.000000e+00</td>\n      <td>2.888800e+09</td>\n      <td>3.069200e+09</td>\n      <td>2.498600e+09</td>\n      <td>2.951000e+08</td>\n      <td>...</td>\n      <td>0.0509</td>\n      <td>0.0494</td>\n      <td>0.0046</td>\n      <td>-0.0943</td>\n      <td>0.1246</td>\n      <td>0.0000</td>\n      <td>-0.0738</td>\n      <td>Consumer Defensive</td>\n      <td>-31.280412</td>\n      <td>0</td>\n    </tr>\n    <tr>\n      <th>...</th>\n      <td>...</td>\n      <td>...</td>\n      <td>...</td>\n      <td>...</td>\n      <td>...</td>\n      <td>...</td>\n      <td>...</td>\n      <td>...</td>\n      <td>...</td>\n      <td>...</td>\n      <td>...</td>\n      <td>...</td>\n      <td>...</td>\n      <td>...</td>\n      <td>...</td>\n      <td>...</td>\n      <td>...</td>\n      <td>...</td>\n      <td>...</td>\n      <td>...</td>\n      <td>...</td>\n    </tr>\n    <tr>\n      <th>4955</th>\n      <td>TSRI</td>\n      <td>6.257258e+07</td>\n      <td>0.0258</td>\n      <td>5.232652e+07</td>\n      <td>1.024606e+07</td>\n      <td>0.000000e+00</td>\n      <td>9.683601e+06</td>\n      <td>9.683601e+06</td>\n      <td>5.624630e+05</td>\n      <td>0.000000e+00</td>\n      <td>...</td>\n      <td>-0.0482</td>\n      <td>0.0000</td>\n      <td>0.0316</td>\n      <td>-0.1795</td>\n      <td>0.0000</td>\n      <td>0.0000</td>\n      <td>0.0617</td>\n      <td>Technology</td>\n      <td>-12.264152</td>\n      <td>0</td>\n    </tr>\n    <tr>\n      <th>4956</th>\n      <td>TZOO</td>\n      <td>1.065240e+08</td>\n      <td>-0.0677</td>\n      <td>1.290900e+07</td>\n      <td>9.361500e+07</td>\n      <td>9.224000e+06</td>\n      <td>7.984600e+07</td>\n      <td>8.907000e+07</td>\n      <td>4.545000e+06</td>\n      <td>0.000000e+00</td>\n      <td>...</td>\n      <td>-0.1836</td>\n      <td>0.0000</td>\n      <td>-0.1468</td>\n      <td>-0.2138</td>\n      <td>0.0000</td>\n      <td>0.0141</td>\n      <td>-0.0158</td>\n      <td>Technology</td>\n      <td>46.716421</td>\n      <td>1</td>\n    </tr>\n    <tr>\n      <th>4957</th>\n      <td>USATP</td>\n      <td>1.040000e+08</td>\n      <td>NaN</td>\n      <td>7.700000e+07</td>\n      <td>2.700000e+07</td>\n      <td>NaN</td>\n      <td>2.500000e+07</td>\n      <td>2.700000e+07</td>\n      <td>0.000000e+00</td>\n      <td>1.000000e+06</td>\n      <td>...</td>\n      <td>NaN</td>\n      <td>NaN</td>\n      <td>NaN</td>\n      <td>NaN</td>\n      <td>NaN</td>\n      <td>NaN</td>\n      <td>NaN</td>\n      <td>Technology</td>\n      <td>-32.220041</td>\n      <td>0</td>\n    </tr>\n    <tr>\n      <th>4958</th>\n      <td>WSTG</td>\n      <td>1.605670e+08</td>\n      <td>-0.0246</td>\n      <td>1.334910e+08</td>\n      <td>2.707600e+07</td>\n      <td>0.000000e+00</td>\n      <td>1.926300e+07</td>\n      <td>1.926300e+07</td>\n      <td>7.813000e+06</td>\n      <td>-6.990000e+05</td>\n      <td>...</td>\n      <td>-0.0934</td>\n      <td>0.2022</td>\n      <td>-0.0792</td>\n      <td>0.0782</td>\n      <td>0.0000</td>\n      <td>0.0000</td>\n      <td>0.0293</td>\n      <td>Technology</td>\n      <td>-36.405277</td>\n      <td>0</td>\n    </tr>\n    <tr>\n      <th>4959</th>\n      <td>WTT</td>\n      <td>4.607800e+07</td>\n      <td>0.4709</td>\n      <td>2.681700e+07</td>\n      <td>1.926100e+07</td>\n      <td>4.395000e+06</td>\n      <td>1.798700e+07</td>\n      <td>2.238200e+07</td>\n      <td>-3.121000e+06</td>\n      <td>2.960000e+05</td>\n      <td>...</td>\n      <td>0.7440</td>\n      <td>-0.2280</td>\n      <td>0.3241</td>\n      <td>0.0233</td>\n      <td>0.0000</td>\n      <td>0.0863</td>\n      <td>0.5421</td>\n      <td>Technology</td>\n      <td>-27.755104</td>\n      <td>0</td>\n    </tr>\n  </tbody>\n</table>\n<p>4960 rows × 225 columns</p>\n</div>"
     },
     "execution_count": 2,
     "metadata": {},
     "output_type": "execute_result"
    }
   ],
   "source": [
    "df = pd.read_csv('2017_Financial_Data.csv')\n",
    "df.rename(columns={\"Unnamed: 0\": 'Symbol'}, inplace=True)\n",
    "df.rename(columns={\"2018 PRICE VAR [%]\": 'PRICE VAR [%]'}, inplace=True)\n",
    "df"
   ]
  },
  {
   "cell_type": "code",
   "execution_count": 3,
   "metadata": {
    "collapsed": false,
    "pycharm": {
     "name": "#%%\n"
    }
   },
   "outputs": [
    {
     "data": {
      "text/plain": "           Revenue        EBITDA  Profit Margin  returnOnEquity  \\\n0     6.505800e+10  2.167400e+10       0.236000          0.2748   \n1     1.102060e+10  5.622560e+08       0.004100          0.1364   \n2     1.153370e+11  5.794000e+09       0.017000          0.2949   \n3     2.292754e+10  6.559220e+08       0.000000          0.0066   \n4     1.561980e+10  3.211400e+09       0.106000          0.3830   \n...            ...           ...            ...             ...   \n4955  6.257258e+07  5.511650e+05       0.004000          0.0347   \n4956  1.065240e+08  8.731000e+06       0.033000          0.2699   \n4957  1.040000e+08  5.000000e+06      -0.019231             NaN   \n4958  1.605670e+08  8.331000e+06       0.032000          0.1308   \n4959  4.607800e+07 -1.203000e+06      -0.098000         -0.1280   \n\n      Book Value per Share  Operating Cash Flow  Dividend Yield  R&D Expenses  \\\n0                  21.8090         1.275300e+10          0.0310  0.000000e+00   \n1                   3.6759         1.483148e+08          0.0000  2.733452e+08   \n2                   7.1100         4.272000e+09          0.0134  0.000000e+00   \n3                  11.6700         2.321170e+08          0.0000  0.000000e+00   \n4                   7.5120         2.415200e+09          0.0339  0.000000e+00   \n...                    ...                  ...             ...           ...   \n4955                3.9440         7.503710e+05          0.0000  0.000000e+00   \n4956                1.0150         2.076000e+06          0.0000  9.224000e+06   \n4957                   NaN        -7.000000e+06             NaN           NaN   \n4958                9.0050        -2.021000e+06          0.0406  0.000000e+00   \n4959                1.7570         1.403000e+06          0.0000  4.395000e+06   \n\n      PRICE VAR [%]  Class              Sector  \n0          4.975151      1  Consumer Defensive  \n1        -56.320000      0  Consumer Defensive  \n2         -0.990449      0  Consumer Defensive  \n3        -66.666666      0  Consumer Defensive  \n4        -31.280412      0  Consumer Defensive  \n...             ...    ...                 ...  \n4955     -12.264152      0          Technology  \n4956      46.716421      1          Technology  \n4957     -32.220041      0          Technology  \n4958     -36.405277      0          Technology  \n4959     -27.755104      0          Technology  \n\n[4960 rows x 11 columns]",
      "text/html": "<div>\n<style scoped>\n    .dataframe tbody tr th:only-of-type {\n        vertical-align: middle;\n    }\n\n    .dataframe tbody tr th {\n        vertical-align: top;\n    }\n\n    .dataframe thead th {\n        text-align: right;\n    }\n</style>\n<table border=\"1\" class=\"dataframe\">\n  <thead>\n    <tr style=\"text-align: right;\">\n      <th></th>\n      <th>Revenue</th>\n      <th>EBITDA</th>\n      <th>Profit Margin</th>\n      <th>returnOnEquity</th>\n      <th>Book Value per Share</th>\n      <th>Operating Cash Flow</th>\n      <th>Dividend Yield</th>\n      <th>R&amp;D Expenses</th>\n      <th>PRICE VAR [%]</th>\n      <th>Class</th>\n      <th>Sector</th>\n    </tr>\n  </thead>\n  <tbody>\n    <tr>\n      <th>0</th>\n      <td>6.505800e+10</td>\n      <td>2.167400e+10</td>\n      <td>0.236000</td>\n      <td>0.2748</td>\n      <td>21.8090</td>\n      <td>1.275300e+10</td>\n      <td>0.0310</td>\n      <td>0.000000e+00</td>\n      <td>4.975151</td>\n      <td>1</td>\n      <td>Consumer Defensive</td>\n    </tr>\n    <tr>\n      <th>1</th>\n      <td>1.102060e+10</td>\n      <td>5.622560e+08</td>\n      <td>0.004100</td>\n      <td>0.1364</td>\n      <td>3.6759</td>\n      <td>1.483148e+08</td>\n      <td>0.0000</td>\n      <td>2.733452e+08</td>\n      <td>-56.320000</td>\n      <td>0</td>\n      <td>Consumer Defensive</td>\n    </tr>\n    <tr>\n      <th>2</th>\n      <td>1.153370e+11</td>\n      <td>5.794000e+09</td>\n      <td>0.017000</td>\n      <td>0.2949</td>\n      <td>7.1100</td>\n      <td>4.272000e+09</td>\n      <td>0.0134</td>\n      <td>0.000000e+00</td>\n      <td>-0.990449</td>\n      <td>0</td>\n      <td>Consumer Defensive</td>\n    </tr>\n    <tr>\n      <th>3</th>\n      <td>2.292754e+10</td>\n      <td>6.559220e+08</td>\n      <td>0.000000</td>\n      <td>0.0066</td>\n      <td>11.6700</td>\n      <td>2.321170e+08</td>\n      <td>0.0000</td>\n      <td>0.000000e+00</td>\n      <td>-66.666666</td>\n      <td>0</td>\n      <td>Consumer Defensive</td>\n    </tr>\n    <tr>\n      <th>4</th>\n      <td>1.561980e+10</td>\n      <td>3.211400e+09</td>\n      <td>0.106000</td>\n      <td>0.3830</td>\n      <td>7.5120</td>\n      <td>2.415200e+09</td>\n      <td>0.0339</td>\n      <td>0.000000e+00</td>\n      <td>-31.280412</td>\n      <td>0</td>\n      <td>Consumer Defensive</td>\n    </tr>\n    <tr>\n      <th>...</th>\n      <td>...</td>\n      <td>...</td>\n      <td>...</td>\n      <td>...</td>\n      <td>...</td>\n      <td>...</td>\n      <td>...</td>\n      <td>...</td>\n      <td>...</td>\n      <td>...</td>\n      <td>...</td>\n    </tr>\n    <tr>\n      <th>4955</th>\n      <td>6.257258e+07</td>\n      <td>5.511650e+05</td>\n      <td>0.004000</td>\n      <td>0.0347</td>\n      <td>3.9440</td>\n      <td>7.503710e+05</td>\n      <td>0.0000</td>\n      <td>0.000000e+00</td>\n      <td>-12.264152</td>\n      <td>0</td>\n      <td>Technology</td>\n    </tr>\n    <tr>\n      <th>4956</th>\n      <td>1.065240e+08</td>\n      <td>8.731000e+06</td>\n      <td>0.033000</td>\n      <td>0.2699</td>\n      <td>1.0150</td>\n      <td>2.076000e+06</td>\n      <td>0.0000</td>\n      <td>9.224000e+06</td>\n      <td>46.716421</td>\n      <td>1</td>\n      <td>Technology</td>\n    </tr>\n    <tr>\n      <th>4957</th>\n      <td>1.040000e+08</td>\n      <td>5.000000e+06</td>\n      <td>-0.019231</td>\n      <td>NaN</td>\n      <td>NaN</td>\n      <td>-7.000000e+06</td>\n      <td>NaN</td>\n      <td>NaN</td>\n      <td>-32.220041</td>\n      <td>0</td>\n      <td>Technology</td>\n    </tr>\n    <tr>\n      <th>4958</th>\n      <td>1.605670e+08</td>\n      <td>8.331000e+06</td>\n      <td>0.032000</td>\n      <td>0.1308</td>\n      <td>9.0050</td>\n      <td>-2.021000e+06</td>\n      <td>0.0406</td>\n      <td>0.000000e+00</td>\n      <td>-36.405277</td>\n      <td>0</td>\n      <td>Technology</td>\n    </tr>\n    <tr>\n      <th>4959</th>\n      <td>4.607800e+07</td>\n      <td>-1.203000e+06</td>\n      <td>-0.098000</td>\n      <td>-0.1280</td>\n      <td>1.7570</td>\n      <td>1.403000e+06</td>\n      <td>0.0000</td>\n      <td>4.395000e+06</td>\n      <td>-27.755104</td>\n      <td>0</td>\n      <td>Technology</td>\n    </tr>\n  </tbody>\n</table>\n<p>4960 rows × 11 columns</p>\n</div>"
     },
     "execution_count": 3,
     "metadata": {},
     "output_type": "execute_result"
    }
   ],
   "source": [
    "subdf = pd.DataFrame(df[[\"Revenue\", \"EBITDA\", \"Profit Margin\", \"returnOnEquity\", \"Book Value per Share\", \"Operating Cash Flow\", \"Dividend Yield\", \"R&D Expenses\", \"PRICE VAR [%]\", \"Class\", \"Sector\"]])\n",
    "subdf"
   ]
  },
  {
   "cell_type": "markdown",
   "metadata": {
    "collapsed": false
   },
   "source": [
    "## 1.2 Check Missing Values"
   ]
  },
  {
   "cell_type": "code",
   "execution_count": 4,
   "metadata": {
    "collapsed": false,
    "pycharm": {
     "name": "#%%\n"
    }
   },
   "outputs": [
    {
     "name": "stdout",
     "output_type": "stream",
     "text": [
      "Revenue 10.58%\n",
      "EBITDA 13.43%\n",
      "Profit Margin 16.17%\n",
      "returnOnEquity 16.96%\n",
      "Book Value per Share 16.98%\n",
      "Operating Cash Flow 10.48%\n",
      "Dividend Yield 16.77%\n",
      "R&D Expenses 15.87%\n",
      "PRICE VAR [%] 0.0%\n",
      "Class 0.0%\n",
      "Sector 0.0%\n"
     ]
    }
   ],
   "source": [
    "total_size = len(subdf)\n",
    "for factor in subdf.columns:\n",
    "    nan_count = len(subdf[factor].loc[subdf[factor].isna()])\n",
    "    print(f'{factor} {round(100 * nan_count / total_size, 2)}%')"
   ]
  },
  {
   "cell_type": "markdown",
   "metadata": {
    "collapsed": false,
    "pycharm": {
     "name": "#%% md\n"
    }
   },
   "source": [
    "## 1.3 Replace Missing Values with Median"
   ]
  },
  {
   "cell_type": "code",
   "execution_count": 5,
   "metadata": {
    "collapsed": false,
    "pycharm": {
     "name": "#%%\n"
    }
   },
   "outputs": [],
   "source": [
    "# Sector, Class (last 2 columns) is Categorical\n",
    "for factor in subdf.columns[0:-2]:\n",
    "    subdf[factor].fillna(df[factor].median(), inplace=True)"
   ]
  },
  {
   "cell_type": "markdown",
   "metadata": {
    "collapsed": false,
    "pycharm": {
     "name": "#%% md\n"
    }
   },
   "source": [
    "## 1.4 Remove outliers"
   ]
  },
  {
   "cell_type": "code",
   "execution_count": 6,
   "metadata": {
    "collapsed": false,
    "pycharm": {
     "name": "#%%\n"
    }
   },
   "outputs": [
    {
     "data": {
      "text/plain": "           Revenue        EBITDA  Profit Margin  returnOnEquity  \\\n11    1.043100e+09  1.976520e+08       0.112000          0.1814   \n20    1.275000e+09  3.150000e+08       0.152157          0.0656   \n32    2.348860e+09  2.915966e+08       0.084000          0.0737   \n35    8.820600e+08  2.301880e+08       0.079000          0.0844   \n41    1.327029e+09  1.546420e+08      -0.078000         -0.1298   \n...            ...           ...            ...             ...   \n4954  1.438980e+08  1.411800e+07       0.031000          0.1042   \n4955  6.257258e+07  5.511650e+05       0.004000          0.0347   \n4956  1.065240e+08  8.731000e+06       0.033000          0.2699   \n4957  1.040000e+08  5.000000e+06      -0.019231          0.0656   \n4959  4.607800e+07 -1.203000e+06      -0.098000         -0.1280   \n\n      Book Value per Share  Operating Cash Flow  Dividend Yield  R&D Expenses  \\\n11                  1.3210         3.790190e+08          0.0104           0.0   \n20                  9.9810         1.940000e+08          0.0000           0.0   \n32                 12.2137         2.326531e+08          0.0000           0.0   \n35                 15.5270         1.486720e+08          0.0000           0.0   \n41                  6.4680         1.351300e+08          0.0000           0.0   \n...                    ...                  ...             ...           ...   \n4954                6.2050         7.544000e+06          0.0000           0.0   \n4955                3.9440         7.503710e+05          0.0000           0.0   \n4956                1.0150         2.076000e+06          0.0000     9224000.0   \n4957                9.9810        -7.000000e+06          0.0000           0.0   \n4959                1.7570         1.403000e+06          0.0000     4395000.0   \n\n      PRICE VAR [%]  Class              Sector  \n11       -11.859928      0  Consumer Defensive  \n20        22.699392      1  Consumer Defensive  \n32        -0.238669      0  Consumer Defensive  \n35       -29.642288      0  Consumer Defensive  \n41        -5.240649      0  Consumer Defensive  \n...             ...    ...                 ...  \n4954      34.893617      1          Technology  \n4955     -12.264152      0          Technology  \n4956      46.716421      1          Technology  \n4957     -32.220041      0          Technology  \n4959     -27.755104      0          Technology  \n\n[1941 rows x 11 columns]",
      "text/html": "<div>\n<style scoped>\n    .dataframe tbody tr th:only-of-type {\n        vertical-align: middle;\n    }\n\n    .dataframe tbody tr th {\n        vertical-align: top;\n    }\n\n    .dataframe thead th {\n        text-align: right;\n    }\n</style>\n<table border=\"1\" class=\"dataframe\">\n  <thead>\n    <tr style=\"text-align: right;\">\n      <th></th>\n      <th>Revenue</th>\n      <th>EBITDA</th>\n      <th>Profit Margin</th>\n      <th>returnOnEquity</th>\n      <th>Book Value per Share</th>\n      <th>Operating Cash Flow</th>\n      <th>Dividend Yield</th>\n      <th>R&amp;D Expenses</th>\n      <th>PRICE VAR [%]</th>\n      <th>Class</th>\n      <th>Sector</th>\n    </tr>\n  </thead>\n  <tbody>\n    <tr>\n      <th>11</th>\n      <td>1.043100e+09</td>\n      <td>1.976520e+08</td>\n      <td>0.112000</td>\n      <td>0.1814</td>\n      <td>1.3210</td>\n      <td>3.790190e+08</td>\n      <td>0.0104</td>\n      <td>0.0</td>\n      <td>-11.859928</td>\n      <td>0</td>\n      <td>Consumer Defensive</td>\n    </tr>\n    <tr>\n      <th>20</th>\n      <td>1.275000e+09</td>\n      <td>3.150000e+08</td>\n      <td>0.152157</td>\n      <td>0.0656</td>\n      <td>9.9810</td>\n      <td>1.940000e+08</td>\n      <td>0.0000</td>\n      <td>0.0</td>\n      <td>22.699392</td>\n      <td>1</td>\n      <td>Consumer Defensive</td>\n    </tr>\n    <tr>\n      <th>32</th>\n      <td>2.348860e+09</td>\n      <td>2.915966e+08</td>\n      <td>0.084000</td>\n      <td>0.0737</td>\n      <td>12.2137</td>\n      <td>2.326531e+08</td>\n      <td>0.0000</td>\n      <td>0.0</td>\n      <td>-0.238669</td>\n      <td>0</td>\n      <td>Consumer Defensive</td>\n    </tr>\n    <tr>\n      <th>35</th>\n      <td>8.820600e+08</td>\n      <td>2.301880e+08</td>\n      <td>0.079000</td>\n      <td>0.0844</td>\n      <td>15.5270</td>\n      <td>1.486720e+08</td>\n      <td>0.0000</td>\n      <td>0.0</td>\n      <td>-29.642288</td>\n      <td>0</td>\n      <td>Consumer Defensive</td>\n    </tr>\n    <tr>\n      <th>41</th>\n      <td>1.327029e+09</td>\n      <td>1.546420e+08</td>\n      <td>-0.078000</td>\n      <td>-0.1298</td>\n      <td>6.4680</td>\n      <td>1.351300e+08</td>\n      <td>0.0000</td>\n      <td>0.0</td>\n      <td>-5.240649</td>\n      <td>0</td>\n      <td>Consumer Defensive</td>\n    </tr>\n    <tr>\n      <th>...</th>\n      <td>...</td>\n      <td>...</td>\n      <td>...</td>\n      <td>...</td>\n      <td>...</td>\n      <td>...</td>\n      <td>...</td>\n      <td>...</td>\n      <td>...</td>\n      <td>...</td>\n      <td>...</td>\n    </tr>\n    <tr>\n      <th>4954</th>\n      <td>1.438980e+08</td>\n      <td>1.411800e+07</td>\n      <td>0.031000</td>\n      <td>0.1042</td>\n      <td>6.2050</td>\n      <td>7.544000e+06</td>\n      <td>0.0000</td>\n      <td>0.0</td>\n      <td>34.893617</td>\n      <td>1</td>\n      <td>Technology</td>\n    </tr>\n    <tr>\n      <th>4955</th>\n      <td>6.257258e+07</td>\n      <td>5.511650e+05</td>\n      <td>0.004000</td>\n      <td>0.0347</td>\n      <td>3.9440</td>\n      <td>7.503710e+05</td>\n      <td>0.0000</td>\n      <td>0.0</td>\n      <td>-12.264152</td>\n      <td>0</td>\n      <td>Technology</td>\n    </tr>\n    <tr>\n      <th>4956</th>\n      <td>1.065240e+08</td>\n      <td>8.731000e+06</td>\n      <td>0.033000</td>\n      <td>0.2699</td>\n      <td>1.0150</td>\n      <td>2.076000e+06</td>\n      <td>0.0000</td>\n      <td>9224000.0</td>\n      <td>46.716421</td>\n      <td>1</td>\n      <td>Technology</td>\n    </tr>\n    <tr>\n      <th>4957</th>\n      <td>1.040000e+08</td>\n      <td>5.000000e+06</td>\n      <td>-0.019231</td>\n      <td>0.0656</td>\n      <td>9.9810</td>\n      <td>-7.000000e+06</td>\n      <td>0.0000</td>\n      <td>0.0</td>\n      <td>-32.220041</td>\n      <td>0</td>\n      <td>Technology</td>\n    </tr>\n    <tr>\n      <th>4959</th>\n      <td>4.607800e+07</td>\n      <td>-1.203000e+06</td>\n      <td>-0.098000</td>\n      <td>-0.1280</td>\n      <td>1.7570</td>\n      <td>1.403000e+06</td>\n      <td>0.0000</td>\n      <td>4395000.0</td>\n      <td>-27.755104</td>\n      <td>0</td>\n      <td>Technology</td>\n    </tr>\n  </tbody>\n</table>\n<p>1941 rows × 11 columns</p>\n</div>"
     },
     "execution_count": 6,
     "metadata": {},
     "output_type": "execute_result"
    }
   ],
   "source": [
    "filtered_cols = []\n",
    "\n",
    "for factor in subdf.columns[0:-2]:\n",
    "    q1 = subdf[factor].quantile(0.25)\n",
    "    q3 = subdf[factor].quantile(0.75)\n",
    "    iqr = q3-q1\n",
    "    filtered_cols.append(subdf[factor].loc[(subdf[factor] >= (q1 - 1.5 * iqr)) & (subdf[factor] <= (q3 + 1.5 * iqr))])\n",
    "\n",
    "# remove stock if it is an outlier in one or more columns\n",
    "filtered_subdf = pd.concat(filtered_cols, axis=1, join='inner')\n",
    "filtered_subdf = pd.concat([filtered_subdf, subdf[['Class', 'Sector']]], axis=1, join='inner')\n",
    "\n",
    "filtered_subdf"
   ]
  },
  {
   "cell_type": "markdown",
   "metadata": {
    "collapsed": false
   },
   "source": [
    "## 1.5 Save Filtered Dataframe"
   ]
  },
  {
   "cell_type": "code",
   "execution_count": 7,
   "metadata": {
    "collapsed": false,
    "pycharm": {
     "name": "#%%\n"
    }
   },
   "outputs": [],
   "source": [
    "# filtered_subdf.to_csv('2017_filtered.csv', index=False)"
   ]
  }
 ],
 "metadata": {
  "kernelspec": {
   "display_name": "Python 3",
   "language": "python",
   "name": "python3"
  },
  "language_info": {
   "codemirror_mode": {
    "name": "ipython",
    "version": 2
   },
   "file_extension": ".py",
   "mimetype": "text/x-python",
   "name": "python",
   "nbconvert_exporter": "python",
   "pygments_lexer": "ipython2",
   "version": "2.7.6"
  }
 },
 "nbformat": 4,
 "nbformat_minor": 0
}