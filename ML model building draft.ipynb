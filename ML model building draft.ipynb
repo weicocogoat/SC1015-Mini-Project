{
 "cells": [
  {
   "cell_type": "markdown",
   "metadata": {},
   "source": [
    "# Building a model"
   ]
  },
  {
   "cell_type": "markdown",
   "metadata": {},
   "source": [
    "From the description of the dataset: \n",
    "\n",
    "The column, class, lists a binary classification for each stock: -\n",
    "\n",
    "- For each stock, if the Price Var[%] is positive, class would be 1. From a trading perspective, 1 identifies the stocks that a hypothetical trader should BUY at the start if the year and sell at the end of the year to make a profit.\n",
    "\n",
    "- For each stock, if the Price Var[%] is negative, class would be 0. From a trading perspective, 0 identifies the stocks that a hypothetical trader should NOT BUY, since their value will decrease, meaning a loss of capital\n",
    "\n",
    "\n",
    "As such, we will be looking into training a machine learning model (utilizing the class column) so that it learns to classify those stocks that are buy-worthy and not buy-worthy.\n",
    "\n",
    "The first of such model we will be looking at is a Multi-Variate Classification tree. \n",
    "\n",
    "Utilizing the factors that we have identified in our EDA, we will attempt create a model to reliably classify the different stocks into either class 0 or 1. \n",
    "\n",
    "This will allow us to reliably predict if a stock is worth buying at the start of the year and holding on to it until the end of the year, where one can sell it for profit."
   ]
  },
  {
   "cell_type": "markdown",
   "metadata": {},
   "source": [
    "## Multi-variate Classification Tree"
   ]
  },
  {
   "cell_type": "code",
   "execution_count": 1,
   "metadata": {},
   "outputs": [],
   "source": [
    "import numpy as np\n",
    "import pandas as pd\n",
    "import seaborn as sb\n",
    "import matplotlib.pyplot as plt\n",
    "sb.set\n",
    "\n",
    "from sklearn.tree import plot_tree\n",
    "from sklearn.metrics import confusion_matrix\n",
    "from sklearn.tree import DecisionTreeClassifier\n",
    "from sklearn.model_selection import train_test_split"
   ]
  },
  {
   "cell_type": "code",
   "execution_count": 2,
   "metadata": {},
   "outputs": [
    {
     "data": {
      "text/html": [
       "<div>\n",
       "<style scoped>\n",
       "    .dataframe tbody tr th:only-of-type {\n",
       "        vertical-align: middle;\n",
       "    }\n",
       "\n",
       "    .dataframe tbody tr th {\n",
       "        vertical-align: top;\n",
       "    }\n",
       "\n",
       "    .dataframe thead th {\n",
       "        text-align: right;\n",
       "    }\n",
       "</style>\n",
       "<table border=\"1\" class=\"dataframe\">\n",
       "  <thead>\n",
       "    <tr style=\"text-align: right;\">\n",
       "      <th></th>\n",
       "      <th>Revenue</th>\n",
       "      <th>EBITDA</th>\n",
       "      <th>Profit Margin</th>\n",
       "      <th>returnOnEquity</th>\n",
       "      <th>Book Value per Share</th>\n",
       "      <th>Operating Cash Flow</th>\n",
       "      <th>Dividend Yield</th>\n",
       "      <th>R&amp;D Expenses</th>\n",
       "      <th>PRICE VAR [%]</th>\n",
       "      <th>Class</th>\n",
       "      <th>Sector</th>\n",
       "    </tr>\n",
       "  </thead>\n",
       "  <tbody>\n",
       "    <tr>\n",
       "      <th>0</th>\n",
       "      <td>2.636746e+09</td>\n",
       "      <td>103792000.0</td>\n",
       "      <td>-0.004</td>\n",
       "      <td>-0.02910</td>\n",
       "      <td>0.673</td>\n",
       "      <td>190855000.0</td>\n",
       "      <td>0.0000</td>\n",
       "      <td>0.0</td>\n",
       "      <td>-26.687113</td>\n",
       "      <td>0</td>\n",
       "      <td>Technology</td>\n",
       "    </tr>\n",
       "    <tr>\n",
       "      <th>1</th>\n",
       "      <td>5.361960e+09</td>\n",
       "      <td>853769000.0</td>\n",
       "      <td>0.073</td>\n",
       "      <td>-0.25870</td>\n",
       "      <td>-8.191</td>\n",
       "      <td>523610000.0</td>\n",
       "      <td>0.0000</td>\n",
       "      <td>0.0</td>\n",
       "      <td>-42.583392</td>\n",
       "      <td>0</td>\n",
       "      <td>Consumer Cyclical</td>\n",
       "    </tr>\n",
       "    <tr>\n",
       "      <th>2</th>\n",
       "      <td>1.798500e+09</td>\n",
       "      <td>412100000.0</td>\n",
       "      <td>-0.158</td>\n",
       "      <td>-0.07130</td>\n",
       "      <td>4.204</td>\n",
       "      <td>404200000.0</td>\n",
       "      <td>0.0085</td>\n",
       "      <td>13000000.0</td>\n",
       "      <td>66.143385</td>\n",
       "      <td>1</td>\n",
       "      <td>Basic Materials</td>\n",
       "    </tr>\n",
       "    <tr>\n",
       "      <th>3</th>\n",
       "      <td>5.816440e+08</td>\n",
       "      <td>479440000.0</td>\n",
       "      <td>0.284</td>\n",
       "      <td>0.17450</td>\n",
       "      <td>4.448</td>\n",
       "      <td>427656000.0</td>\n",
       "      <td>0.0000</td>\n",
       "      <td>29000.0</td>\n",
       "      <td>-9.197867</td>\n",
       "      <td>0</td>\n",
       "      <td>Energy</td>\n",
       "    </tr>\n",
       "    <tr>\n",
       "      <th>4</th>\n",
       "      <td>1.589000e+09</td>\n",
       "      <td>84532000.0</td>\n",
       "      <td>0.044</td>\n",
       "      <td>0.07485</td>\n",
       "      <td>9.939</td>\n",
       "      <td>303107000.0</td>\n",
       "      <td>0.0000</td>\n",
       "      <td>0.0</td>\n",
       "      <td>100.552499</td>\n",
       "      <td>1</td>\n",
       "      <td>Basic Materials</td>\n",
       "    </tr>\n",
       "    <tr>\n",
       "      <th>...</th>\n",
       "      <td>...</td>\n",
       "      <td>...</td>\n",
       "      <td>...</td>\n",
       "      <td>...</td>\n",
       "      <td>...</td>\n",
       "      <td>...</td>\n",
       "      <td>...</td>\n",
       "      <td>...</td>\n",
       "      <td>...</td>\n",
       "      <td>...</td>\n",
       "      <td>...</td>\n",
       "    </tr>\n",
       "    <tr>\n",
       "      <th>1726</th>\n",
       "      <td>6.966000e+06</td>\n",
       "      <td>3331000.0</td>\n",
       "      <td>0.305</td>\n",
       "      <td>0.06250</td>\n",
       "      <td>18.620</td>\n",
       "      <td>4573000.0</td>\n",
       "      <td>0.0193</td>\n",
       "      <td>0.0</td>\n",
       "      <td>11.671183</td>\n",
       "      <td>1</td>\n",
       "      <td>Financial Services</td>\n",
       "    </tr>\n",
       "    <tr>\n",
       "      <th>1727</th>\n",
       "      <td>2.307974e+07</td>\n",
       "      <td>6089738.0</td>\n",
       "      <td>0.080</td>\n",
       "      <td>0.06010</td>\n",
       "      <td>9.580</td>\n",
       "      <td>2302113.0</td>\n",
       "      <td>0.0000</td>\n",
       "      <td>0.0</td>\n",
       "      <td>-3.076927</td>\n",
       "      <td>0</td>\n",
       "      <td>Consumer Defensive</td>\n",
       "    </tr>\n",
       "    <tr>\n",
       "      <th>1728</th>\n",
       "      <td>3.546600e+07</td>\n",
       "      <td>5710000.0</td>\n",
       "      <td>0.031</td>\n",
       "      <td>0.01090</td>\n",
       "      <td>5.464</td>\n",
       "      <td>6593000.0</td>\n",
       "      <td>0.0000</td>\n",
       "      <td>0.0</td>\n",
       "      <td>27.118650</td>\n",
       "      <td>1</td>\n",
       "      <td>Consumer Cyclical</td>\n",
       "    </tr>\n",
       "    <tr>\n",
       "      <th>1729</th>\n",
       "      <td>0.000000e+00</td>\n",
       "      <td>2986000.0</td>\n",
       "      <td>0.044</td>\n",
       "      <td>0.35880</td>\n",
       "      <td>1.618</td>\n",
       "      <td>-816000.0</td>\n",
       "      <td>0.0000</td>\n",
       "      <td>38000.0</td>\n",
       "      <td>-22.159090</td>\n",
       "      <td>0</td>\n",
       "      <td>Healthcare</td>\n",
       "    </tr>\n",
       "    <tr>\n",
       "      <th>1730</th>\n",
       "      <td>5.488438e+07</td>\n",
       "      <td>10063235.0</td>\n",
       "      <td>0.128</td>\n",
       "      <td>0.18950</td>\n",
       "      <td>2.722</td>\n",
       "      <td>-2234995.0</td>\n",
       "      <td>0.0000</td>\n",
       "      <td>1652633.0</td>\n",
       "      <td>-17.834400</td>\n",
       "      <td>0</td>\n",
       "      <td>Basic Materials</td>\n",
       "    </tr>\n",
       "  </tbody>\n",
       "</table>\n",
       "<p>1731 rows × 11 columns</p>\n",
       "</div>"
      ],
      "text/plain": [
       "           Revenue       EBITDA  Profit Margin  returnOnEquity  \\\n",
       "0     2.636746e+09  103792000.0         -0.004        -0.02910   \n",
       "1     5.361960e+09  853769000.0          0.073        -0.25870   \n",
       "2     1.798500e+09  412100000.0         -0.158        -0.07130   \n",
       "3     5.816440e+08  479440000.0          0.284         0.17450   \n",
       "4     1.589000e+09   84532000.0          0.044         0.07485   \n",
       "...            ...          ...            ...             ...   \n",
       "1726  6.966000e+06    3331000.0          0.305         0.06250   \n",
       "1727  2.307974e+07    6089738.0          0.080         0.06010   \n",
       "1728  3.546600e+07    5710000.0          0.031         0.01090   \n",
       "1729  0.000000e+00    2986000.0          0.044         0.35880   \n",
       "1730  5.488438e+07   10063235.0          0.128         0.18950   \n",
       "\n",
       "      Book Value per Share  Operating Cash Flow  Dividend Yield  R&D Expenses  \\\n",
       "0                    0.673          190855000.0          0.0000           0.0   \n",
       "1                   -8.191          523610000.0          0.0000           0.0   \n",
       "2                    4.204          404200000.0          0.0085    13000000.0   \n",
       "3                    4.448          427656000.0          0.0000       29000.0   \n",
       "4                    9.939          303107000.0          0.0000           0.0   \n",
       "...                    ...                  ...             ...           ...   \n",
       "1726                18.620            4573000.0          0.0193           0.0   \n",
       "1727                 9.580            2302113.0          0.0000           0.0   \n",
       "1728                 5.464            6593000.0          0.0000           0.0   \n",
       "1729                 1.618            -816000.0          0.0000       38000.0   \n",
       "1730                 2.722           -2234995.0          0.0000     1652633.0   \n",
       "\n",
       "      PRICE VAR [%]  Class              Sector  \n",
       "0        -26.687113      0          Technology  \n",
       "1        -42.583392      0   Consumer Cyclical  \n",
       "2         66.143385      1     Basic Materials  \n",
       "3         -9.197867      0              Energy  \n",
       "4        100.552499      1     Basic Materials  \n",
       "...             ...    ...                 ...  \n",
       "1726      11.671183      1  Financial Services  \n",
       "1727      -3.076927      0  Consumer Defensive  \n",
       "1728      27.118650      1   Consumer Cyclical  \n",
       "1729     -22.159090      0          Healthcare  \n",
       "1730     -17.834400      0     Basic Materials  \n",
       "\n",
       "[1731 rows x 11 columns]"
      ]
     },
     "execution_count": 2,
     "metadata": {},
     "output_type": "execute_result"
    }
   ],
   "source": [
    "df = pd.read_csv('2018_filtered.txt')\n",
    "df"
   ]
  },
  {
   "cell_type": "code",
   "execution_count": 11,
   "metadata": {},
   "outputs": [],
   "source": [
    "y = pd.DataFrame(df[\"Class\"])\n",
    "\n",
    "predictors = pd.DataFrame(df[[\"Revenue\", \"EBITDA\", \"Profit Margin\", \"returnOnEquity\", \"Book Value per Share\", \n",
    "                                 \"Operating Cash Flow\", \"Dividend Yield\", \"R&D Expenses\"]])\n",
    "X = predictors"
   ]
  },
  {
   "cell_type": "code",
   "execution_count": 16,
   "metadata": {},
   "outputs": [
    {
     "name": "stdout",
     "output_type": "stream",
     "text": [
      "Goodness of Fit of Model \tTrain Dataset\n",
      "Classification Accuracy \t: 0.7234206471494607\n",
      "True Postitive Rate \t\t: 0.8531317494600432\n",
      "True Negative Rate \t\t: 0.40053763440860213\n",
      "False Negative Rate \t\t: 0.1468682505399568\n",
      "False Postitive Rate \t\t: 0.5994623655913979\n",
      "\n",
      "Goodness of Fit of Model \tTest Dataset\n",
      "Classification Accuracy \t: 0.7066974595842956\n",
      "True Postitive Rate \t\t: 0.8338762214983714\n",
      "True Negative Rate \t\t: 0.3968253968253968\n",
      "False Negative Rate \t\t: 0.16612377850162866\n",
      "False Postitive Rate \t\t: 0.6031746031746031\n",
      "\n"
     ]
    },
    {
     "data": {
      "text/plain": [
       "<AxesSubplot:>"
      ]
     },
     "execution_count": 16,
     "metadata": {},
     "output_type": "execute_result"
    },
    {
     "data": {
      "image/png": "[encoded data removed]",
      "text/plain": [
       "<Figure size 864x288 with 4 Axes>"
      ]
     },
     "metadata": {
      "needs_background": "light"
     },
     "output_type": "display_data"
    }
   ],
   "source": [
    "# Split the Dataset into Train and Test\n",
    "X_train, X_test, y_train, y_test = train_test_split(X, y, test_size = 0.25)\n",
    "\n",
    "dectree = DecisionTreeClassifier(max_depth = 2)\n",
    "dectree.fit(X_train, y_train)\n",
    "\n",
    "# Predict Response corresponding to Predictors\n",
    "y_train_pred = dectree.predict(X_train)\n",
    "y_test_pred = dectree.predict(X_test)\n",
    "\n",
    "#Getting the confusion matrices\n",
    "train_confusion = confusion_matrix(y_train, y_train_pred)\n",
    "\n",
    "TP_train = train_confusion[1][1]\n",
    "FN_train = train_confusion[1][0]\n",
    "TN_train = train_confusion[0][0]\n",
    "FP_train = train_confusion[0][1]\n",
    "\n",
    "test_confusion = confusion_matrix(y_test, y_test_pred)\n",
    "\n",
    "TP_test = test_confusion[1][1]\n",
    "FN_test = test_confusion[1][0]\n",
    "TN_test = test_confusion[0][0]\n",
    "FP_test = test_confusion[0][1]\n",
    "\n",
    "\n",
    "# Check the Goodness of Fit (on Train Data)\n",
    "print(\"Goodness of Fit of Model \\tTrain Dataset\")\n",
    "print(\"Classification Accuracy \\t:\", dectree.score(X_train, y_train))\n",
    "print(\"True Postitive Rate \\t\\t:\", TP_train/(TP_train+FN_train))\n",
    "print(\"True Negative Rate \\t\\t:\", TN_train/(TN_train+FP_train))\n",
    "print(\"False Negative Rate \\t\\t:\", FN_train/(FN_train+TP_train))\n",
    "print(\"False Postitive Rate \\t\\t:\", FP_train/(FP_train+TN_train))\n",
    "print()\n",
    "\n",
    "# Check the Goodness of Fit (on Test Data)\n",
    "print(\"Goodness of Fit of Model \\tTest Dataset\")\n",
    "print(\"Classification Accuracy \\t:\", dectree.score(X_test, y_test))\n",
    "print(\"True Postitive Rate \\t\\t:\", TP_test/(TP_test+FN_test))\n",
    "print(\"True Negative Rate \\t\\t:\", TN_test/(TN_test+FP_test))\n",
    "print(\"False Negative Rate \\t\\t:\", FN_test/(FN_test+TP_test))\n",
    "print(\"False Postitive Rate \\t\\t:\", FP_test/(FP_test+TN_test))\n",
    "print()\n",
    "\n",
    "# Plot the Confusion Matrix for Train and Test\n",
    "f, axes = plt.subplots(1, 2, figsize=(12, 4))\n",
    "sb.heatmap(confusion_matrix(y_train, y_train_pred),\n",
    "           annot = True, fmt=\".0f\", annot_kws={\"size\": 18}, ax = axes[0])\n",
    "sb.heatmap(confusion_matrix(y_test, y_test_pred), \n",
    "           annot = True, fmt=\".0f\", annot_kws={\"size\": 18}, ax = axes[1])"
   ]
  },
  {
   "cell_type": "code",
   "execution_count": 13,
   "metadata": {},
   "outputs": [
    {
     "data": {
      "text/plain": [
       "[Text(334.8, 543.6, 'Book Value per Share <= 6.654\\ngini = 0.411\\nsamples = 1298\\nvalue = [375, 923]\\nclass = 1'),\n",
       " Text(167.4, 326.16, 'Dividend Yield <= 0.009\\ngini = 0.499\\nsamples = 391\\nvalue = [187, 204]\\nclass = 1'),\n",
       " Text(83.7, 108.72000000000003, 'gini = 0.499\\nsamples = 323\\nvalue = [170, 153]\\nclass = 0'),\n",
       " Text(251.10000000000002, 108.72000000000003, 'gini = 0.375\\nsamples = 68\\nvalue = [17, 51]\\nclass = 1'),\n",
       " Text(502.20000000000005, 326.16, 'Profit Margin <= 0.034\\ngini = 0.329\\nsamples = 907\\nvalue = [188, 719]\\nclass = 1'),\n",
       " Text(418.5, 108.72000000000003, 'gini = 0.449\\nsamples = 235\\nvalue = [80, 155]\\nclass = 1'),\n",
       " Text(585.9, 108.72000000000003, 'gini = 0.27\\nsamples = 672\\nvalue = [108, 564]\\nclass = 1')]"
      ]
     },
     "execution_count": 13,
     "metadata": {},
     "output_type": "execute_result"
    },
    {
     "data": {
      "image/png": "[encoded data removed]",
      "text/plain": [
       "<Figure size 864x864 with 1 Axes>"
      ]
     },
     "metadata": {
      "needs_background": "light"
     },
     "output_type": "display_data"
    }
   ],
   "source": [
    "# Plot the trained Decision Tree\n",
    "from sklearn.tree import plot_tree\n",
    "\n",
    "f = plt.figure(figsize=(12,12))\n",
    "plot_tree(dectree, filled=True, rounded=True, \n",
    "          feature_names=X_train.columns, \n",
    "          class_names=[\"0\",\"1\"])"
   ]
  },
  {
   "cell_type": "markdown",
   "metadata": {},
   "source": [
    "The model with a depth of 2 has a Classification Accuracy of 0.72 for the train set and 0.70 for the test set.\n",
    "\n",
    "Looking to improve the Classification accuracy for the test set, we looked into increasing the depth of the classification tree."
   ]
  },
  {
   "cell_type": "code",
   "execution_count": 7,
   "metadata": {},
   "outputs": [
    {
     "name": "stdout",
     "output_type": "stream",
     "text": [
      "Goodness of Fit of Model \tTrain Dataset\n",
      "Classification Accuracy \t: 0.7442218798151001\n",
      "True Postitive Rate \t\t: 0.8449023861171366\n",
      "True Negative Rate \t\t: 0.4973404255319149\n",
      "False Negative Rate \t\t: 0.15509761388286333\n",
      "False Postitive Rate \t\t: 0.5026595744680851\n",
      "\n",
      "Goodness of Fit of Model \tTest Dataset\n",
      "Classification Accuracy \t: 0.6974595842956121\n",
      "True Postitive Rate \t\t: 0.8135048231511254\n",
      "True Negative Rate \t\t: 0.4016393442622951\n",
      "False Negative Rate \t\t: 0.1864951768488746\n",
      "False Postitive Rate \t\t: 0.5983606557377049\n",
      "\n"
     ]
    },
    {
     "data": {
      "text/plain": [
       "<AxesSubplot:>"
      ]
     },
     "execution_count": 7,
     "metadata": {},
     "output_type": "execute_result"
    },
    {
     "data": {
      "image/png": "[encoded data removed]",
      "text/plain": [
       "<Figure size 864x288 with 4 Axes>"
      ]
     },
     "metadata": {
      "needs_background": "light"
     },
     "output_type": "display_data"
    }
   ],
   "source": [
    "# Split the Dataset into Train and Test\n",
    "X_train, X_test, y_train, y_test = train_test_split(X, y, test_size = 0.25)\n",
    "\n",
    "dectree = DecisionTreeClassifier(max_depth = 4)\n",
    "dectree.fit(X_train, y_train)\n",
    "\n",
    "# Predict Response corresponding to Predictors\n",
    "y_train_pred = dectree.predict(X_train)\n",
    "y_test_pred = dectree.predict(X_test)\n",
    "\n",
    "#Getting the confusion matrices\n",
    "train_confusion = confusion_matrix(y_train, y_train_pred)\n",
    "\n",
    "TP_train = train_confusion[1][1]\n",
    "FN_train = train_confusion[1][0]\n",
    "TN_train = train_confusion[0][0]\n",
    "FP_train = train_confusion[0][1]\n",
    "\n",
    "test_confusion = confusion_matrix(y_test, y_test_pred)\n",
    "\n",
    "TP_test = test_confusion[1][1]\n",
    "FN_test = test_confusion[1][0]\n",
    "TN_test = test_confusion[0][0]\n",
    "FP_test = test_confusion[0][1]\n",
    "\n",
    "# Check the Goodness of Fit (on Train Data)\n",
    "print(\"Goodness of Fit of Model \\tTrain Dataset\")\n",
    "print(\"Classification Accuracy \\t:\", dectree.score(X_train, y_train))\n",
    "print(\"True Postitive Rate \\t\\t:\", TP_train/(TP_train+FN_train))\n",
    "print(\"True Negative Rate \\t\\t:\", TN_train/(TN_train+FP_train))\n",
    "print(\"False Negative Rate \\t\\t:\", FN_train/(FN_train+TP_train))\n",
    "print(\"False Postitive Rate \\t\\t:\", FP_train/(FP_train+TN_train))\n",
    "print()\n",
    "\n",
    "# Check the Goodness of Fit (on Test Data)\n",
    "print(\"Goodness of Fit of Model \\tTest Dataset\")\n",
    "print(\"Classification Accuracy \\t:\", dectree.score(X_test, y_test))\n",
    "print(\"True Postitive Rate \\t\\t:\", TP_test/(TP_test+FN_test))\n",
    "print(\"True Negative Rate \\t\\t:\", TN_test/(TN_test+FP_test))\n",
    "print(\"False Negative Rate \\t\\t:\", FN_test/(FN_test+TP_test))\n",
    "print(\"False Postitive Rate \\t\\t:\", FP_test/(FP_test+TN_test))\n",
    "print()\n",
    "\n",
    "# Plot the Confusion Matrix for Train and Test\n",
    "f, axes = plt.subplots(1, 2, figsize=(12, 4))\n",
    "sb.heatmap(confusion_matrix(y_train, y_train_pred),\n",
    "           annot = True, fmt=\".0f\", annot_kws={\"size\": 18}, ax = axes[0])\n",
    "sb.heatmap(confusion_matrix(y_test, y_test_pred), \n",
    "           annot = True, fmt=\".0f\", annot_kws={\"size\": 18}, ax = axes[1])"
   ]
  },
  {
   "cell_type": "markdown",
   "metadata": {},
   "source": [
    "The model with a depth of 4 has a classification accuracy of 0.74 for the train dataset and 0.69 for the test dataset. \n",
    "\n",
    "Compared to the previous model with a depth of 2, it has a lower classification accuracy for the test set but higher classification accuracy for the train set. This implies that the model fo depth 4 might be overfitting the data and is thus, not reliable. As such, the model of depth 2 is more reliable. \n",
    "\n",
    "Looking to improve our model and get better classification accuracy, we looked into another machine learning model: Random Forest Classification. "
   ]
  },
  {
   "cell_type": "markdown",
   "metadata": {},
   "source": [
    "## Random Forest"
   ]
  },
  {
   "cell_type": "code",
   "execution_count": 17,
   "metadata": {},
   "outputs": [],
   "source": [
    "# Import RandomForestClassifier model from Scikit-Learn\n",
    "from sklearn.ensemble import RandomForestClassifier"
   ]
  },
  {
   "cell_type": "code",
   "execution_count": 39,
   "metadata": {},
   "outputs": [
    {
     "name": "stderr",
     "output_type": "stream",
     "text": [
      "<ipython-input-39-7bc6f316b3bf>:9: DataConversionWarning: A column-vector y was passed when a 1d array was expected. Please change the shape of y to (n_samples,), for example using ravel().\n",
      "  rforest.fit(X_train, y_train)                         # train the model\n"
     ]
    },
    {
     "name": "stdout",
     "output_type": "stream",
     "text": [
      "Goodness of Fit of Model \tTrain Dataset\n",
      "Classification Accuracy \t: 0.7611710323574731\n",
      "True Postitive Rate \t\t: 0.9419496166484118\n",
      "True Negative Rate \t\t: 0.33246753246753247\n",
      "False Negative Rate \t\t: 0.05805038335158817\n",
      "False Postitive Rate \t\t: 0.6675324675324675\n",
      "\n",
      "Goodness of Fit of Model \tTest Dataset\n",
      "Classification Accuracy \t: 0.7043879907621247\n",
      "True Postitive Rate \t\t: 0.90625\n",
      "True Negative Rate \t\t: 0.13274336283185842\n",
      "False Negative Rate \t\t: 0.09375\n",
      "False Postitive Rate \t\t: 0.8672566371681416\n",
      "\n"
     ]
    },
    {
     "data": {
      "text/plain": [
       "<AxesSubplot:>"
      ]
     },
     "execution_count": 39,
     "metadata": {},
     "output_type": "execute_result"
    },
    {
     "data": {
      "image/png": "[encoded data removed]",
      "text/plain": [
       "<Figure size 864x288 with 4 Axes>"
      ]
     },
     "metadata": {
      "needs_background": "light"
     },
     "output_type": "display_data"
    }
   ],
   "source": [
    "rforest = RandomForestClassifier(n_estimators = 100,  # n_estimators denote number of trees\n",
    "                                 max_depth = 2)       # set the maximum depth of each tree\n",
    "\n",
    "# Split the Dataset into Train and Test\n",
    "X_train, X_test, y_train, y_test = train_test_split(X, y, test_size = 0.25)\n",
    "\n",
    "# Random Forest using Train Data\n",
    "rforest = RandomForestClassifier(n_estimators = 100, max_depth = 4)  # create the object\n",
    "rforest.fit(X_train, y_train)                         # train the model\n",
    "\n",
    "# Predict Response corresponding to Predictors\n",
    "y_train_pred = rforest.predict(X_train)\n",
    "y_test_pred = rforest.predict(X_test)\n",
    "\n",
    "#Getting the confusion matrices\n",
    "train_confusion = confusion_matrix(y_train, y_train_pred)\n",
    "\n",
    "TP_train = train_confusion[1][1]\n",
    "FN_train = train_confusion[1][0]\n",
    "TN_train = train_confusion[0][0]\n",
    "FP_train = train_confusion[0][1]\n",
    "\n",
    "test_confusion = confusion_matrix(y_test, y_test_pred)\n",
    "\n",
    "TP_test = test_confusion[1][1]\n",
    "FN_test = test_confusion[1][0]\n",
    "TN_test = test_confusion[0][0]\n",
    "FP_test = test_confusion[0][1]\n",
    "\n",
    "# Check the Goodness of Fit (on Train Data)\n",
    "print(\"Goodness of Fit of Model \\tTrain Dataset\")\n",
    "print(\"Classification Accuracy \\t:\", rforest.score(X_train, y_train))\n",
    "print(\"True Postitive Rate \\t\\t:\", TP_train/(TP_train+FN_train))\n",
    "print(\"True Negative Rate \\t\\t:\", TN_train/(TN_train+FP_train))\n",
    "print(\"False Negative Rate \\t\\t:\", FN_train/(FN_train+TP_train))\n",
    "print(\"False Postitive Rate \\t\\t:\", FP_train/(FP_train+TN_train))\n",
    "print()\n",
    "\n",
    "# Check the Goodness of Fit (on Test Data)\n",
    "print(\"Goodness of Fit of Model \\tTest Dataset\")\n",
    "print(\"Classification Accuracy \\t:\", rforest.score(X_test, y_test))\n",
    "print(\"True Postitive Rate \\t\\t:\", TP_test/(TP_test+FN_test))\n",
    "print(\"True Negative Rate \\t\\t:\", TN_test/(TN_test+FP_test))\n",
    "print(\"False Negative Rate \\t\\t:\", FN_test/(FN_test+TP_test))\n",
    "print(\"False Postitive Rate \\t\\t:\", FP_test/(FP_test+TN_test))\n",
    "print()\n",
    "\n",
    "\n",
    "# Plot the Confusion Matrix for Train and Test\n",
    "f, axes = plt.subplots(1, 2, figsize=(12, 4))\n",
    "sb.heatmap(train_confusion,\n",
    "           annot = True, fmt=\".0f\", annot_kws={\"size\": 18}, ax = axes[0])\n",
    "sb.heatmap(test_confusion, \n",
    "           annot = True, fmt=\".0f\", annot_kws={\"size\": 18}, ax = axes[1])"
   ]
  },
  {
   "cell_type": "markdown",
   "metadata": {},
   "source": [
    "Utilizing the random forest model of approximately 100 trees of depth 2, we managed to obtain a classification accuracy of approximately 0.76 for the training data set and a classification accuracy of approximately 0.70 for the test data set. \n",
    "\n",
    "Looking to refine the classification accuracy, we looked into changing the n-estimators and depth of the tree."
   ]
  },
  {
   "cell_type": "code",
   "execution_count": 31,
   "metadata": {},
   "outputs": [
    {
     "name": "stderr",
     "output_type": "stream",
     "text": [
      "<ipython-input-31-be62f3f3c777>:9: DataConversionWarning: A column-vector y was passed when a 1d array was expected. Please change the shape of y to (n_samples,), for example using ravel().\n",
      "  rforest.fit(X_train, y_train)                         # train the model\n"
     ]
    },
    {
     "name": "stdout",
     "output_type": "stream",
     "text": [
      "Goodness of Fit of Model \tTrain Dataset\n",
      "Classification Accuracy \t: 0.7673343605546995\n",
      "True Postitive Rate \t\t: 0.9795479009687836\n",
      "True Negative Rate \t\t: 0.23306233062330622\n",
      "False Negative Rate \t\t: 0.02045209903121636\n",
      "False Postitive Rate \t\t: 0.7669376693766937\n",
      "\n",
      "Goodness of Fit of Model \tTest Dataset\n",
      "Classification Accuracy \t: 0.7251732101616628\n",
      "True Postitive Rate \t\t: 0.9638157894736842\n",
      "True Negative Rate \t\t: 0.16279069767441862\n",
      "False Negative Rate \t\t: 0.03618421052631579\n",
      "False Postitive Rate \t\t: 0.8372093023255814\n",
      "\n"
     ]
    },
    {
     "data": {
      "text/plain": [
       "<AxesSubplot:>"
      ]
     },
     "execution_count": 31,
     "metadata": {},
     "output_type": "execute_result"
    },
    {
     "data": {
      "image/png": "[encoded data removed]",
      "text/plain": [
       "<Figure size 864x288 with 4 Axes>"
      ]
     },
     "metadata": {
      "needs_background": "light"
     },
     "output_type": "display_data"
    }
   ],
   "source": [
    "rforest = RandomForestClassifier(n_estimators = 500,  # n_estimators denote number of trees\n",
    "                                 max_depth = 4)       # set the maximum depth of each tree\n",
    "\n",
    "# Split the Dataset into Train and Test\n",
    "X_train, X_test, y_train, y_test = train_test_split(X, y, test_size = 0.25)\n",
    "\n",
    "# Random Forest using Train Data\n",
    "rforest = RandomForestClassifier(n_estimators = 100, max_depth = 4)  # create the object\n",
    "rforest.fit(X_train, y_train)                         # train the model\n",
    "\n",
    "# Predict Response corresponding to Predictors\n",
    "y_train_pred = rforest.predict(X_train)\n",
    "y_test_pred = rforest.predict(X_test)\n",
    "\n",
    "#Getting the confusion matrices\n",
    "train_confusion = confusion_matrix(y_train, y_train_pred)\n",
    "\n",
    "TP_train = train_confusion[1][1]\n",
    "FN_train = train_confusion[1][0]\n",
    "TN_train = train_confusion[0][0]\n",
    "FP_train = train_confusion[0][1]\n",
    "\n",
    "test_confusion = confusion_matrix(y_test, y_test_pred)\n",
    "\n",
    "TP_test = test_confusion[1][1]\n",
    "FN_test = test_confusion[1][0]\n",
    "TN_test = test_confusion[0][0]\n",
    "FP_test = test_confusion[0][1]\n",
    "\n",
    "# Check the Goodness of Fit (on Train Data)\n",
    "print(\"Goodness of Fit of Model \\tTrain Dataset\")\n",
    "print(\"Classification Accuracy \\t:\", rforest.score(X_train, y_train))\n",
    "print(\"True Postitive Rate \\t\\t:\", TP_train/(TP_train+FN_train))\n",
    "print(\"True Negative Rate \\t\\t:\", TN_train/(TN_train+FP_train))\n",
    "print(\"False Negative Rate \\t\\t:\", FN_train/(FN_train+TP_train))\n",
    "print(\"False Postitive Rate \\t\\t:\", FP_train/(FP_train+TN_train))\n",
    "print()\n",
    "\n",
    "# Check the Goodness of Fit (on Test Data)\n",
    "print(\"Goodness of Fit of Model \\tTest Dataset\")\n",
    "print(\"Classification Accuracy \\t:\", rforest.score(X_test, y_test))\n",
    "print(\"True Postitive Rate \\t\\t:\", TP_test/(TP_test+FN_test))\n",
    "print(\"True Negative Rate \\t\\t:\", TN_test/(TN_test+FP_test))\n",
    "print(\"False Negative Rate \\t\\t:\", FN_test/(FN_test+TP_test))\n",
    "print(\"False Postitive Rate \\t\\t:\", FP_test/(FP_test+TN_test))\n",
    "print()\n",
    "\n",
    "\n",
    "# Plot the Confusion Matrix for Train and Test\n",
    "f, axes = plt.subplots(1, 2, figsize=(12, 4))\n",
    "sb.heatmap(train_confusion,\n",
    "           annot = True, fmt=\".0f\", annot_kws={\"size\": 18}, ax = axes[0])\n",
    "sb.heatmap(test_confusion, \n",
    "           annot = True, fmt=\".0f\", annot_kws={\"size\": 18}, ax = axes[1])"
   ]
  },
  {
   "cell_type": "markdown",
   "metadata": {},
   "source": [
    "Utilizing the random forest model of approximately 500 trees of depth 4, we managed to obtain a classification accuracy of approximately 0.76 for the training data set and a classification accuracy of approximately 0.72 for the test data set.\n",
    "\n",
    "While the classification accuracy for the training data set has dropped slightly, there was an increase in the classification accuracy in the test data set, making this model better than the previous model.\n",
    "\n",
    "Comparing this random forest model and the multivariate classification tree model, we can see that there is an increase in the classification accuracy for both the train(0.76-r.forest vs 0.73-c.tree) and test data sets(0.72-r.forest vs 0.70-c.tree). \n",
    "\n",
    "Seeking to refine our random forest model, we decided to look into GridSearch to help us hypertune our parameters such that our model would be more accurate."
   ]
  },
  {
   "cell_type": "markdown",
   "metadata": {},
   "source": [
    "## Hypertuning with GridSearchCV"
   ]
  },
  {
   "cell_type": "code",
   "execution_count": 41,
   "metadata": {},
   "outputs": [],
   "source": [
    "# Import GridSearchCV from Scikit-Learn\n",
    "from sklearn.model_selection import GridSearchCV"
   ]
  },
  {
   "cell_type": "code",
   "execution_count": 43,
   "metadata": {},
   "outputs": [],
   "source": [
    "# Create the param grid\n",
    "param_grid = {'n_estimators': [int(x) for x in np.linspace(start = 100, stop = 500, num = 100)],\n",
    "               'max_features': ['auto', 'sqrt'],\n",
    "               'max_depth': [2,6],\n",
    "               'min_samples_split': [2, 5],\n",
    "               'min_samples_leaf': [1, 2],\n",
    "               'bootstrap': [True, False]}\n",
    "\n",
    "rf_Model = RandomForestClassifier()\n",
    "\n",
    "rf_Grid = GridSearchCV(estimator = rf_Model, param_grid = param_grid, cv = 3, verbose=2, n_jobs = 4)"
   ]
  },
  {
   "cell_type": "code",
   "execution_count": 44,
   "metadata": {},
   "outputs": [
    {
     "name": "stdout",
     "output_type": "stream",
     "text": [
      "Fitting 3 folds for each of 3200 candidates, totalling 9600 fits\n"
     ]
    },
    {
     "name": "stderr",
     "output_type": "stream",
     "text": [
      "[Parallel(n_jobs=4)]: Using backend LokyBackend with 4 concurrent workers.\n",
      "[Parallel(n_jobs=4)]: Done  33 tasks      | elapsed:    3.3s\n",
      "[Parallel(n_jobs=4)]: Done 154 tasks      | elapsed:   11.6s\n",
      "[Parallel(n_jobs=4)]: Done 357 tasks      | elapsed:   31.9s\n",
      "[Parallel(n_jobs=4)]: Done 640 tasks      | elapsed:   58.0s\n",
      "[Parallel(n_jobs=4)]: Done 1005 tasks      | elapsed:  1.5min\n",
      "[Parallel(n_jobs=4)]: Done 1450 tasks      | elapsed:  2.2min\n",
      "[Parallel(n_jobs=4)]: Done 1977 tasks      | elapsed:  2.9min\n",
      "[Parallel(n_jobs=4)]: Done 2584 tasks      | elapsed:  3.8min\n",
      "[Parallel(n_jobs=4)]: Done 3273 tasks      | elapsed:  5.2min\n",
      "[Parallel(n_jobs=4)]: Done 4042 tasks      | elapsed:  6.6min\n",
      "[Parallel(n_jobs=4)]: Done 4893 tasks      | elapsed:  8.2min\n",
      "[Parallel(n_jobs=4)]: Done 5824 tasks      | elapsed:  9.4min\n",
      "[Parallel(n_jobs=4)]: Done 6837 tasks      | elapsed: 10.8min\n",
      "[Parallel(n_jobs=4)]: Done 7930 tasks      | elapsed: 12.6min\n",
      "[Parallel(n_jobs=4)]: Done 9105 tasks      | elapsed: 15.2min\n",
      "[Parallel(n_jobs=4)]: Done 9600 out of 9600 | elapsed: 16.4min finished\n",
      "C:\\Users\\yeohw\\anaconda3\\lib\\site-packages\\sklearn\\model_selection\\_search.py:765: DataConversionWarning: A column-vector y was passed when a 1d array was expected. Please change the shape of y to (n_samples,), for example using ravel().\n",
      "  self.best_estimator_.fit(X, y, **fit_params)\n"
     ]
    },
    {
     "data": {
      "text/plain": [
       "GridSearchCV(cv=3, estimator=RandomForestClassifier(), n_jobs=4,\n",
       "             param_grid={'bootstrap': [True, False], 'max_depth': [2, 6],\n",
       "                         'max_features': ['auto', 'sqrt'],\n",
       "                         'min_samples_leaf': [1, 2],\n",
       "                         'min_samples_split': [2, 5],\n",
       "                         'n_estimators': [100, 104, 108, 112, 116, 120, 124,\n",
       "                                          128, 132, 136, 140, 144, 148, 152,\n",
       "                                          156, 160, 164, 168, 172, 176, 180,\n",
       "                                          184, 188, 192, 196, 201, 205, 209,\n",
       "                                          213, 217, ...]},\n",
       "             verbose=2)"
      ]
     },
     "execution_count": 44,
     "metadata": {},
     "output_type": "execute_result"
    }
   ],
   "source": [
    "rf_Grid.fit(X_train, y_train)"
   ]
  },
  {
   "cell_type": "code",
   "execution_count": 45,
   "metadata": {},
   "outputs": [
    {
     "data": {
      "text/plain": [
       "{'bootstrap': True,\n",
       " 'max_depth': 6,\n",
       " 'max_features': 'sqrt',\n",
       " 'min_samples_leaf': 1,\n",
       " 'min_samples_split': 5,\n",
       " 'n_estimators': 201}"
      ]
     },
     "execution_count": 45,
     "metadata": {},
     "output_type": "execute_result"
    }
   ],
   "source": [
    "rf_Grid.best_params_"
   ]
  },
  {
   "cell_type": "code",
   "execution_count": 48,
   "metadata": {},
   "outputs": [
    {
     "name": "stdout",
     "output_type": "stream",
     "text": [
      "Goodness of Fit of Model \tTrain Dataset\n",
      "Classification Accuracy \t: 0.8266563944530047\n",
      "True Postitive Rate \t\t: 0.9704271631982475\n",
      "True Negative Rate \t\t: 0.4857142857142857\n",
      "False Negative Rate \t\t: 0.029572836801752465\n",
      "False Postitive Rate \t\t: 0.5142857142857142\n",
      "\n",
      "Goodness of Fit of Model \tTest Dataset\n",
      "Classification Accuracy \t: 0.7090069284064665\n",
      "True Postitive Rate \t\t: 0.89375\n",
      "True Negative Rate \t\t: 0.18584070796460178\n",
      "False Negative Rate \t\t: 0.10625\n",
      "False Postitive Rate \t\t: 0.8141592920353983\n",
      "\n"
     ]
    },
    {
     "data": {
      "text/plain": [
       "<AxesSubplot:>"
      ]
     },
     "execution_count": 48,
     "metadata": {},
     "output_type": "execute_result"
    },
    {
     "data": {
      "image/png": "[encoded data removed]",
      "text/plain": [
       "<Figure size 864x288 with 4 Axes>"
      ]
     },
     "metadata": {
      "needs_background": "light"
     },
     "output_type": "display_data"
    }
   ],
   "source": [
    "# Predict Response corresponding to Predictors\n",
    "y_train_pred = rf_Grid.predict(X_train)\n",
    "y_test_pred = rf_Grid.predict(X_test)\n",
    "\n",
    "train_confusion = confusion_matrix(y_train, y_train_pred)\n",
    "\n",
    "TP_train = train_confusion[1][1]\n",
    "FN_train = train_confusion[1][0]\n",
    "TN_train = train_confusion[0][0]\n",
    "FP_train = train_confusion[0][1]\n",
    "\n",
    "test_confusion = confusion_matrix(y_test, y_test_pred)\n",
    "\n",
    "TP_test = test_confusion[1][1]\n",
    "FN_test = test_confusion[1][0]\n",
    "TN_test = test_confusion[0][0]\n",
    "FP_test = test_confusion[0][1]\n",
    "\n",
    "# Check the Goodness of Fit (on Train Data)\n",
    "print(\"Goodness of Fit of Model \\tTrain Dataset\")\n",
    "print(\"Classification Accuracy \\t:\", rf_Grid.score(X_train, y_train))\n",
    "print(\"True Postitive Rate \\t\\t:\", TP_train/(TP_train+FN_train))\n",
    "print(\"True Negative Rate \\t\\t:\", TN_train/(TN_train+FP_train))\n",
    "print(\"False Negative Rate \\t\\t:\", FN_train/(FN_train+TP_train))\n",
    "print(\"False Postitive Rate \\t\\t:\", FP_train/(FP_train+TN_train))\n",
    "print()\n",
    "\n",
    "# Check the Goodness of Fit (on Test Data)\n",
    "print(\"Goodness of Fit of Model \\tTest Dataset\")\n",
    "print(\"Classification Accuracy \\t:\", rf_Grid.score(X_test, y_test))\n",
    "print(\"True Postitive Rate \\t\\t:\", TP_test/(TP_test+FN_test))\n",
    "print(\"True Negative Rate \\t\\t:\", TN_test/(TN_test+FP_test))\n",
    "print(\"False Negative Rate \\t\\t:\", FN_test/(FN_test+TP_test))\n",
    "print(\"False Postitive Rate \\t\\t:\", FP_test/(FP_test+TN_test))\n",
    "print()\n",
    "\n",
    "\n",
    "# Plot the Confusion Matrix for Train and Test\n",
    "f, axes = plt.subplots(1, 2, figsize=(12, 4))\n",
    "sb.heatmap(train_confusion,\n",
    "           annot = True, fmt=\".0f\", annot_kws={\"size\": 18}, ax = axes[0])\n",
    "sb.heatmap(test_confusion, \n",
    "           annot = True, fmt=\".0f\", annot_kws={\"size\": 18}, ax = axes[1])"
   ]
  },
  {
   "cell_type": "markdown",
   "metadata": {},
   "source": [
    "(need help here)"
   ]
  },
  {
   "cell_type": "code",
   "execution_count": null,
   "metadata": {},
   "outputs": [],
   "source": []
  }
 ],
 "metadata": {
  "kernelspec": {
   "display_name": "Python 3",
   "language": "python",
   "name": "python3"
  },
  "language_info": {
   "codemirror_mode": {
    "name": "ipython",
    "version": 3
   },
   "file_extension": ".py",
   "mimetype": "text/x-python",
   "name": "python",
   "nbconvert_exporter": "python",
   "pygments_lexer": "ipython3",
   "version": "3.8.5"
  }
 },
 "nbformat": 4,
 "nbformat_minor": 4
}
