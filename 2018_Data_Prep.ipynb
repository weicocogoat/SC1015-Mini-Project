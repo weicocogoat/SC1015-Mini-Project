{
 "cells": [
  {
   "cell_type": "code",
   "execution_count": 1,
   "metadata": {
    "collapsed": true
   },
   "outputs": [],
   "source": [
    "import pandas as pd"
   ]
  },
  {
   "cell_type": "markdown",
   "metadata": {
    "collapsed": false,
    "pycharm": {
     "name": "#%% md\n"
    }
   },
   "source": [
    "# 1. Data Preparation\n",
    "## 1.1 Import Data"
   ]
  },
  {
   "cell_type": "code",
   "execution_count": 2,
   "metadata": {
    "collapsed": false,
    "pycharm": {
     "name": "#%%\n"
    }
   },
   "outputs": [
    {
     "data": {
      "text/plain": "     Symbol       Revenue  Revenue Growth  Cost of Revenue  Gross Profit  \\\n0     CMCSA  9.450700e+10          0.1115     0.000000e+00  9.450700e+10   \n1       KMI  1.414400e+10          0.0320     7.288000e+09  6.856000e+09   \n2      INTC  7.084800e+10          0.1289     2.711100e+10  4.373700e+10   \n3        MU  3.039100e+10          0.4955     1.250000e+10  1.789100e+10   \n4        GE  1.216150e+11          0.0285     9.546100e+10  2.615400e+10   \n...     ...           ...             ...              ...           ...   \n4387   YRIV  0.000000e+00          0.0000     0.000000e+00  0.000000e+00   \n4388   YTEN  5.560000e+05         -0.4110     0.000000e+00  5.560000e+05   \n4389   ZKIN  5.488438e+07          0.2210     3.659379e+07  1.829059e+07   \n4390    ZOM  0.000000e+00          0.0000     0.000000e+00  0.000000e+00   \n4391   ZYME  5.301900e+07          0.0243     0.000000e+00  5.301900e+07   \n\n      R&D Expenses  SG&A Expense  Operating Expenses  Operating Income  \\\n0     0.000000e+00  6.482200e+10        7.549800e+10      1.900900e+10   \n1     0.000000e+00  6.010000e+08        3.062000e+09      3.794000e+09   \n2     1.354300e+10  6.750000e+09        2.042100e+10      2.331600e+10   \n3     2.141000e+09  8.130000e+08        2.897000e+09      1.499400e+10   \n4     0.000000e+00  1.811100e+10        4.071100e+10     -1.455700e+10   \n...            ...           ...                 ...               ...   \n4387  0.000000e+00  3.755251e+06        3.755251e+06     -3.755251e+06   \n4388  4.759000e+06  5.071000e+06        9.830000e+06     -9.274000e+06   \n4389  1.652633e+06  7.020320e+06        8.672953e+06      9.617636e+06   \n4390  1.031715e+07  4.521349e+06        1.664863e+07     -1.664863e+07   \n4391  5.668400e+07  2.945700e+07        8.614600e+07     -3.312700e+07   \n\n      Interest Expense  ...  Receivables growth  Inventory Growth  \\\n0         3.542000e+09  ...              0.2570            0.0000   \n1         1.917000e+09  ...              0.0345           -0.0920   \n2        -1.260000e+08  ...              0.1989            0.0387   \n3         3.420000e+08  ...              0.4573            0.1511   \n4         5.059000e+09  ...             -0.2781           -0.2892   \n...                ...  ...                 ...               ...   \n4387      1.105849e+07  ...              0.0000            0.0000   \n4388      0.000000e+00  ...              0.3445            0.0000   \n4389      1.239170e+06  ...              0.1605            0.7706   \n4390      0.000000e+00  ...              0.8980            0.0000   \n4391      1.660000e+05  ...             -0.4185            0.0000   \n\n      Asset Growth  Book Value per Share Growth  Debt Growth  \\\n0           0.3426                       0.0722       0.7309   \n1          -0.0024                       0.0076      -0.0137   \n2           0.0382                       0.1014      -0.0169   \n3           0.2275                       0.6395      -0.5841   \n4          -0.1575                      -0.4487      -0.2297   \n...            ...                          ...          ...   \n4387       -0.0508                      -0.1409      -0.0152   \n4388       -0.2323                      -0.8602       0.0000   \n4389        0.2489                       0.4074      -0.0968   \n4390        0.1568                      -0.2200       0.0000   \n4391        0.8519                       0.1325       0.0000   \n\n      R&D Expense Growth  SG&A Expenses Growth             Sector  \\\n0                 0.0000                0.1308  Consumer Cyclical   \n1                 0.0000               -0.1265             Energy   \n2                 0.0390               -0.0942         Technology   \n3                 0.1738                0.0942         Technology   \n4                 0.0000                0.0308        Industrials   \n...                  ...                   ...                ...   \n4387              0.0000               -0.2602        Real Estate   \n4388              0.0352               -0.0993    Basic Materials   \n4389              0.2415                0.8987    Basic Materials   \n4390              2.7499                0.1457        Industrials   \n4391              0.3577                0.5880         Healthcare   \n\n      PRICE VAR [%]  Class  \n0         32.794573      1  \n1         40.588068      1  \n2         30.295514      1  \n3         64.213737      1  \n4         44.757840      1  \n...             ...    ...  \n4387     -90.962099      0  \n4388     -77.922077      0  \n4389     -17.834400      0  \n4390     -73.520000      0  \n4391     209.462222      1  \n\n[4392 rows x 225 columns]",
      "text/html": "<div>\n<style scoped>\n    .dataframe tbody tr th:only-of-type {\n        vertical-align: middle;\n    }\n\n    .dataframe tbody tr th {\n        vertical-align: top;\n    }\n\n    .dataframe thead th {\n        text-align: right;\n    }\n</style>\n<table border=\"1\" class=\"dataframe\">\n  <thead>\n    <tr style=\"text-align: right;\">\n      <th></th>\n      <th>Symbol</th>\n      <th>Revenue</th>\n      <th>Revenue Growth</th>\n      <th>Cost of Revenue</th>\n      <th>Gross Profit</th>\n      <th>R&amp;D Expenses</th>\n      <th>SG&amp;A Expense</th>\n      <th>Operating Expenses</th>\n      <th>Operating Income</th>\n      <th>Interest Expense</th>\n      <th>...</th>\n      <th>Receivables growth</th>\n      <th>Inventory Growth</th>\n      <th>Asset Growth</th>\n      <th>Book Value per Share Growth</th>\n      <th>Debt Growth</th>\n      <th>R&amp;D Expense Growth</th>\n      <th>SG&amp;A Expenses Growth</th>\n      <th>Sector</th>\n      <th>PRICE VAR [%]</th>\n      <th>Class</th>\n    </tr>\n  </thead>\n  <tbody>\n    <tr>\n      <th>0</th>\n      <td>CMCSA</td>\n      <td>9.450700e+10</td>\n      <td>0.1115</td>\n      <td>0.000000e+00</td>\n      <td>9.450700e+10</td>\n      <td>0.000000e+00</td>\n      <td>6.482200e+10</td>\n      <td>7.549800e+10</td>\n      <td>1.900900e+10</td>\n      <td>3.542000e+09</td>\n      <td>...</td>\n      <td>0.2570</td>\n      <td>0.0000</td>\n      <td>0.3426</td>\n      <td>0.0722</td>\n      <td>0.7309</td>\n      <td>0.0000</td>\n      <td>0.1308</td>\n      <td>Consumer Cyclical</td>\n      <td>32.794573</td>\n      <td>1</td>\n    </tr>\n    <tr>\n      <th>1</th>\n      <td>KMI</td>\n      <td>1.414400e+10</td>\n      <td>0.0320</td>\n      <td>7.288000e+09</td>\n      <td>6.856000e+09</td>\n      <td>0.000000e+00</td>\n      <td>6.010000e+08</td>\n      <td>3.062000e+09</td>\n      <td>3.794000e+09</td>\n      <td>1.917000e+09</td>\n      <td>...</td>\n      <td>0.0345</td>\n      <td>-0.0920</td>\n      <td>-0.0024</td>\n      <td>0.0076</td>\n      <td>-0.0137</td>\n      <td>0.0000</td>\n      <td>-0.1265</td>\n      <td>Energy</td>\n      <td>40.588068</td>\n      <td>1</td>\n    </tr>\n    <tr>\n      <th>2</th>\n      <td>INTC</td>\n      <td>7.084800e+10</td>\n      <td>0.1289</td>\n      <td>2.711100e+10</td>\n      <td>4.373700e+10</td>\n      <td>1.354300e+10</td>\n      <td>6.750000e+09</td>\n      <td>2.042100e+10</td>\n      <td>2.331600e+10</td>\n      <td>-1.260000e+08</td>\n      <td>...</td>\n      <td>0.1989</td>\n      <td>0.0387</td>\n      <td>0.0382</td>\n      <td>0.1014</td>\n      <td>-0.0169</td>\n      <td>0.0390</td>\n      <td>-0.0942</td>\n      <td>Technology</td>\n      <td>30.295514</td>\n      <td>1</td>\n    </tr>\n    <tr>\n      <th>3</th>\n      <td>MU</td>\n      <td>3.039100e+10</td>\n      <td>0.4955</td>\n      <td>1.250000e+10</td>\n      <td>1.789100e+10</td>\n      <td>2.141000e+09</td>\n      <td>8.130000e+08</td>\n      <td>2.897000e+09</td>\n      <td>1.499400e+10</td>\n      <td>3.420000e+08</td>\n      <td>...</td>\n      <td>0.4573</td>\n      <td>0.1511</td>\n      <td>0.2275</td>\n      <td>0.6395</td>\n      <td>-0.5841</td>\n      <td>0.1738</td>\n      <td>0.0942</td>\n      <td>Technology</td>\n      <td>64.213737</td>\n      <td>1</td>\n    </tr>\n    <tr>\n      <th>4</th>\n      <td>GE</td>\n      <td>1.216150e+11</td>\n      <td>0.0285</td>\n      <td>9.546100e+10</td>\n      <td>2.615400e+10</td>\n      <td>0.000000e+00</td>\n      <td>1.811100e+10</td>\n      <td>4.071100e+10</td>\n      <td>-1.455700e+10</td>\n      <td>5.059000e+09</td>\n      <td>...</td>\n      <td>-0.2781</td>\n      <td>-0.2892</td>\n      <td>-0.1575</td>\n      <td>-0.4487</td>\n      <td>-0.2297</td>\n      <td>0.0000</td>\n      <td>0.0308</td>\n      <td>Industrials</td>\n      <td>44.757840</td>\n      <td>1</td>\n    </tr>\n    <tr>\n      <th>...</th>\n      <td>...</td>\n      <td>...</td>\n      <td>...</td>\n      <td>...</td>\n      <td>...</td>\n      <td>...</td>\n      <td>...</td>\n      <td>...</td>\n      <td>...</td>\n      <td>...</td>\n      <td>...</td>\n      <td>...</td>\n      <td>...</td>\n      <td>...</td>\n      <td>...</td>\n      <td>...</td>\n      <td>...</td>\n      <td>...</td>\n      <td>...</td>\n      <td>...</td>\n      <td>...</td>\n    </tr>\n    <tr>\n      <th>4387</th>\n      <td>YRIV</td>\n      <td>0.000000e+00</td>\n      <td>0.0000</td>\n      <td>0.000000e+00</td>\n      <td>0.000000e+00</td>\n      <td>0.000000e+00</td>\n      <td>3.755251e+06</td>\n      <td>3.755251e+06</td>\n      <td>-3.755251e+06</td>\n      <td>1.105849e+07</td>\n      <td>...</td>\n      <td>0.0000</td>\n      <td>0.0000</td>\n      <td>-0.0508</td>\n      <td>-0.1409</td>\n      <td>-0.0152</td>\n      <td>0.0000</td>\n      <td>-0.2602</td>\n      <td>Real Estate</td>\n      <td>-90.962099</td>\n      <td>0</td>\n    </tr>\n    <tr>\n      <th>4388</th>\n      <td>YTEN</td>\n      <td>5.560000e+05</td>\n      <td>-0.4110</td>\n      <td>0.000000e+00</td>\n      <td>5.560000e+05</td>\n      <td>4.759000e+06</td>\n      <td>5.071000e+06</td>\n      <td>9.830000e+06</td>\n      <td>-9.274000e+06</td>\n      <td>0.000000e+00</td>\n      <td>...</td>\n      <td>0.3445</td>\n      <td>0.0000</td>\n      <td>-0.2323</td>\n      <td>-0.8602</td>\n      <td>0.0000</td>\n      <td>0.0352</td>\n      <td>-0.0993</td>\n      <td>Basic Materials</td>\n      <td>-77.922077</td>\n      <td>0</td>\n    </tr>\n    <tr>\n      <th>4389</th>\n      <td>ZKIN</td>\n      <td>5.488438e+07</td>\n      <td>0.2210</td>\n      <td>3.659379e+07</td>\n      <td>1.829059e+07</td>\n      <td>1.652633e+06</td>\n      <td>7.020320e+06</td>\n      <td>8.672953e+06</td>\n      <td>9.617636e+06</td>\n      <td>1.239170e+06</td>\n      <td>...</td>\n      <td>0.1605</td>\n      <td>0.7706</td>\n      <td>0.2489</td>\n      <td>0.4074</td>\n      <td>-0.0968</td>\n      <td>0.2415</td>\n      <td>0.8987</td>\n      <td>Basic Materials</td>\n      <td>-17.834400</td>\n      <td>0</td>\n    </tr>\n    <tr>\n      <th>4390</th>\n      <td>ZOM</td>\n      <td>0.000000e+00</td>\n      <td>0.0000</td>\n      <td>0.000000e+00</td>\n      <td>0.000000e+00</td>\n      <td>1.031715e+07</td>\n      <td>4.521349e+06</td>\n      <td>1.664863e+07</td>\n      <td>-1.664863e+07</td>\n      <td>0.000000e+00</td>\n      <td>...</td>\n      <td>0.8980</td>\n      <td>0.0000</td>\n      <td>0.1568</td>\n      <td>-0.2200</td>\n      <td>0.0000</td>\n      <td>2.7499</td>\n      <td>0.1457</td>\n      <td>Industrials</td>\n      <td>-73.520000</td>\n      <td>0</td>\n    </tr>\n    <tr>\n      <th>4391</th>\n      <td>ZYME</td>\n      <td>5.301900e+07</td>\n      <td>0.0243</td>\n      <td>0.000000e+00</td>\n      <td>5.301900e+07</td>\n      <td>5.668400e+07</td>\n      <td>2.945700e+07</td>\n      <td>8.614600e+07</td>\n      <td>-3.312700e+07</td>\n      <td>1.660000e+05</td>\n      <td>...</td>\n      <td>-0.4185</td>\n      <td>0.0000</td>\n      <td>0.8519</td>\n      <td>0.1325</td>\n      <td>0.0000</td>\n      <td>0.3577</td>\n      <td>0.5880</td>\n      <td>Healthcare</td>\n      <td>209.462222</td>\n      <td>1</td>\n    </tr>\n  </tbody>\n</table>\n<p>4392 rows × 225 columns</p>\n</div>"
     },
     "execution_count": 2,
     "metadata": {},
     "output_type": "execute_result"
    }
   ],
   "source": [
    "df = pd.read_csv('2018_Financial_Data.csv')\n",
    "df.rename(columns={\"Unnamed: 0\": 'Symbol'}, inplace=True)\n",
    "df.rename(columns={\"2019 PRICE VAR [%]\": 'PRICE VAR [%]'}, inplace=True)\n",
    "df"
   ]
  },
  {
   "cell_type": "code",
   "execution_count": 3,
   "metadata": {
    "collapsed": false,
    "pycharm": {
     "name": "#%%\n"
    }
   },
   "outputs": [
    {
     "data": {
      "text/plain": "           Revenue        EBITDA  Profit Margin  returnOnEquity  \\\n0     9.450700e+10  2.932900e+10          0.124          0.1638   \n1     1.414400e+10  6.410000e+09          0.105          0.0478   \n2     7.084800e+10  3.227600e+10          0.297          0.2824   \n3     3.039100e+10  1.940400e+10          0.465          0.4377   \n4     1.216150e+11 -8.489000e+09         -0.187         -0.7216   \n...            ...           ...            ...             ...   \n4387  0.000000e+00 -3.757783e+06         -1.231         -0.0800   \n4388  5.560000e+05 -8.974000e+06        -16.493         -1.6093   \n4389  5.488438e+07  1.006324e+07          0.128          0.1895   \n4390  0.000000e+00 -1.644192e+07            NaN         -4.5523   \n4391  5.301900e+07 -3.058900e+07         -0.689         -0.2025   \n\n      Book Value per Share  Operating Cash Flow  Dividend Yield  R&D Expenses  \\\n0                   15.741         2.429700e+10          0.0269  0.000000e+00   \n1                   15.198         5.043000e+09          0.0471  0.000000e+00   \n2                   16.171         2.943200e+10          0.0256  1.354300e+10   \n3                   28.033         1.740000e+10          0.0000  2.141000e+09   \n4                    3.562         4.246000e+09          0.0508  0.000000e+00   \n...                    ...                  ...             ...           ...   \n4387                 0.994        -6.299496e+06          0.0000  0.000000e+00   \n4388                 0.574        -8.754000e+06          0.0000  4.759000e+06   \n4389                 2.722        -2.234995e+06          0.0000  1.652633e+06   \n4390                 0.039        -1.114753e+07          0.0000  1.031715e+07   \n4391                 6.205         2.417700e+07          0.0000  5.668400e+07   \n\n      PRICE VAR [%]  Class             Sector  \n0         32.794573      1  Consumer Cyclical  \n1         40.588068      1             Energy  \n2         30.295514      1         Technology  \n3         64.213737      1         Technology  \n4         44.757840      1        Industrials  \n...             ...    ...                ...  \n4387     -90.962099      0        Real Estate  \n4388     -77.922077      0    Basic Materials  \n4389     -17.834400      0    Basic Materials  \n4390     -73.520000      0        Industrials  \n4391     209.462222      1         Healthcare  \n\n[4392 rows x 11 columns]",
      "text/html": "<div>\n<style scoped>\n    .dataframe tbody tr th:only-of-type {\n        vertical-align: middle;\n    }\n\n    .dataframe tbody tr th {\n        vertical-align: top;\n    }\n\n    .dataframe thead th {\n        text-align: right;\n    }\n</style>\n<table border=\"1\" class=\"dataframe\">\n  <thead>\n    <tr style=\"text-align: right;\">\n      <th></th>\n      <th>Revenue</th>\n      <th>EBITDA</th>\n      <th>Profit Margin</th>\n      <th>returnOnEquity</th>\n      <th>Book Value per Share</th>\n      <th>Operating Cash Flow</th>\n      <th>Dividend Yield</th>\n      <th>R&amp;D Expenses</th>\n      <th>PRICE VAR [%]</th>\n      <th>Class</th>\n      <th>Sector</th>\n    </tr>\n  </thead>\n  <tbody>\n    <tr>\n      <th>0</th>\n      <td>9.450700e+10</td>\n      <td>2.932900e+10</td>\n      <td>0.124</td>\n      <td>0.1638</td>\n      <td>15.741</td>\n      <td>2.429700e+10</td>\n      <td>0.0269</td>\n      <td>0.000000e+00</td>\n      <td>32.794573</td>\n      <td>1</td>\n      <td>Consumer Cyclical</td>\n    </tr>\n    <tr>\n      <th>1</th>\n      <td>1.414400e+10</td>\n      <td>6.410000e+09</td>\n      <td>0.105</td>\n      <td>0.0478</td>\n      <td>15.198</td>\n      <td>5.043000e+09</td>\n      <td>0.0471</td>\n      <td>0.000000e+00</td>\n      <td>40.588068</td>\n      <td>1</td>\n      <td>Energy</td>\n    </tr>\n    <tr>\n      <th>2</th>\n      <td>7.084800e+10</td>\n      <td>3.227600e+10</td>\n      <td>0.297</td>\n      <td>0.2824</td>\n      <td>16.171</td>\n      <td>2.943200e+10</td>\n      <td>0.0256</td>\n      <td>1.354300e+10</td>\n      <td>30.295514</td>\n      <td>1</td>\n      <td>Technology</td>\n    </tr>\n    <tr>\n      <th>3</th>\n      <td>3.039100e+10</td>\n      <td>1.940400e+10</td>\n      <td>0.465</td>\n      <td>0.4377</td>\n      <td>28.033</td>\n      <td>1.740000e+10</td>\n      <td>0.0000</td>\n      <td>2.141000e+09</td>\n      <td>64.213737</td>\n      <td>1</td>\n      <td>Technology</td>\n    </tr>\n    <tr>\n      <th>4</th>\n      <td>1.216150e+11</td>\n      <td>-8.489000e+09</td>\n      <td>-0.187</td>\n      <td>-0.7216</td>\n      <td>3.562</td>\n      <td>4.246000e+09</td>\n      <td>0.0508</td>\n      <td>0.000000e+00</td>\n      <td>44.757840</td>\n      <td>1</td>\n      <td>Industrials</td>\n    </tr>\n    <tr>\n      <th>...</th>\n      <td>...</td>\n      <td>...</td>\n      <td>...</td>\n      <td>...</td>\n      <td>...</td>\n      <td>...</td>\n      <td>...</td>\n      <td>...</td>\n      <td>...</td>\n      <td>...</td>\n      <td>...</td>\n    </tr>\n    <tr>\n      <th>4387</th>\n      <td>0.000000e+00</td>\n      <td>-3.757783e+06</td>\n      <td>-1.231</td>\n      <td>-0.0800</td>\n      <td>0.994</td>\n      <td>-6.299496e+06</td>\n      <td>0.0000</td>\n      <td>0.000000e+00</td>\n      <td>-90.962099</td>\n      <td>0</td>\n      <td>Real Estate</td>\n    </tr>\n    <tr>\n      <th>4388</th>\n      <td>5.560000e+05</td>\n      <td>-8.974000e+06</td>\n      <td>-16.493</td>\n      <td>-1.6093</td>\n      <td>0.574</td>\n      <td>-8.754000e+06</td>\n      <td>0.0000</td>\n      <td>4.759000e+06</td>\n      <td>-77.922077</td>\n      <td>0</td>\n      <td>Basic Materials</td>\n    </tr>\n    <tr>\n      <th>4389</th>\n      <td>5.488438e+07</td>\n      <td>1.006324e+07</td>\n      <td>0.128</td>\n      <td>0.1895</td>\n      <td>2.722</td>\n      <td>-2.234995e+06</td>\n      <td>0.0000</td>\n      <td>1.652633e+06</td>\n      <td>-17.834400</td>\n      <td>0</td>\n      <td>Basic Materials</td>\n    </tr>\n    <tr>\n      <th>4390</th>\n      <td>0.000000e+00</td>\n      <td>-1.644192e+07</td>\n      <td>NaN</td>\n      <td>-4.5523</td>\n      <td>0.039</td>\n      <td>-1.114753e+07</td>\n      <td>0.0000</td>\n      <td>1.031715e+07</td>\n      <td>-73.520000</td>\n      <td>0</td>\n      <td>Industrials</td>\n    </tr>\n    <tr>\n      <th>4391</th>\n      <td>5.301900e+07</td>\n      <td>-3.058900e+07</td>\n      <td>-0.689</td>\n      <td>-0.2025</td>\n      <td>6.205</td>\n      <td>2.417700e+07</td>\n      <td>0.0000</td>\n      <td>5.668400e+07</td>\n      <td>209.462222</td>\n      <td>1</td>\n      <td>Healthcare</td>\n    </tr>\n  </tbody>\n</table>\n<p>4392 rows × 11 columns</p>\n</div>"
     },
     "execution_count": 3,
     "metadata": {},
     "output_type": "execute_result"
    }
   ],
   "source": [
    "subdf = pd.DataFrame(df[[\"Revenue\", \"EBITDA\", \"Profit Margin\", \"returnOnEquity\", \"Book Value per Share\", \"Operating Cash Flow\", \"Dividend Yield\", \"R&D Expenses\", \"PRICE VAR [%]\", \"Class\", \"Sector\"]])\n",
    "subdf"
   ]
  },
  {
   "cell_type": "markdown",
   "metadata": {
    "collapsed": false
   },
   "source": [
    "## 1.2 Check Missing Values"
   ]
  },
  {
   "cell_type": "code",
   "execution_count": 4,
   "metadata": {
    "collapsed": false,
    "pycharm": {
     "name": "#%%\n"
    }
   },
   "outputs": [
    {
     "name": "stdout",
     "output_type": "stream",
     "text": [
      "Revenue 1.05%\n",
      "EBITDA 4.17%\n",
      "Profit Margin 6.97%\n",
      "returnOnEquity 5.83%\n",
      "Book Value per Share 5.74%\n",
      "Operating Cash Flow 1.32%\n",
      "Dividend Yield 5.71%\n",
      "R&D Expenses 5.4%\n",
      "PRICE VAR [%] 0.0%\n",
      "Class 0.0%\n",
      "Sector 0.0%\n"
     ]
    }
   ],
   "source": [
    "total_size = len(subdf)\n",
    "for factor in subdf.columns:\n",
    "    nan_count = len(subdf[factor].loc[subdf[factor].isna()])\n",
    "    print(f'{factor} {round(100 * nan_count / total_size, 2)}%')"
   ]
  },
  {
   "cell_type": "markdown",
   "metadata": {
    "collapsed": false,
    "pycharm": {
     "name": "#%% md\n"
    }
   },
   "source": [
    "## 1.3 Replace Missing Values with Median"
   ]
  },
  {
   "cell_type": "code",
   "execution_count": 5,
   "metadata": {
    "collapsed": false,
    "pycharm": {
     "name": "#%%\n"
    }
   },
   "outputs": [],
   "source": [
    "# Sector, Class (last 2 columns) is Categorical\n",
    "for factor in subdf.columns[0:-2]:\n",
    "    subdf[factor].fillna(df[factor].median(), inplace=True)"
   ]
  },
  {
   "cell_type": "markdown",
   "metadata": {
    "collapsed": false,
    "pycharm": {
     "name": "#%% md\n"
    }
   },
   "source": [
    "## 1.4 Remove outliers"
   ]
  },
  {
   "cell_type": "code",
   "execution_count": 6,
   "metadata": {
    "collapsed": false,
    "pycharm": {
     "name": "#%%\n"
    }
   },
   "outputs": [
    {
     "data": {
      "text/plain": "           Revenue       EBITDA  Profit Margin  returnOnEquity  \\\n43    2.636746e+09  103792000.0         -0.004        -0.02910   \n73    5.361960e+09  853769000.0          0.073        -0.25870   \n89    1.798500e+09  412100000.0         -0.158        -0.07130   \n100   5.816440e+08  479440000.0          0.284         0.17450   \n109   1.589000e+09   84532000.0          0.044         0.07485   \n...            ...          ...            ...             ...   \n4381  6.966000e+06    3331000.0          0.305         0.06250   \n4382  2.307974e+07    6089738.0          0.080         0.06010   \n4385  3.546600e+07    5710000.0          0.031         0.01090   \n4386  0.000000e+00    2986000.0          0.044         0.35880   \n4389  5.488438e+07   10063235.0          0.128         0.18950   \n\n      Book Value per Share  Operating Cash Flow  Dividend Yield  R&D Expenses  \\\n43                   0.673          190855000.0          0.0000           0.0   \n73                  -8.191          523610000.0          0.0000           0.0   \n89                   4.204          404200000.0          0.0085    13000000.0   \n100                  4.448          427656000.0          0.0000       29000.0   \n109                  9.939          303107000.0          0.0000           0.0   \n...                    ...                  ...             ...           ...   \n4381                18.620            4573000.0          0.0193           0.0   \n4382                 9.580            2302113.0          0.0000           0.0   \n4385                 5.464            6593000.0          0.0000           0.0   \n4386                 1.618            -816000.0          0.0000       38000.0   \n4389                 2.722           -2234995.0          0.0000     1652633.0   \n\n      PRICE VAR [%]  Class              Sector  \n43       -26.687113      0          Technology  \n73       -42.583392      0   Consumer Cyclical  \n89        66.143385      1     Basic Materials  \n100       -9.197867      0              Energy  \n109      100.552499      1     Basic Materials  \n...             ...    ...                 ...  \n4381      11.671183      1  Financial Services  \n4382      -3.076927      0  Consumer Defensive  \n4385      27.118650      1   Consumer Cyclical  \n4386     -22.159090      0          Healthcare  \n4389     -17.834400      0     Basic Materials  \n\n[1731 rows x 11 columns]",
      "text/html": "<div>\n<style scoped>\n    .dataframe tbody tr th:only-of-type {\n        vertical-align: middle;\n    }\n\n    .dataframe tbody tr th {\n        vertical-align: top;\n    }\n\n    .dataframe thead th {\n        text-align: right;\n    }\n</style>\n<table border=\"1\" class=\"dataframe\">\n  <thead>\n    <tr style=\"text-align: right;\">\n      <th></th>\n      <th>Revenue</th>\n      <th>EBITDA</th>\n      <th>Profit Margin</th>\n      <th>returnOnEquity</th>\n      <th>Book Value per Share</th>\n      <th>Operating Cash Flow</th>\n      <th>Dividend Yield</th>\n      <th>R&amp;D Expenses</th>\n      <th>PRICE VAR [%]</th>\n      <th>Class</th>\n      <th>Sector</th>\n    </tr>\n  </thead>\n  <tbody>\n    <tr>\n      <th>43</th>\n      <td>2.636746e+09</td>\n      <td>103792000.0</td>\n      <td>-0.004</td>\n      <td>-0.02910</td>\n      <td>0.673</td>\n      <td>190855000.0</td>\n      <td>0.0000</td>\n      <td>0.0</td>\n      <td>-26.687113</td>\n      <td>0</td>\n      <td>Technology</td>\n    </tr>\n    <tr>\n      <th>73</th>\n      <td>5.361960e+09</td>\n      <td>853769000.0</td>\n      <td>0.073</td>\n      <td>-0.25870</td>\n      <td>-8.191</td>\n      <td>523610000.0</td>\n      <td>0.0000</td>\n      <td>0.0</td>\n      <td>-42.583392</td>\n      <td>0</td>\n      <td>Consumer Cyclical</td>\n    </tr>\n    <tr>\n      <th>89</th>\n      <td>1.798500e+09</td>\n      <td>412100000.0</td>\n      <td>-0.158</td>\n      <td>-0.07130</td>\n      <td>4.204</td>\n      <td>404200000.0</td>\n      <td>0.0085</td>\n      <td>13000000.0</td>\n      <td>66.143385</td>\n      <td>1</td>\n      <td>Basic Materials</td>\n    </tr>\n    <tr>\n      <th>100</th>\n      <td>5.816440e+08</td>\n      <td>479440000.0</td>\n      <td>0.284</td>\n      <td>0.17450</td>\n      <td>4.448</td>\n      <td>427656000.0</td>\n      <td>0.0000</td>\n      <td>29000.0</td>\n      <td>-9.197867</td>\n      <td>0</td>\n      <td>Energy</td>\n    </tr>\n    <tr>\n      <th>109</th>\n      <td>1.589000e+09</td>\n      <td>84532000.0</td>\n      <td>0.044</td>\n      <td>0.07485</td>\n      <td>9.939</td>\n      <td>303107000.0</td>\n      <td>0.0000</td>\n      <td>0.0</td>\n      <td>100.552499</td>\n      <td>1</td>\n      <td>Basic Materials</td>\n    </tr>\n    <tr>\n      <th>...</th>\n      <td>...</td>\n      <td>...</td>\n      <td>...</td>\n      <td>...</td>\n      <td>...</td>\n      <td>...</td>\n      <td>...</td>\n      <td>...</td>\n      <td>...</td>\n      <td>...</td>\n      <td>...</td>\n    </tr>\n    <tr>\n      <th>4381</th>\n      <td>6.966000e+06</td>\n      <td>3331000.0</td>\n      <td>0.305</td>\n      <td>0.06250</td>\n      <td>18.620</td>\n      <td>4573000.0</td>\n      <td>0.0193</td>\n      <td>0.0</td>\n      <td>11.671183</td>\n      <td>1</td>\n      <td>Financial Services</td>\n    </tr>\n    <tr>\n      <th>4382</th>\n      <td>2.307974e+07</td>\n      <td>6089738.0</td>\n      <td>0.080</td>\n      <td>0.06010</td>\n      <td>9.580</td>\n      <td>2302113.0</td>\n      <td>0.0000</td>\n      <td>0.0</td>\n      <td>-3.076927</td>\n      <td>0</td>\n      <td>Consumer Defensive</td>\n    </tr>\n    <tr>\n      <th>4385</th>\n      <td>3.546600e+07</td>\n      <td>5710000.0</td>\n      <td>0.031</td>\n      <td>0.01090</td>\n      <td>5.464</td>\n      <td>6593000.0</td>\n      <td>0.0000</td>\n      <td>0.0</td>\n      <td>27.118650</td>\n      <td>1</td>\n      <td>Consumer Cyclical</td>\n    </tr>\n    <tr>\n      <th>4386</th>\n      <td>0.000000e+00</td>\n      <td>2986000.0</td>\n      <td>0.044</td>\n      <td>0.35880</td>\n      <td>1.618</td>\n      <td>-816000.0</td>\n      <td>0.0000</td>\n      <td>38000.0</td>\n      <td>-22.159090</td>\n      <td>0</td>\n      <td>Healthcare</td>\n    </tr>\n    <tr>\n      <th>4389</th>\n      <td>5.488438e+07</td>\n      <td>10063235.0</td>\n      <td>0.128</td>\n      <td>0.18950</td>\n      <td>2.722</td>\n      <td>-2234995.0</td>\n      <td>0.0000</td>\n      <td>1652633.0</td>\n      <td>-17.834400</td>\n      <td>0</td>\n      <td>Basic Materials</td>\n    </tr>\n  </tbody>\n</table>\n<p>1731 rows × 11 columns</p>\n</div>"
     },
     "execution_count": 6,
     "metadata": {},
     "output_type": "execute_result"
    }
   ],
   "source": [
    "filtered_cols = []\n",
    "\n",
    "for factor in subdf.columns[0:-2]:\n",
    "    q1 = subdf[factor].quantile(0.25)\n",
    "    q3 = subdf[factor].quantile(0.75)\n",
    "    iqr = q3-q1\n",
    "    filtered_cols.append(subdf[factor].loc[(subdf[factor] >= (q1 - 1.5 * iqr)) & (subdf[factor] <= (q3 + 1.5 * iqr))])\n",
    "\n",
    "# remove stock if it is an outlier in one or more columns\n",
    "filtered_subdf = pd.concat(filtered_cols, axis=1, join='inner')\n",
    "filtered_subdf = pd.concat([filtered_subdf, subdf[['Class', 'Sector']]], axis=1, join='inner')\n",
    "\n",
    "filtered_subdf"
   ]
  },
  {
   "cell_type": "markdown",
   "metadata": {
    "collapsed": false
   },
   "source": [
    "## 1.5 Save Filtered Dataframe"
   ]
  },
  {
   "cell_type": "code",
   "execution_count": 7,
   "metadata": {
    "collapsed": false,
    "pycharm": {
     "name": "#%%\n"
    }
   },
   "outputs": [],
   "source": [
    "# filtered_subdf.to_csv('2018_filtered.csv', index=False)"
   ]
  }
 ],
 "metadata": {
  "kernelspec": {
   "display_name": "Python 3",
   "language": "python",
   "name": "python3"
  },
  "language_info": {
   "codemirror_mode": {
    "name": "ipython",
    "version": 2
   },
   "file_extension": ".py",
   "mimetype": "text/x-python",
   "name": "python",
   "nbconvert_exporter": "python",
   "pygments_lexer": "ipython2",
   "version": "2.7.6"
  }
 },
 "nbformat": 4,
 "nbformat_minor": 0
}