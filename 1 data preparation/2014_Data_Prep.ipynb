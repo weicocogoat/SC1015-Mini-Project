{
 "cells": [
  {
   "cell_type": "code",
   "execution_count": 8,
   "metadata": {
    "collapsed": true
   },
   "outputs": [],
   "source": [
    "import pandas as pd"
   ]
  },
  {
   "cell_type": "markdown",
   "metadata": {
    "collapsed": false,
    "pycharm": {
     "name": "#%% md\n"
    }
   },
   "source": [
    "# 1. Data Preparation\n",
    "## 1.1 Import Data"
   ]
  },
  {
   "cell_type": "code",
   "execution_count": 9,
   "metadata": {
    "collapsed": false,
    "pycharm": {
     "name": "#%%\n"
    }
   },
   "outputs": [
    {
     "data": {
      "text/plain": "     Symbol       Revenue  Revenue Growth  Cost of Revenue  Gross Profit  \\\n0        PG  7.440100e+10         -0.0713     3.903000e+10  3.537100e+10   \n1      VIPS  3.734148e+09          1.1737     2.805625e+09  9.285226e+08   \n2        KR  9.837500e+10          0.0182     7.813800e+10  2.023700e+10   \n3       RAD  2.552641e+10          0.0053     1.820268e+10  7.323734e+09   \n4       GIS  1.790960e+10          0.0076     1.153980e+10  6.369800e+09   \n...     ...           ...             ...              ...           ...   \n3803   TSRI  4.952987e+07          0.1028     4.125164e+07  8.278229e+06   \n3804   TZOO  1.532400e+08         -0.1019     1.917400e+07  1.340660e+08   \n3805  USATP  4.200000e+07             NaN     2.700000e+07  1.500000e+07   \n3806   WSTG  3.407580e+08          0.1344     3.159480e+08  2.481000e+07   \n3807    WTT  4.033737e+07          0.1925     2.129368e+07  1.904369e+07   \n\n      R&D Expenses  SG&A Expense  Operating Expenses  Operating Income  \\\n0     0.000000e+00  2.146100e+10        2.146100e+10      1.391000e+10   \n1     1.083303e+08  3.441414e+08        7.939267e+08      1.345959e+08   \n2     0.000000e+00  1.519600e+10        1.751200e+10      2.725000e+09   \n3     0.000000e+00  6.561162e+09        6.586482e+09      7.372520e+08   \n4     0.000000e+00  3.474300e+09        3.412400e+09      2.957400e+09   \n...            ...           ...                 ...               ...   \n3803  0.000000e+00  8.253061e+06        8.253061e+06      2.516800e+04   \n3804  1.132600e+07  1.125130e+08        1.162560e+08      1.781000e+07   \n3805           NaN  1.400000e+07        1.500000e+07      0.000000e+00   \n3806  0.000000e+00  1.651300e+07        1.651300e+07      8.297000e+06   \n3807  3.379920e+06  1.098477e+07        1.436469e+07      4.679002e+06   \n\n      Interest Expense  ...  Receivables growth  Inventory Growth  \\\n0         7.090000e+08  ...             -0.0187           -0.0217   \n1         1.214869e+07  ...                 NaN               NaN   \n2         4.430000e+08  ...              0.0618            0.0981   \n3         4.245910e+08  ...              0.0211           -0.0510   \n4         3.024000e+08  ...              0.0257            0.0090   \n...                ...  ...                 ...               ...   \n3803      0.000000e+00  ...             -0.0384            0.0000   \n3804      0.000000e+00  ...              0.1529            0.0000   \n3805      0.000000e+00  ...                 NaN               NaN   \n3806     -4.720000e+05  ...             -0.0333            0.1338   \n3807      0.000000e+00  ...             -0.0469            0.0455   \n\n      Asset Growth  Book Value per Share Growth  Debt Growth  \\\n0           0.0359                       0.0316       0.1228   \n1              NaN                          NaN          NaN   \n2           0.1886                       0.3268       0.2738   \n3          -0.0189                       0.1963      -0.0458   \n4           0.0215                       0.0274       0.1025   \n...            ...                          ...          ...   \n3803       -0.0041                      -0.0049       0.0000   \n3804       -0.1872                       0.1823       0.0000   \n3805           NaN                          NaN          NaN   \n3806        0.0023                       0.0890       0.0000   \n3807       -0.1646                      -0.0226      -0.4594   \n\n      R&D Expense Growth  SG&A Expenses Growth              Sector  \\\n0                 0.0000               -0.1746  Consumer Defensive   \n1                 1.6484                1.7313  Consumer Defensive   \n2                 0.0000                0.0234  Consumer Defensive   \n3                 0.0000               -0.0060  Consumer Defensive   \n4                 0.0000               -0.0220  Consumer Defensive   \n...                  ...                   ...                 ...   \n3803              0.0000                0.0213          Technology   \n3804              0.2830               -0.0637          Technology   \n3805                 NaN                   NaN          Technology   \n3806              0.0000                0.0650          Technology   \n3807              0.2778               -0.0268          Technology   \n\n      PRICE VAR [%]  Class  \n0         -9.323276      0  \n1        -25.512193      0  \n2         33.118297      1  \n3          2.752291      1  \n4         12.897715      1  \n...             ...    ...  \n3803      29.362884      1  \n3804     -31.167763      0  \n3805     -23.558900      0  \n3806       7.779579      1  \n3807     -34.099613      0  \n\n[3808 rows x 225 columns]",
      "text/html": "<div>\n<style scoped>\n    .dataframe tbody tr th:only-of-type {\n        vertical-align: middle;\n    }\n\n    .dataframe tbody tr th {\n        vertical-align: top;\n    }\n\n    .dataframe thead th {\n        text-align: right;\n    }\n</style>\n<table border=\"1\" class=\"dataframe\">\n  <thead>\n    <tr style=\"text-align: right;\">\n      <th></th>\n      <th>Symbol</th>\n      <th>Revenue</th>\n      <th>Revenue Growth</th>\n      <th>Cost of Revenue</th>\n      <th>Gross Profit</th>\n      <th>R&amp;D Expenses</th>\n      <th>SG&amp;A Expense</th>\n      <th>Operating Expenses</th>\n      <th>Operating Income</th>\n      <th>Interest Expense</th>\n      <th>...</th>\n      <th>Receivables growth</th>\n      <th>Inventory Growth</th>\n      <th>Asset Growth</th>\n      <th>Book Value per Share Growth</th>\n      <th>Debt Growth</th>\n      <th>R&amp;D Expense Growth</th>\n      <th>SG&amp;A Expenses Growth</th>\n      <th>Sector</th>\n      <th>PRICE VAR [%]</th>\n      <th>Class</th>\n    </tr>\n  </thead>\n  <tbody>\n    <tr>\n      <th>0</th>\n      <td>PG</td>\n      <td>7.440100e+10</td>\n      <td>-0.0713</td>\n      <td>3.903000e+10</td>\n      <td>3.537100e+10</td>\n      <td>0.000000e+00</td>\n      <td>2.146100e+10</td>\n      <td>2.146100e+10</td>\n      <td>1.391000e+10</td>\n      <td>7.090000e+08</td>\n      <td>...</td>\n      <td>-0.0187</td>\n      <td>-0.0217</td>\n      <td>0.0359</td>\n      <td>0.0316</td>\n      <td>0.1228</td>\n      <td>0.0000</td>\n      <td>-0.1746</td>\n      <td>Consumer Defensive</td>\n      <td>-9.323276</td>\n      <td>0</td>\n    </tr>\n    <tr>\n      <th>1</th>\n      <td>VIPS</td>\n      <td>3.734148e+09</td>\n      <td>1.1737</td>\n      <td>2.805625e+09</td>\n      <td>9.285226e+08</td>\n      <td>1.083303e+08</td>\n      <td>3.441414e+08</td>\n      <td>7.939267e+08</td>\n      <td>1.345959e+08</td>\n      <td>1.214869e+07</td>\n      <td>...</td>\n      <td>NaN</td>\n      <td>NaN</td>\n      <td>NaN</td>\n      <td>NaN</td>\n      <td>NaN</td>\n      <td>1.6484</td>\n      <td>1.7313</td>\n      <td>Consumer Defensive</td>\n      <td>-25.512193</td>\n      <td>0</td>\n    </tr>\n    <tr>\n      <th>2</th>\n      <td>KR</td>\n      <td>9.837500e+10</td>\n      <td>0.0182</td>\n      <td>7.813800e+10</td>\n      <td>2.023700e+10</td>\n      <td>0.000000e+00</td>\n      <td>1.519600e+10</td>\n      <td>1.751200e+10</td>\n      <td>2.725000e+09</td>\n      <td>4.430000e+08</td>\n      <td>...</td>\n      <td>0.0618</td>\n      <td>0.0981</td>\n      <td>0.1886</td>\n      <td>0.3268</td>\n      <td>0.2738</td>\n      <td>0.0000</td>\n      <td>0.0234</td>\n      <td>Consumer Defensive</td>\n      <td>33.118297</td>\n      <td>1</td>\n    </tr>\n    <tr>\n      <th>3</th>\n      <td>RAD</td>\n      <td>2.552641e+10</td>\n      <td>0.0053</td>\n      <td>1.820268e+10</td>\n      <td>7.323734e+09</td>\n      <td>0.000000e+00</td>\n      <td>6.561162e+09</td>\n      <td>6.586482e+09</td>\n      <td>7.372520e+08</td>\n      <td>4.245910e+08</td>\n      <td>...</td>\n      <td>0.0211</td>\n      <td>-0.0510</td>\n      <td>-0.0189</td>\n      <td>0.1963</td>\n      <td>-0.0458</td>\n      <td>0.0000</td>\n      <td>-0.0060</td>\n      <td>Consumer Defensive</td>\n      <td>2.752291</td>\n      <td>1</td>\n    </tr>\n    <tr>\n      <th>4</th>\n      <td>GIS</td>\n      <td>1.790960e+10</td>\n      <td>0.0076</td>\n      <td>1.153980e+10</td>\n      <td>6.369800e+09</td>\n      <td>0.000000e+00</td>\n      <td>3.474300e+09</td>\n      <td>3.412400e+09</td>\n      <td>2.957400e+09</td>\n      <td>3.024000e+08</td>\n      <td>...</td>\n      <td>0.0257</td>\n      <td>0.0090</td>\n      <td>0.0215</td>\n      <td>0.0274</td>\n      <td>0.1025</td>\n      <td>0.0000</td>\n      <td>-0.0220</td>\n      <td>Consumer Defensive</td>\n      <td>12.897715</td>\n      <td>1</td>\n    </tr>\n    <tr>\n      <th>...</th>\n      <td>...</td>\n      <td>...</td>\n      <td>...</td>\n      <td>...</td>\n      <td>...</td>\n      <td>...</td>\n      <td>...</td>\n      <td>...</td>\n      <td>...</td>\n      <td>...</td>\n      <td>...</td>\n      <td>...</td>\n      <td>...</td>\n      <td>...</td>\n      <td>...</td>\n      <td>...</td>\n      <td>...</td>\n      <td>...</td>\n      <td>...</td>\n      <td>...</td>\n      <td>...</td>\n    </tr>\n    <tr>\n      <th>3803</th>\n      <td>TSRI</td>\n      <td>4.952987e+07</td>\n      <td>0.1028</td>\n      <td>4.125164e+07</td>\n      <td>8.278229e+06</td>\n      <td>0.000000e+00</td>\n      <td>8.253061e+06</td>\n      <td>8.253061e+06</td>\n      <td>2.516800e+04</td>\n      <td>0.000000e+00</td>\n      <td>...</td>\n      <td>-0.0384</td>\n      <td>0.0000</td>\n      <td>-0.0041</td>\n      <td>-0.0049</td>\n      <td>0.0000</td>\n      <td>0.0000</td>\n      <td>0.0213</td>\n      <td>Technology</td>\n      <td>29.362884</td>\n      <td>1</td>\n    </tr>\n    <tr>\n      <th>3804</th>\n      <td>TZOO</td>\n      <td>1.532400e+08</td>\n      <td>-0.1019</td>\n      <td>1.917400e+07</td>\n      <td>1.340660e+08</td>\n      <td>1.132600e+07</td>\n      <td>1.125130e+08</td>\n      <td>1.162560e+08</td>\n      <td>1.781000e+07</td>\n      <td>0.000000e+00</td>\n      <td>...</td>\n      <td>0.1529</td>\n      <td>0.0000</td>\n      <td>-0.1872</td>\n      <td>0.1823</td>\n      <td>0.0000</td>\n      <td>0.2830</td>\n      <td>-0.0637</td>\n      <td>Technology</td>\n      <td>-31.167763</td>\n      <td>0</td>\n    </tr>\n    <tr>\n      <th>3805</th>\n      <td>USATP</td>\n      <td>4.200000e+07</td>\n      <td>NaN</td>\n      <td>2.700000e+07</td>\n      <td>1.500000e+07</td>\n      <td>NaN</td>\n      <td>1.400000e+07</td>\n      <td>1.500000e+07</td>\n      <td>0.000000e+00</td>\n      <td>0.000000e+00</td>\n      <td>...</td>\n      <td>NaN</td>\n      <td>NaN</td>\n      <td>NaN</td>\n      <td>NaN</td>\n      <td>NaN</td>\n      <td>NaN</td>\n      <td>NaN</td>\n      <td>Technology</td>\n      <td>-23.558900</td>\n      <td>0</td>\n    </tr>\n    <tr>\n      <th>3806</th>\n      <td>WSTG</td>\n      <td>3.407580e+08</td>\n      <td>0.1344</td>\n      <td>3.159480e+08</td>\n      <td>2.481000e+07</td>\n      <td>0.000000e+00</td>\n      <td>1.651300e+07</td>\n      <td>1.651300e+07</td>\n      <td>8.297000e+06</td>\n      <td>-4.720000e+05</td>\n      <td>...</td>\n      <td>-0.0333</td>\n      <td>0.1338</td>\n      <td>0.0023</td>\n      <td>0.0890</td>\n      <td>0.0000</td>\n      <td>0.0000</td>\n      <td>0.0650</td>\n      <td>Technology</td>\n      <td>7.779579</td>\n      <td>1</td>\n    </tr>\n    <tr>\n      <th>3807</th>\n      <td>WTT</td>\n      <td>4.033737e+07</td>\n      <td>0.1925</td>\n      <td>2.129368e+07</td>\n      <td>1.904369e+07</td>\n      <td>3.379920e+06</td>\n      <td>1.098477e+07</td>\n      <td>1.436469e+07</td>\n      <td>4.679002e+06</td>\n      <td>0.000000e+00</td>\n      <td>...</td>\n      <td>-0.0469</td>\n      <td>0.0455</td>\n      <td>-0.1646</td>\n      <td>-0.0226</td>\n      <td>-0.4594</td>\n      <td>0.2778</td>\n      <td>-0.0268</td>\n      <td>Technology</td>\n      <td>-34.099613</td>\n      <td>0</td>\n    </tr>\n  </tbody>\n</table>\n<p>3808 rows × 225 columns</p>\n</div>"
     },
     "execution_count": 9,
     "metadata": {},
     "output_type": "execute_result"
    }
   ],
   "source": [
    "df = pd.read_csv('2014_Financial_Data.csv')\n",
    "df.rename(columns={\"Unnamed: 0\": 'Symbol'}, inplace=True)\n",
    "df.rename(columns={\"2015 PRICE VAR [%]\": 'PRICE VAR [%]'}, inplace=True)\n",
    "df"
   ]
  },
  {
   "cell_type": "code",
   "execution_count": 10,
   "metadata": {
    "collapsed": false,
    "pycharm": {
     "name": "#%%\n"
    }
   },
   "outputs": [
    {
     "data": {
      "text/plain": "           Revenue        EBITDA  Profit Margin  returnOnEquity  \\\n0     7.440100e+10  1.834400e+10       0.156000          0.1664   \n1     3.734148e+09  2.456858e+08       0.005800          0.3294   \n2     9.837500e+10  4.416000e+09       0.015000          0.2821   \n3     2.552641e+10  1.078550e+09       0.008000         -0.1180   \n4     1.790960e+10  3.595500e+09       0.102000          0.2792   \n...            ...           ...            ...             ...   \n3803  4.952987e+07 -5.321300e+04      -0.002000         -0.0097   \n3804  1.532400e+08  2.088700e+07       0.085000          0.3646   \n3805  4.200000e+07  6.000000e+06       0.666667             NaN   \n3806  3.407580e+08  8.512000e+06       0.017000          0.1456   \n3807  4.033737e+07  4.959141e+06       0.060000          0.0721   \n\n      Book Value per Share  Operating Cash Flow  Dividend Yield  R&D Expenses  \\\n0                  25.8600         1.395800e+10          0.0311  0.000000e+00   \n1                   0.7278         5.267456e+08          0.0000  1.083303e+08   \n2                   5.2370         3.573000e+09          0.0174  0.000000e+00   \n3                 -43.7380         7.020460e+08          0.0000  0.000000e+00   \n4                  10.6340         2.541000e+09          0.0286  0.000000e+00   \n...                    ...                  ...             ...           ...   \n3803                4.5050         5.239870e+05          0.0000  0.000000e+00   \n3804                2.4260        -1.587000e+06          0.0000  1.132600e+07   \n3805                   NaN         7.000000e+06             NaN           NaN   \n3806                8.4890         5.745000e+06          0.0395  0.000000e+00   \n3807                1.6450         4.012331e+06          0.0000  3.379920e+06   \n\n      PRICE VAR [%]  Class              Sector  \n0         -9.323276      0  Consumer Defensive  \n1        -25.512193      0  Consumer Defensive  \n2         33.118297      1  Consumer Defensive  \n3          2.752291      1  Consumer Defensive  \n4         12.897715      1  Consumer Defensive  \n...             ...    ...                 ...  \n3803      29.362884      1          Technology  \n3804     -31.167763      0          Technology  \n3805     -23.558900      0          Technology  \n3806       7.779579      1          Technology  \n3807     -34.099613      0          Technology  \n\n[3808 rows x 11 columns]",
      "text/html": "<div>\n<style scoped>\n    .dataframe tbody tr th:only-of-type {\n        vertical-align: middle;\n    }\n\n    .dataframe tbody tr th {\n        vertical-align: top;\n    }\n\n    .dataframe thead th {\n        text-align: right;\n    }\n</style>\n<table border=\"1\" class=\"dataframe\">\n  <thead>\n    <tr style=\"text-align: right;\">\n      <th></th>\n      <th>Revenue</th>\n      <th>EBITDA</th>\n      <th>Profit Margin</th>\n      <th>returnOnEquity</th>\n      <th>Book Value per Share</th>\n      <th>Operating Cash Flow</th>\n      <th>Dividend Yield</th>\n      <th>R&amp;D Expenses</th>\n      <th>PRICE VAR [%]</th>\n      <th>Class</th>\n      <th>Sector</th>\n    </tr>\n  </thead>\n  <tbody>\n    <tr>\n      <th>0</th>\n      <td>7.440100e+10</td>\n      <td>1.834400e+10</td>\n      <td>0.156000</td>\n      <td>0.1664</td>\n      <td>25.8600</td>\n      <td>1.395800e+10</td>\n      <td>0.0311</td>\n      <td>0.000000e+00</td>\n      <td>-9.323276</td>\n      <td>0</td>\n      <td>Consumer Defensive</td>\n    </tr>\n    <tr>\n      <th>1</th>\n      <td>3.734148e+09</td>\n      <td>2.456858e+08</td>\n      <td>0.005800</td>\n      <td>0.3294</td>\n      <td>0.7278</td>\n      <td>5.267456e+08</td>\n      <td>0.0000</td>\n      <td>1.083303e+08</td>\n      <td>-25.512193</td>\n      <td>0</td>\n      <td>Consumer Defensive</td>\n    </tr>\n    <tr>\n      <th>2</th>\n      <td>9.837500e+10</td>\n      <td>4.416000e+09</td>\n      <td>0.015000</td>\n      <td>0.2821</td>\n      <td>5.2370</td>\n      <td>3.573000e+09</td>\n      <td>0.0174</td>\n      <td>0.000000e+00</td>\n      <td>33.118297</td>\n      <td>1</td>\n      <td>Consumer Defensive</td>\n    </tr>\n    <tr>\n      <th>3</th>\n      <td>2.552641e+10</td>\n      <td>1.078550e+09</td>\n      <td>0.008000</td>\n      <td>-0.1180</td>\n      <td>-43.7380</td>\n      <td>7.020460e+08</td>\n      <td>0.0000</td>\n      <td>0.000000e+00</td>\n      <td>2.752291</td>\n      <td>1</td>\n      <td>Consumer Defensive</td>\n    </tr>\n    <tr>\n      <th>4</th>\n      <td>1.790960e+10</td>\n      <td>3.595500e+09</td>\n      <td>0.102000</td>\n      <td>0.2792</td>\n      <td>10.6340</td>\n      <td>2.541000e+09</td>\n      <td>0.0286</td>\n      <td>0.000000e+00</td>\n      <td>12.897715</td>\n      <td>1</td>\n      <td>Consumer Defensive</td>\n    </tr>\n    <tr>\n      <th>...</th>\n      <td>...</td>\n      <td>...</td>\n      <td>...</td>\n      <td>...</td>\n      <td>...</td>\n      <td>...</td>\n      <td>...</td>\n      <td>...</td>\n      <td>...</td>\n      <td>...</td>\n      <td>...</td>\n    </tr>\n    <tr>\n      <th>3803</th>\n      <td>4.952987e+07</td>\n      <td>-5.321300e+04</td>\n      <td>-0.002000</td>\n      <td>-0.0097</td>\n      <td>4.5050</td>\n      <td>5.239870e+05</td>\n      <td>0.0000</td>\n      <td>0.000000e+00</td>\n      <td>29.362884</td>\n      <td>1</td>\n      <td>Technology</td>\n    </tr>\n    <tr>\n      <th>3804</th>\n      <td>1.532400e+08</td>\n      <td>2.088700e+07</td>\n      <td>0.085000</td>\n      <td>0.3646</td>\n      <td>2.4260</td>\n      <td>-1.587000e+06</td>\n      <td>0.0000</td>\n      <td>1.132600e+07</td>\n      <td>-31.167763</td>\n      <td>0</td>\n      <td>Technology</td>\n    </tr>\n    <tr>\n      <th>3805</th>\n      <td>4.200000e+07</td>\n      <td>6.000000e+06</td>\n      <td>0.666667</td>\n      <td>NaN</td>\n      <td>NaN</td>\n      <td>7.000000e+06</td>\n      <td>NaN</td>\n      <td>NaN</td>\n      <td>-23.558900</td>\n      <td>0</td>\n      <td>Technology</td>\n    </tr>\n    <tr>\n      <th>3806</th>\n      <td>3.407580e+08</td>\n      <td>8.512000e+06</td>\n      <td>0.017000</td>\n      <td>0.1456</td>\n      <td>8.4890</td>\n      <td>5.745000e+06</td>\n      <td>0.0395</td>\n      <td>0.000000e+00</td>\n      <td>7.779579</td>\n      <td>1</td>\n      <td>Technology</td>\n    </tr>\n    <tr>\n      <th>3807</th>\n      <td>4.033737e+07</td>\n      <td>4.959141e+06</td>\n      <td>0.060000</td>\n      <td>0.0721</td>\n      <td>1.6450</td>\n      <td>4.012331e+06</td>\n      <td>0.0000</td>\n      <td>3.379920e+06</td>\n      <td>-34.099613</td>\n      <td>0</td>\n      <td>Technology</td>\n    </tr>\n  </tbody>\n</table>\n<p>3808 rows × 11 columns</p>\n</div>"
     },
     "execution_count": 10,
     "metadata": {},
     "output_type": "execute_result"
    }
   ],
   "source": [
    "subdf = pd.DataFrame(df[[\"Revenue\", \"EBITDA\", \"Profit Margin\", \"returnOnEquity\", \"Book Value per Share\", \"Operating Cash Flow\", \"Dividend Yield\", \"R&D Expenses\", \"PRICE VAR [%]\", \"Class\", \"Sector\"]])\n",
    "subdf"
   ]
  },
  {
   "cell_type": "markdown",
   "metadata": {
    "collapsed": false
   },
   "source": [
    "## 1.2 Check Missing Values"
   ]
  },
  {
   "cell_type": "code",
   "execution_count": 11,
   "metadata": {
    "collapsed": false,
    "pycharm": {
     "name": "#%%\n"
    }
   },
   "outputs": [
    {
     "name": "stdout",
     "output_type": "stream",
     "text": [
      "Revenue 1.16%\n",
      "EBITDA 1.68%\n",
      "Profit Margin 5.28%\n",
      "returnOnEquity 5.04%\n",
      "Book Value per Share 6.07%\n",
      "Operating Cash Flow 1.05%\n",
      "Dividend Yield 4.04%\n",
      "R&D Expenses 3.57%\n",
      "PRICE VAR [%] 0.0%\n",
      "Class 0.0%\n",
      "Sector 0.0%\n"
     ]
    }
   ],
   "source": [
    "total_size = len(subdf)\n",
    "for factor in subdf.columns:\n",
    "    nan_count = len(subdf[factor].loc[subdf[factor].isna()])\n",
    "    print(f'{factor} {round(100 * nan_count / total_size, 2)}%')"
   ]
  },
  {
   "cell_type": "markdown",
   "metadata": {
    "collapsed": false,
    "pycharm": {
     "name": "#%% md\n"
    }
   },
   "source": [
    "## 1.3 Replace Missing Values with Median"
   ]
  },
  {
   "cell_type": "code",
   "execution_count": 12,
   "metadata": {
    "collapsed": false,
    "pycharm": {
     "name": "#%%\n"
    }
   },
   "outputs": [],
   "source": [
    "# Sector, Class (last 2 columns) is Categorical\n",
    "for factor in subdf.columns[0:-2]:\n",
    "    subdf[factor].fillna(df[factor].median(), inplace=True)"
   ]
  },
  {
   "cell_type": "markdown",
   "metadata": {
    "collapsed": false,
    "pycharm": {
     "name": "#%% md\n"
    }
   },
   "source": [
    "## 1.4 Remove outliers"
   ]
  },
  {
   "cell_type": "code",
   "execution_count": 13,
   "metadata": {
    "collapsed": false,
    "pycharm": {
     "name": "#%%\n"
    }
   },
   "outputs": [
    {
     "data": {
      "text/plain": "           Revenue       EBITDA  Profit Margin  returnOnEquity  \\\n14    5.727000e+09  683400000.0          0.066          0.2041   \n22    4.551600e+09  241900000.0         -0.021         -0.1154   \n23    2.464867e+09  771439000.0          0.196          0.3189   \n30    3.297600e+09  743500000.0          0.126          0.1969   \n32    5.973810e+08  183876000.0          0.122          0.1289   \n...            ...          ...            ...             ...   \n3802  1.185080e+08    9650000.0          0.034          0.1324   \n3803  4.952987e+07     -53213.0         -0.002         -0.0097   \n3804  1.532400e+08   20887000.0          0.085          0.3646   \n3806  3.407580e+08    8512000.0          0.017          0.1456   \n3807  4.033737e+07    4959141.0          0.060          0.0721   \n\n      Book Value per Share  Operating Cash Flow  Dividend Yield  R&D Expenses  \\\n14                   6.706          634100000.0          0.0173           0.0   \n22                   2.211          536500000.0          0.0117           0.0   \n23                   3.020          597491000.0          0.0000           0.0   \n30                   7.779          540300000.0          0.0157           0.0   \n32                  10.909          111582000.0          0.0000           0.0   \n...                    ...                  ...             ...           ...   \n3802                 4.249            7612000.0          0.0000           0.0   \n3803                 4.505             523987.0          0.0000           0.0   \n3804                 2.426           -1587000.0          0.0000    11326000.0   \n3806                 8.489            5745000.0          0.0395           0.0   \n3807                 1.645            4012331.0          0.0000     3379920.0   \n\n      PRICE VAR [%]  Class              Sector  \n14        18.603845      1  Consumer Defensive  \n22        26.681241      1  Consumer Defensive  \n23        37.721889      1  Consumer Defensive  \n30        10.792636      1  Consumer Defensive  \n32        49.607672      1  Consumer Defensive  \n...             ...    ...                 ...  \n3802      -2.453386      0          Technology  \n3803      29.362884      1          Technology  \n3804     -31.167763      0          Technology  \n3806       7.779579      1          Technology  \n3807     -34.099613      0          Technology  \n\n[1521 rows x 11 columns]",
      "text/html": "<div>\n<style scoped>\n    .dataframe tbody tr th:only-of-type {\n        vertical-align: middle;\n    }\n\n    .dataframe tbody tr th {\n        vertical-align: top;\n    }\n\n    .dataframe thead th {\n        text-align: right;\n    }\n</style>\n<table border=\"1\" class=\"dataframe\">\n  <thead>\n    <tr style=\"text-align: right;\">\n      <th></th>\n      <th>Revenue</th>\n      <th>EBITDA</th>\n      <th>Profit Margin</th>\n      <th>returnOnEquity</th>\n      <th>Book Value per Share</th>\n      <th>Operating Cash Flow</th>\n      <th>Dividend Yield</th>\n      <th>R&amp;D Expenses</th>\n      <th>PRICE VAR [%]</th>\n      <th>Class</th>\n      <th>Sector</th>\n    </tr>\n  </thead>\n  <tbody>\n    <tr>\n      <th>14</th>\n      <td>5.727000e+09</td>\n      <td>683400000.0</td>\n      <td>0.066</td>\n      <td>0.2041</td>\n      <td>6.706</td>\n      <td>634100000.0</td>\n      <td>0.0173</td>\n      <td>0.0</td>\n      <td>18.603845</td>\n      <td>1</td>\n      <td>Consumer Defensive</td>\n    </tr>\n    <tr>\n      <th>22</th>\n      <td>4.551600e+09</td>\n      <td>241900000.0</td>\n      <td>-0.021</td>\n      <td>-0.1154</td>\n      <td>2.211</td>\n      <td>536500000.0</td>\n      <td>0.0117</td>\n      <td>0.0</td>\n      <td>26.681241</td>\n      <td>1</td>\n      <td>Consumer Defensive</td>\n    </tr>\n    <tr>\n      <th>23</th>\n      <td>2.464867e+09</td>\n      <td>771439000.0</td>\n      <td>0.196</td>\n      <td>0.3189</td>\n      <td>3.020</td>\n      <td>597491000.0</td>\n      <td>0.0000</td>\n      <td>0.0</td>\n      <td>37.721889</td>\n      <td>1</td>\n      <td>Consumer Defensive</td>\n    </tr>\n    <tr>\n      <th>30</th>\n      <td>3.297600e+09</td>\n      <td>743500000.0</td>\n      <td>0.126</td>\n      <td>0.1969</td>\n      <td>7.779</td>\n      <td>540300000.0</td>\n      <td>0.0157</td>\n      <td>0.0</td>\n      <td>10.792636</td>\n      <td>1</td>\n      <td>Consumer Defensive</td>\n    </tr>\n    <tr>\n      <th>32</th>\n      <td>5.973810e+08</td>\n      <td>183876000.0</td>\n      <td>0.122</td>\n      <td>0.1289</td>\n      <td>10.909</td>\n      <td>111582000.0</td>\n      <td>0.0000</td>\n      <td>0.0</td>\n      <td>49.607672</td>\n      <td>1</td>\n      <td>Consumer Defensive</td>\n    </tr>\n    <tr>\n      <th>...</th>\n      <td>...</td>\n      <td>...</td>\n      <td>...</td>\n      <td>...</td>\n      <td>...</td>\n      <td>...</td>\n      <td>...</td>\n      <td>...</td>\n      <td>...</td>\n      <td>...</td>\n      <td>...</td>\n    </tr>\n    <tr>\n      <th>3802</th>\n      <td>1.185080e+08</td>\n      <td>9650000.0</td>\n      <td>0.034</td>\n      <td>0.1324</td>\n      <td>4.249</td>\n      <td>7612000.0</td>\n      <td>0.0000</td>\n      <td>0.0</td>\n      <td>-2.453386</td>\n      <td>0</td>\n      <td>Technology</td>\n    </tr>\n    <tr>\n      <th>3803</th>\n      <td>4.952987e+07</td>\n      <td>-53213.0</td>\n      <td>-0.002</td>\n      <td>-0.0097</td>\n      <td>4.505</td>\n      <td>523987.0</td>\n      <td>0.0000</td>\n      <td>0.0</td>\n      <td>29.362884</td>\n      <td>1</td>\n      <td>Technology</td>\n    </tr>\n    <tr>\n      <th>3804</th>\n      <td>1.532400e+08</td>\n      <td>20887000.0</td>\n      <td>0.085</td>\n      <td>0.3646</td>\n      <td>2.426</td>\n      <td>-1587000.0</td>\n      <td>0.0000</td>\n      <td>11326000.0</td>\n      <td>-31.167763</td>\n      <td>0</td>\n      <td>Technology</td>\n    </tr>\n    <tr>\n      <th>3806</th>\n      <td>3.407580e+08</td>\n      <td>8512000.0</td>\n      <td>0.017</td>\n      <td>0.1456</td>\n      <td>8.489</td>\n      <td>5745000.0</td>\n      <td>0.0395</td>\n      <td>0.0</td>\n      <td>7.779579</td>\n      <td>1</td>\n      <td>Technology</td>\n    </tr>\n    <tr>\n      <th>3807</th>\n      <td>4.033737e+07</td>\n      <td>4959141.0</td>\n      <td>0.060</td>\n      <td>0.0721</td>\n      <td>1.645</td>\n      <td>4012331.0</td>\n      <td>0.0000</td>\n      <td>3379920.0</td>\n      <td>-34.099613</td>\n      <td>0</td>\n      <td>Technology</td>\n    </tr>\n  </tbody>\n</table>\n<p>1521 rows × 11 columns</p>\n</div>"
     },
     "execution_count": 13,
     "metadata": {},
     "output_type": "execute_result"
    }
   ],
   "source": [
    "filtered_cols = []\n",
    "\n",
    "for factor in subdf.columns[0:-2]:\n",
    "    q1 = subdf[factor].quantile(0.25)\n",
    "    q3 = subdf[factor].quantile(0.75)\n",
    "    iqr = q3-q1\n",
    "    filtered_cols.append(subdf[factor].loc[(subdf[factor] >= (q1 - 1.5 * iqr)) & (subdf[factor] <= (q3 + 1.5 * iqr))])\n",
    "\n",
    "# remove stock if it is an outlier in one or more columns\n",
    "filtered_subdf = pd.concat(filtered_cols, axis=1, join='inner')\n",
    "filtered_subdf = pd.concat([filtered_subdf, subdf[['Class', 'Sector']]], axis=1, join='inner')\n",
    "\n",
    "filtered_subdf"
   ]
  },
  {
   "cell_type": "markdown",
   "metadata": {
    "collapsed": false
   },
   "source": [
    "## 1.5 Save Filtered Dataframe"
   ]
  },
  {
   "cell_type": "code",
   "execution_count": 14,
   "metadata": {
    "collapsed": false,
    "pycharm": {
     "name": "#%%\n"
    }
   },
   "outputs": [],
   "source": [
    "filtered_subdf.to_csv('2014_After_DataPrep.csv', index=False)"
   ]
  }
 ],
 "metadata": {
  "kernelspec": {
   "display_name": "Python 3",
   "language": "python",
   "name": "python3"
  },
  "language_info": {
   "codemirror_mode": {
    "name": "ipython",
    "version": 2
   },
   "file_extension": ".py",
   "mimetype": "text/x-python",
   "name": "python",
   "nbconvert_exporter": "python",
   "pygments_lexer": "ipython2",
   "version": "2.7.6"
  }
 },
 "nbformat": 4,
 "nbformat_minor": 0
}