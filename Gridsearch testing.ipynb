{
 "cells": [
  {
   "cell_type": "code",
   "execution_count": 1,
   "metadata": {},
   "outputs": [],
   "source": [
    "import numpy as np\n",
    "import pandas as pd\n",
    "import seaborn as sb\n",
    "import matplotlib.pyplot as plt\n",
    "\n",
    "from sklearn.linear_model import LinearRegression\n",
    "from sklearn.model_selection import train_test_split\n",
    "from sklearn.metrics import mean_squared_error\n",
    "from sklearn.metrics import confusion_matrix\n",
    "# Import RandomForestClassifier model from Scikit-Learn\n",
    "from sklearn.ensemble import RandomForestClassifier"
   ]
  },
  {
   "cell_type": "code",
   "execution_count": 2,
   "metadata": {},
   "outputs": [
    {
     "data": {
      "text/html": [
       "<div>\n",
       "<style scoped>\n",
       "    .dataframe tbody tr th:only-of-type {\n",
       "        vertical-align: middle;\n",
       "    }\n",
       "\n",
       "    .dataframe tbody tr th {\n",
       "        vertical-align: top;\n",
       "    }\n",
       "\n",
       "    .dataframe thead th {\n",
       "        text-align: right;\n",
       "    }\n",
       "</style>\n",
       "<table border=\"1\" class=\"dataframe\">\n",
       "  <thead>\n",
       "    <tr style=\"text-align: right;\">\n",
       "      <th></th>\n",
       "      <th>Revenue</th>\n",
       "      <th>EBITDA</th>\n",
       "      <th>Profit Margin</th>\n",
       "      <th>returnOnEquity</th>\n",
       "      <th>Book Value per Share</th>\n",
       "      <th>Operating Cash Flow</th>\n",
       "      <th>Dividend Yield</th>\n",
       "      <th>R&amp;D Expenses</th>\n",
       "      <th>PRICE VAR [%]</th>\n",
       "      <th>Class</th>\n",
       "      <th>Sector</th>\n",
       "    </tr>\n",
       "  </thead>\n",
       "  <tbody>\n",
       "    <tr>\n",
       "      <th>0</th>\n",
       "      <td>2.636746e+09</td>\n",
       "      <td>103792000.0</td>\n",
       "      <td>-0.004</td>\n",
       "      <td>-0.02910</td>\n",
       "      <td>0.673</td>\n",
       "      <td>190855000.0</td>\n",
       "      <td>0.0000</td>\n",
       "      <td>0.0</td>\n",
       "      <td>-26.687113</td>\n",
       "      <td>0</td>\n",
       "      <td>Technology</td>\n",
       "    </tr>\n",
       "    <tr>\n",
       "      <th>1</th>\n",
       "      <td>5.361960e+09</td>\n",
       "      <td>853769000.0</td>\n",
       "      <td>0.073</td>\n",
       "      <td>-0.25870</td>\n",
       "      <td>-8.191</td>\n",
       "      <td>523610000.0</td>\n",
       "      <td>0.0000</td>\n",
       "      <td>0.0</td>\n",
       "      <td>-42.583392</td>\n",
       "      <td>0</td>\n",
       "      <td>Consumer Cyclical</td>\n",
       "    </tr>\n",
       "    <tr>\n",
       "      <th>2</th>\n",
       "      <td>1.798500e+09</td>\n",
       "      <td>412100000.0</td>\n",
       "      <td>-0.158</td>\n",
       "      <td>-0.07130</td>\n",
       "      <td>4.204</td>\n",
       "      <td>404200000.0</td>\n",
       "      <td>0.0085</td>\n",
       "      <td>13000000.0</td>\n",
       "      <td>66.143385</td>\n",
       "      <td>1</td>\n",
       "      <td>Basic Materials</td>\n",
       "    </tr>\n",
       "    <tr>\n",
       "      <th>3</th>\n",
       "      <td>5.816440e+08</td>\n",
       "      <td>479440000.0</td>\n",
       "      <td>0.284</td>\n",
       "      <td>0.17450</td>\n",
       "      <td>4.448</td>\n",
       "      <td>427656000.0</td>\n",
       "      <td>0.0000</td>\n",
       "      <td>29000.0</td>\n",
       "      <td>-9.197867</td>\n",
       "      <td>0</td>\n",
       "      <td>Energy</td>\n",
       "    </tr>\n",
       "    <tr>\n",
       "      <th>4</th>\n",
       "      <td>1.589000e+09</td>\n",
       "      <td>84532000.0</td>\n",
       "      <td>0.044</td>\n",
       "      <td>0.07485</td>\n",
       "      <td>9.939</td>\n",
       "      <td>303107000.0</td>\n",
       "      <td>0.0000</td>\n",
       "      <td>0.0</td>\n",
       "      <td>100.552499</td>\n",
       "      <td>1</td>\n",
       "      <td>Basic Materials</td>\n",
       "    </tr>\n",
       "    <tr>\n",
       "      <th>...</th>\n",
       "      <td>...</td>\n",
       "      <td>...</td>\n",
       "      <td>...</td>\n",
       "      <td>...</td>\n",
       "      <td>...</td>\n",
       "      <td>...</td>\n",
       "      <td>...</td>\n",
       "      <td>...</td>\n",
       "      <td>...</td>\n",
       "      <td>...</td>\n",
       "      <td>...</td>\n",
       "    </tr>\n",
       "    <tr>\n",
       "      <th>1726</th>\n",
       "      <td>6.966000e+06</td>\n",
       "      <td>3331000.0</td>\n",
       "      <td>0.305</td>\n",
       "      <td>0.06250</td>\n",
       "      <td>18.620</td>\n",
       "      <td>4573000.0</td>\n",
       "      <td>0.0193</td>\n",
       "      <td>0.0</td>\n",
       "      <td>11.671183</td>\n",
       "      <td>1</td>\n",
       "      <td>Financial Services</td>\n",
       "    </tr>\n",
       "    <tr>\n",
       "      <th>1727</th>\n",
       "      <td>2.307974e+07</td>\n",
       "      <td>6089738.0</td>\n",
       "      <td>0.080</td>\n",
       "      <td>0.06010</td>\n",
       "      <td>9.580</td>\n",
       "      <td>2302113.0</td>\n",
       "      <td>0.0000</td>\n",
       "      <td>0.0</td>\n",
       "      <td>-3.076927</td>\n",
       "      <td>0</td>\n",
       "      <td>Consumer Defensive</td>\n",
       "    </tr>\n",
       "    <tr>\n",
       "      <th>1728</th>\n",
       "      <td>3.546600e+07</td>\n",
       "      <td>5710000.0</td>\n",
       "      <td>0.031</td>\n",
       "      <td>0.01090</td>\n",
       "      <td>5.464</td>\n",
       "      <td>6593000.0</td>\n",
       "      <td>0.0000</td>\n",
       "      <td>0.0</td>\n",
       "      <td>27.118650</td>\n",
       "      <td>1</td>\n",
       "      <td>Consumer Cyclical</td>\n",
       "    </tr>\n",
       "    <tr>\n",
       "      <th>1729</th>\n",
       "      <td>0.000000e+00</td>\n",
       "      <td>2986000.0</td>\n",
       "      <td>0.044</td>\n",
       "      <td>0.35880</td>\n",
       "      <td>1.618</td>\n",
       "      <td>-816000.0</td>\n",
       "      <td>0.0000</td>\n",
       "      <td>38000.0</td>\n",
       "      <td>-22.159090</td>\n",
       "      <td>0</td>\n",
       "      <td>Healthcare</td>\n",
       "    </tr>\n",
       "    <tr>\n",
       "      <th>1730</th>\n",
       "      <td>5.488438e+07</td>\n",
       "      <td>10063235.0</td>\n",
       "      <td>0.128</td>\n",
       "      <td>0.18950</td>\n",
       "      <td>2.722</td>\n",
       "      <td>-2234995.0</td>\n",
       "      <td>0.0000</td>\n",
       "      <td>1652633.0</td>\n",
       "      <td>-17.834400</td>\n",
       "      <td>0</td>\n",
       "      <td>Basic Materials</td>\n",
       "    </tr>\n",
       "  </tbody>\n",
       "</table>\n",
       "<p>1731 rows × 11 columns</p>\n",
       "</div>"
      ],
      "text/plain": [
       "           Revenue       EBITDA  Profit Margin  returnOnEquity  \\\n",
       "0     2.636746e+09  103792000.0         -0.004        -0.02910   \n",
       "1     5.361960e+09  853769000.0          0.073        -0.25870   \n",
       "2     1.798500e+09  412100000.0         -0.158        -0.07130   \n",
       "3     5.816440e+08  479440000.0          0.284         0.17450   \n",
       "4     1.589000e+09   84532000.0          0.044         0.07485   \n",
       "...            ...          ...            ...             ...   \n",
       "1726  6.966000e+06    3331000.0          0.305         0.06250   \n",
       "1727  2.307974e+07    6089738.0          0.080         0.06010   \n",
       "1728  3.546600e+07    5710000.0          0.031         0.01090   \n",
       "1729  0.000000e+00    2986000.0          0.044         0.35880   \n",
       "1730  5.488438e+07   10063235.0          0.128         0.18950   \n",
       "\n",
       "      Book Value per Share  Operating Cash Flow  Dividend Yield  R&D Expenses  \\\n",
       "0                    0.673          190855000.0          0.0000           0.0   \n",
       "1                   -8.191          523610000.0          0.0000           0.0   \n",
       "2                    4.204          404200000.0          0.0085    13000000.0   \n",
       "3                    4.448          427656000.0          0.0000       29000.0   \n",
       "4                    9.939          303107000.0          0.0000           0.0   \n",
       "...                    ...                  ...             ...           ...   \n",
       "1726                18.620            4573000.0          0.0193           0.0   \n",
       "1727                 9.580            2302113.0          0.0000           0.0   \n",
       "1728                 5.464            6593000.0          0.0000           0.0   \n",
       "1729                 1.618            -816000.0          0.0000       38000.0   \n",
       "1730                 2.722           -2234995.0          0.0000     1652633.0   \n",
       "\n",
       "      PRICE VAR [%]  Class              Sector  \n",
       "0        -26.687113      0          Technology  \n",
       "1        -42.583392      0   Consumer Cyclical  \n",
       "2         66.143385      1     Basic Materials  \n",
       "3         -9.197867      0              Energy  \n",
       "4        100.552499      1     Basic Materials  \n",
       "...             ...    ...                 ...  \n",
       "1726      11.671183      1  Financial Services  \n",
       "1727      -3.076927      0  Consumer Defensive  \n",
       "1728      27.118650      1   Consumer Cyclical  \n",
       "1729     -22.159090      0          Healthcare  \n",
       "1730     -17.834400      0     Basic Materials  \n",
       "\n",
       "[1731 rows x 11 columns]"
      ]
     },
     "execution_count": 2,
     "metadata": {},
     "output_type": "execute_result"
    }
   ],
   "source": [
    "df = pd.read_csv('2018_filtered.txt')\n",
    "df"
   ]
  },
  {
   "cell_type": "code",
   "execution_count": 3,
   "metadata": {},
   "outputs": [],
   "source": [
    "y = pd.DataFrame(df[\"Class\"])\n",
    "\n",
    "predictors = pd.DataFrame(df[[\"Revenue\", \"EBITDA\", \"Profit Margin\", \"returnOnEquity\", \"Book Value per Share\", \n",
    "                                 \"Operating Cash Flow\", \"Dividend Yield\", \"R&D Expenses\"]])\n",
    "X = predictors\n",
    "\n",
    "X_train, X_test, y_train, y_test = train_test_split(X, y, test_size = 0.25)"
   ]
  },
  {
   "cell_type": "code",
   "execution_count": 4,
   "metadata": {},
   "outputs": [],
   "source": [
    "# Create the param grid\n",
    "param_grid = {'n_estimators': [int(x) for x in np.linspace(start = 100, stop = 500, num = 100)],\n",
    "               'max_features': ['auto', 'sqrt'],\n",
    "               'max_depth': [2,6],\n",
    "               'min_samples_split': [2, 5],\n",
    "               'min_samples_leaf': [1, 2],\n",
    "               'bootstrap': [True, False]}\n"
   ]
  },
  {
   "cell_type": "code",
   "execution_count": 5,
   "metadata": {},
   "outputs": [],
   "source": [
    "rf_Model = RandomForestClassifier()"
   ]
  },
  {
   "cell_type": "code",
   "execution_count": 6,
   "metadata": {},
   "outputs": [],
   "source": [
    "from sklearn.model_selection import GridSearchCV\n",
    "rf_Grid = GridSearchCV(estimator = rf_Model, param_grid = param_grid, cv = 3, verbose=2, n_jobs = 4)"
   ]
  },
  {
   "cell_type": "code",
   "execution_count": 7,
   "metadata": {},
   "outputs": [
    {
     "name": "stdout",
     "output_type": "stream",
     "text": [
      "Fitting 3 folds for each of 3200 candidates, totalling 9600 fits\n"
     ]
    },
    {
     "name": "stderr",
     "output_type": "stream",
     "text": [
      "[Parallel(n_jobs=4)]: Using backend LokyBackend with 4 concurrent workers.\n",
      "[Parallel(n_jobs=4)]: Done  33 tasks      | elapsed:    2.9s\n",
      "[Parallel(n_jobs=4)]: Done 154 tasks      | elapsed:   10.8s\n",
      "[Parallel(n_jobs=4)]: Done 357 tasks      | elapsed:   30.8s\n",
      "[Parallel(n_jobs=4)]: Done 640 tasks      | elapsed:   57.1s\n",
      "[Parallel(n_jobs=4)]: Done 1005 tasks      | elapsed:  1.5min\n",
      "[Parallel(n_jobs=4)]: Done 1450 tasks      | elapsed:  2.1min\n",
      "[Parallel(n_jobs=4)]: Done 1977 tasks      | elapsed:  2.9min\n",
      "[Parallel(n_jobs=4)]: Done 2584 tasks      | elapsed:  3.8min\n",
      "[Parallel(n_jobs=4)]: Done 3273 tasks      | elapsed:  5.2min\n",
      "[Parallel(n_jobs=4)]: Done 4042 tasks      | elapsed:  6.5min\n",
      "[Parallel(n_jobs=4)]: Done 4893 tasks      | elapsed:  8.0min\n",
      "[Parallel(n_jobs=4)]: Done 5824 tasks      | elapsed:  9.2min\n",
      "[Parallel(n_jobs=4)]: Done 6837 tasks      | elapsed: 10.5min\n",
      "[Parallel(n_jobs=4)]: Done 7930 tasks      | elapsed: 12.2min\n",
      "[Parallel(n_jobs=4)]: Done 9105 tasks      | elapsed: 14.3min\n",
      "[Parallel(n_jobs=4)]: Done 9600 out of 9600 | elapsed: 15.3min finished\n",
      "C:\\Users\\yeohw\\anaconda3\\lib\\site-packages\\sklearn\\model_selection\\_search.py:765: DataConversionWarning: A column-vector y was passed when a 1d array was expected. Please change the shape of y to (n_samples,), for example using ravel().\n",
      "  self.best_estimator_.fit(X, y, **fit_params)\n"
     ]
    },
    {
     "data": {
      "text/plain": [
       "GridSearchCV(cv=3, estimator=RandomForestClassifier(), n_jobs=4,\n",
       "             param_grid={'bootstrap': [True, False], 'max_depth': [2, 6],\n",
       "                         'max_features': ['auto', 'sqrt'],\n",
       "                         'min_samples_leaf': [1, 2],\n",
       "                         'min_samples_split': [2, 5],\n",
       "                         'n_estimators': [100, 104, 108, 112, 116, 120, 124,\n",
       "                                          128, 132, 136, 140, 144, 148, 152,\n",
       "                                          156, 160, 164, 168, 172, 176, 180,\n",
       "                                          184, 188, 192, 196, 201, 205, 209,\n",
       "                                          213, 217, ...]},\n",
       "             verbose=2)"
      ]
     },
     "execution_count": 7,
     "metadata": {},
     "output_type": "execute_result"
    }
   ],
   "source": [
    "rf_Grid.fit(X_train, y_train)"
   ]
  },
  {
   "cell_type": "code",
   "execution_count": 10,
   "metadata": {},
   "outputs": [
    {
     "data": {
      "text/plain": [
       "{'bootstrap': True,\n",
       " 'max_depth': 2,\n",
       " 'max_features': 'sqrt',\n",
       " 'min_samples_leaf': 1,\n",
       " 'min_samples_split': 2,\n",
       " 'n_estimators': 180}"
      ]
     },
     "execution_count": 10,
     "metadata": {},
     "output_type": "execute_result"
    }
   ],
   "source": [
    "rf_Grid.best_params_"
   ]
  },
  {
   "cell_type": "code",
   "execution_count": 11,
   "metadata": {},
   "outputs": [
    {
     "name": "stdout",
     "output_type": "stream",
     "text": [
      "Train Accuracy - : 0.715\n",
      "Test Accuracy - : 0.741\n"
     ]
    }
   ],
   "source": [
    "print (f'Train Accuracy - : {rf_Grid.score(X_train,y_train):.3f}')\n",
    "print (f'Test Accuracy - : {rf_Grid.score(X_test,y_test):.3f}')"
   ]
  },
  {
   "cell_type": "code",
   "execution_count": 16,
   "metadata": {},
   "outputs": [
    {
     "name": "stdout",
     "output_type": "stream",
     "text": [
      "Goodness of Fit of Model \tTrain Dataset\n",
      "Classification Accuracy \t: 0.7149460708782742\n",
      "True Postitive Rate \t\t: 0.9683406113537117\n",
      "True Negative Rate \t\t: 0.10732984293193717\n",
      "False Negative Rate \t\t: 0.03165938864628821\n",
      "False Postitive Rate \t\t: 0.8926701570680629\n",
      "\n",
      "Goodness of Fit of Model \tTest Dataset\n",
      "Classification Accuracy \t: 0.7413394919168591\n",
      "True Postitive Rate \t\t: 0.9747634069400631\n",
      "True Negative Rate \t\t: 0.10344827586206896\n",
      "False Negative Rate \t\t: 0.025236593059936908\n",
      "False Postitive Rate \t\t: 0.896551724137931\n",
      "\n"
     ]
    },
    {
     "data": {
      "text/plain": [
       "<AxesSubplot:>"
      ]
     },
     "execution_count": 16,
     "metadata": {},
     "output_type": "execute_result"
    },
    {
     "data": {
      "image/png": "[encoded data removed]",
      "text/plain": [
       "<Figure size 864x288 with 4 Axes>"
      ]
     },
     "metadata": {
      "needs_background": "light"
     },
     "output_type": "display_data"
    }
   ],
   "source": [
    "# Predict Response corresponding to Predictors\n",
    "y_train_pred = rf_Grid.predict(X_train)\n",
    "y_test_pred = rf_Grid.predict(X_test)\n",
    "\n",
    "train_confusion = confusion_matrix(y_train, y_train_pred)\n",
    "\n",
    "TP_train = train_confusion[1][1]\n",
    "FN_train = train_confusion[1][0]\n",
    "TN_train = train_confusion[0][0]\n",
    "FP_train = train_confusion[0][1]\n",
    "\n",
    "test_confusion = confusion_matrix(y_test, y_test_pred)\n",
    "\n",
    "TP_test = test_confusion[1][1]\n",
    "FN_test = test_confusion[1][0]\n",
    "TN_test = test_confusion[0][0]\n",
    "FP_test = test_confusion[0][1]\n",
    "\n",
    "# Check the Goodness of Fit (on Train Data)\n",
    "print(\"Goodness of Fit of Model \\tTrain Dataset\")\n",
    "print(\"Classification Accuracy \\t:\", rf_Grid.score(X_train, y_train))\n",
    "print(\"True Postitive Rate \\t\\t:\", TP_train/(TP_train+FN_train))\n",
    "print(\"True Negative Rate \\t\\t:\", TN_train/(TN_train+FP_train))\n",
    "print(\"False Negative Rate \\t\\t:\", FN_train/(FN_train+TP_train))\n",
    "print(\"False Postitive Rate \\t\\t:\", FP_train/(FP_train+TN_train))\n",
    "print()\n",
    "\n",
    "# Check the Goodness of Fit (on Test Data)\n",
    "print(\"Goodness of Fit of Model \\tTest Dataset\")\n",
    "print(\"Classification Accuracy \\t:\", rf_Grid.score(X_test, y_test))\n",
    "print(\"True Postitive Rate \\t\\t:\", TP_test/(TP_test+FN_test))\n",
    "print(\"True Negative Rate \\t\\t:\", TN_test/(TN_test+FP_test))\n",
    "print(\"False Negative Rate \\t\\t:\", FN_test/(FN_test+TP_test))\n",
    "print(\"False Postitive Rate \\t\\t:\", FP_test/(FP_test+TN_test))\n",
    "print()\n",
    "\n",
    "\n",
    "# Plot the Confusion Matrix for Train and Test\n",
    "f, axes = plt.subplots(1, 2, figsize=(12, 4))\n",
    "sb.heatmap(train_confusion,\n",
    "           annot = True, fmt=\".0f\", annot_kws={\"size\": 18}, ax = axes[0])\n",
    "sb.heatmap(test_confusion, \n",
    "           annot = True, fmt=\".0f\", annot_kws={\"size\": 18}, ax = axes[1])"
   ]
  },
  {
   "cell_type": "code",
   "execution_count": null,
   "metadata": {},
   "outputs": [],
   "source": []
  }
 ],
 "metadata": {
  "kernelspec": {
   "display_name": "Python 3",
   "language": "python",
   "name": "python3"
  },
  "language_info": {
   "codemirror_mode": {
    "name": "ipython",
    "version": 3
   },
   "file_extension": ".py",
   "mimetype": "text/x-python",
   "name": "python",
   "nbconvert_exporter": "python",
   "pygments_lexer": "ipython3",
   "version": "3.8.5"
  }
 },
 "nbformat": 4,
 "nbformat_minor": 4
}
